{
 "cells": [
  {
   "cell_type": "code",
   "execution_count": 1,
   "metadata": {},
   "outputs": [],
   "source": [
    "import os\n",
    "import pandas as pd\n",
    "import numpy as np\n",
    "\n",
    "# 导入PySpark\n",
    "from pyspark import SparkContext\n",
    "from pyspark.sql import SparkSession\n",
    "\n",
    "# 导入pyspark 的部分函数\n",
    "from pyspark.sql.functions import col, min, max, avg, lit\n",
    "\n",
    "# 导入pyspark 的机器学习相关的一些包\n",
    "from pyspark.ml.recommendation import ALS \n",
    "from pyspark.ml.tuning import ParamGridBuilder, CrossValidator # Cross-Validation\n",
    "from pyspark.ml.evaluation import RegressionEvaluator # Performance metric\n",
    "import seaborn as sns\n",
    "import matplotlib.pyplot as plt\n",
    "\n",
    "from IPython.core.interactiveshell import InteractiveShell\n",
    "InteractiveShell.ast_node_interactivity = \"all\"\n",
    "\n",
    "pd.set_option('display.max_columns', 200)\n",
    "pd.set_option('display.max_colwidth', 400)"
   ]
  },
  {
   "cell_type": "code",
   "execution_count": 2,
   "metadata": {
    "run_control": {
     "marked": true
    }
   },
   "outputs": [],
   "source": [
    "import os\n",
    "### bin文件所在的路径  C:\\Program Files\\Java\\jdk-14.0.1\\bin\n",
    "os.environ['JAVA_HOME'] = 'C:\\Program Files\\Java\\jdk-14.0.1'  # 这里的路径为java的bin目录所在路径"
   ]
  },
  {
   "cell_type": "markdown",
   "metadata": {},
   "source": [
    "SparkContext是开发Spark应用的入口，它负责和整个集群的交互，包括创建RDD等。\n",
    "从本质上来说，SparkContext是Spark的对外接口，负责向调用这提供Spark的各种功能。"
   ]
  },
  {
   "cell_type": "code",
   "execution_count": 3,
   "metadata": {},
   "outputs": [],
   "source": [
    "from pyspark import SparkContext \n",
    "from pyspark.sql import SQLContext"
   ]
  },
  {
   "cell_type": "code",
   "execution_count": 4,
   "metadata": {},
   "outputs": [
    {
     "name": "stdout",
     "output_type": "stream",
     "text": [
      "<SparkContext master=local[*] appName=Book-Recommendation>\n"
     ]
    }
   ],
   "source": [
    "sc = SparkContext(appName = \"Book-Recommendation\")\n",
    "print(sc)"
   ]
  },
  {
   "cell_type": "markdown",
   "metadata": {},
   "source": [
    "#### 默认创建spark对话"
   ]
  },
  {
   "cell_type": "code",
   "execution_count": 5,
   "metadata": {},
   "outputs": [],
   "source": [
    "spark = SparkSession.Builder().getOrCreate()"
   ]
  },
  {
   "cell_type": "code",
   "execution_count": 6,
   "metadata": {},
   "outputs": [
    {
     "name": "stdout",
     "output_type": "stream",
     "text": [
      "<class 'pyspark.sql.dataframe.DataFrame'>\n"
     ]
    }
   ],
   "source": [
    "ratings = spark.read.csv('./input/ratings.csv',\n",
    "                         header = True,\n",
    "                         inferSchema=True)\n",
    "print(type(ratings))"
   ]
  },
  {
   "cell_type": "code",
   "execution_count": 7,
   "metadata": {},
   "outputs": [
    {
     "name": "stdout",
     "output_type": "stream",
     "text": [
      "+------+-------+------+---------+\n",
      "|userId|movieId|rating|timestamp|\n",
      "+------+-------+------+---------+\n",
      "|     1|      1|   4.0|964982703|\n",
      "|     1|      3|   4.0|964981247|\n",
      "|     1|      6|   4.0|964982224|\n",
      "|     1|     47|   5.0|964983815|\n",
      "+------+-------+------+---------+\n",
      "only showing top 4 rows\n",
      "\n"
     ]
    }
   ],
   "source": [
    "ratings.show(4)"
   ]
  },
  {
   "cell_type": "code",
   "execution_count": 10,
   "metadata": {},
   "outputs": [
    {
     "name": "stdout",
     "output_type": "stream",
     "text": [
      "+------+-------+------+\n",
      "|userId|movieId|rating|\n",
      "+------+-------+------+\n",
      "|     1|      1|   4.0|\n",
      "|     1|      3|   4.0|\n",
      "|     1|      6|   4.0|\n",
      "|     1|     47|   5.0|\n",
      "+------+-------+------+\n",
      "only showing top 4 rows\n",
      "\n"
     ]
    }
   ],
   "source": [
    "## 删除timestamp列\n",
    "ratings = ratings.drop('timestamp')\n",
    "ratings.show(4)"
   ]
  },
  {
   "cell_type": "code",
   "execution_count": 12,
   "metadata": {},
   "outputs": [
    {
     "data": {
      "text/plain": [
       "[Row(userId=1, movieId=1, rating=4.0),\n",
       " Row(userId=1, movieId=3, rating=4.0),\n",
       " Row(userId=1, movieId=6, rating=4.0),\n",
       " Row(userId=1, movieId=47, rating=5.0)]"
      ]
     },
     "execution_count": 12,
     "metadata": {},
     "output_type": "execute_result"
    }
   ],
   "source": [
    "## 显示头几行，默认显示1行\n",
    "ratings.head(4)"
   ]
  },
  {
   "cell_type": "code",
   "execution_count": null,
   "metadata": {},
   "outputs": [],
   "source": []
  },
  {
   "cell_type": "raw",
   "metadata": {},
   "source": [
    "ratings.head()"
   ]
  },
  {
   "cell_type": "raw",
   "metadata": {},
   "source": [
    "# Read csv\n",
    "to_read = spark.read.csv('./input/to_read.csv',\n",
    "                         header = True,\n",
    "                         inferSchema=True)\n",
    "print(type(to_read))"
   ]
  },
  {
   "cell_type": "raw",
   "metadata": {},
   "source": [
    "to_read.show(4)"
   ]
  },
  {
   "cell_type": "code",
   "execution_count": null,
   "metadata": {},
   "outputs": [],
   "source": []
  },
  {
   "cell_type": "markdown",
   "metadata": {},
   "source": [
    "### 显示ratings的相关的信息"
   ]
  },
  {
   "cell_type": "markdown",
   "metadata": {},
   "source": [
    "##### 查看数据结构"
   ]
  },
  {
   "cell_type": "code",
   "execution_count": 14,
   "metadata": {},
   "outputs": [
    {
     "name": "stdout",
     "output_type": "stream",
     "text": [
      "root\n",
      " |-- userId: integer (nullable = true)\n",
      " |-- movieId: integer (nullable = true)\n",
      " |-- rating: double (nullable = true)\n",
      "\n"
     ]
    }
   ],
   "source": [
    "ratings.printSchema()"
   ]
  },
  {
   "cell_type": "markdown",
   "metadata": {},
   "source": [
    "##### 显示前几行"
   ]
  },
  {
   "cell_type": "code",
   "execution_count": 15,
   "metadata": {},
   "outputs": [
    {
     "name": "stdout",
     "output_type": "stream",
     "text": [
      "+------+-------+------+\n",
      "|userId|movieId|rating|\n",
      "+------+-------+------+\n",
      "|     1|      1|   4.0|\n",
      "|     1|      3|   4.0|\n",
      "|     1|      6|   4.0|\n",
      "|     1|     47|   5.0|\n",
      "|     1|     50|   5.0|\n",
      "|     1|     70|   3.0|\n",
      "|     1|    101|   5.0|\n",
      "|     1|    110|   4.0|\n",
      "|     1|    151|   5.0|\n",
      "|     1|    157|   5.0|\n",
      "+------+-------+------+\n",
      "only showing top 10 rows\n",
      "\n"
     ]
    }
   ],
   "source": [
    "ratings.show(10)"
   ]
  },
  {
   "cell_type": "code",
   "execution_count": 18,
   "metadata": {},
   "outputs": [
    {
     "name": "stdout",
     "output_type": "stream",
     "text": [
      "+------+-------+------+\n",
      "|userId|movieId|rating|\n",
      "+------+-------+------+\n",
      "|     1|      1|   4.0|\n",
      "|     1|      3|   4.0|\n",
      "|     1|      6|   4.0|\n",
      "|     1|     47|   5.0|\n",
      "|     1|     50|   5.0|\n",
      "|     1|     70|   3.0|\n",
      "|     1|    101|   5.0|\n",
      "|     1|    110|   4.0|\n",
      "|     1|    151|   5.0|\n",
      "|     1|    157|   5.0|\n",
      "+------+-------+------+\n",
      "\n"
     ]
    }
   ],
   "source": [
    "## 限制数据的条数，并显示，显示大于实际行数，以实际行数为准\n",
    "ratings.limit(10).show(11)"
   ]
  },
  {
   "cell_type": "code",
   "execution_count": 19,
   "metadata": {},
   "outputs": [
    {
     "name": "stdout",
     "output_type": "stream",
     "text": [
      "+------+------+-------+\n",
      "|rating|userId|movieId|\n",
      "+------+------+-------+\n",
      "|   4.0|     1|      1|\n",
      "|   4.0|     1|      3|\n",
      "|   4.0|     1|      6|\n",
      "|   5.0|     1|     47|\n",
      "|   5.0|     1|     50|\n",
      "|   3.0|     1|     70|\n",
      "|   5.0|     1|    101|\n",
      "|   4.0|     1|    110|\n",
      "|   5.0|     1|    151|\n",
      "|   5.0|     1|    157|\n",
      "|   5.0|     1|    163|\n",
      "|   5.0|     1|    216|\n",
      "|   3.0|     1|    223|\n",
      "|   5.0|     1|    231|\n",
      "|   4.0|     1|    235|\n",
      "|   5.0|     1|    260|\n",
      "|   3.0|     1|    296|\n",
      "|   3.0|     1|    316|\n",
      "|   5.0|     1|    333|\n",
      "|   4.0|     1|    349|\n",
      "+------+------+-------+\n",
      "only showing top 20 rows\n",
      "\n"
     ]
    }
   ],
   "source": [
    "### 选择数据，并显示(默认显示20行)\n",
    "ratings.select('rating','userId','movieId').show()"
   ]
  },
  {
   "cell_type": "code",
   "execution_count": 20,
   "metadata": {},
   "outputs": [
    {
     "name": "stdout",
     "output_type": "stream",
     "text": [
      "+------+-------+\n",
      "|rating|movieId|\n",
      "+------+-------+\n",
      "|   4.0|      1|\n",
      "|   4.0|      3|\n",
      "|   4.0|      6|\n",
      "|   5.0|     47|\n",
      "|   5.0|     50|\n",
      "|   3.0|     70|\n",
      "|   5.0|    101|\n",
      "|   4.0|    110|\n",
      "|   5.0|    151|\n",
      "|   5.0|    157|\n",
      "+------+-------+\n",
      "only showing top 10 rows\n",
      "\n"
     ]
    }
   ],
   "source": [
    "### 选择数据，并显示(默认显示20行)\n",
    "ratings.select('rating','movieId').show(10)"
   ]
  },
  {
   "cell_type": "markdown",
   "metadata": {},
   "source": [
    "#### 对数据做描述性统计分析"
   ]
  },
  {
   "cell_type": "code",
   "execution_count": 21,
   "metadata": {},
   "outputs": [
    {
     "name": "stdout",
     "output_type": "stream",
     "text": [
      "+-------+------------------+----------------+------------------+\n",
      "|summary|            userId|         movieId|            rating|\n",
      "+-------+------------------+----------------+------------------+\n",
      "|  count|            100836|          100836|            100836|\n",
      "|   mean|326.12756356856676|19435.2957177992| 3.501556983616962|\n",
      "| stddev| 182.6184914635004|35530.9871987003|1.0425292390606342|\n",
      "|    min|                 1|               1|               0.5|\n",
      "|    25%|               177|            1199|               3.0|\n",
      "|    50%|               325|            2991|               3.5|\n",
      "|    75%|               477|            8092|               4.0|\n",
      "|    max|               610|          193609|               5.0|\n",
      "+-------+------------------+----------------+------------------+\n",
      "\n"
     ]
    }
   ],
   "source": [
    "ratings.summary().show()"
   ]
  },
  {
   "cell_type": "code",
   "execution_count": 22,
   "metadata": {},
   "outputs": [
    {
     "name": "stdout",
     "output_type": "stream",
     "text": [
      "+-------+------------------+\n",
      "|summary|            rating|\n",
      "+-------+------------------+\n",
      "|  count|            100836|\n",
      "|   mean| 3.501556983616962|\n",
      "| stddev|1.0425292390606342|\n",
      "|    min|               0.5|\n",
      "|    25%|               3.0|\n",
      "|    50%|               3.5|\n",
      "|    75%|               4.0|\n",
      "|    max|               5.0|\n",
      "+-------+------------------+\n",
      "\n"
     ]
    }
   ],
   "source": [
    "ratings.select('rating').summary().show()"
   ]
  },
  {
   "cell_type": "markdown",
   "metadata": {},
   "source": [
    "#### 查看数据的行数，列数"
   ]
  },
  {
   "cell_type": "code",
   "execution_count": 23,
   "metadata": {},
   "outputs": [
    {
     "name": "stdout",
     "output_type": "stream",
     "text": [
      "Number of rows: \t 100836\n",
      "Number of columns: \t 3\n"
     ]
    }
   ],
   "source": [
    "print('Number of rows: \\t', ratings.count())\n",
    "print('Number of columns: \\t', len(ratings.columns))"
   ]
  },
  {
   "cell_type": "code",
   "execution_count": 25,
   "metadata": {},
   "outputs": [
    {
     "data": {
      "text/plain": [
       "['userId', 'movieId', 'rating']"
      ]
     },
     "execution_count": 25,
     "metadata": {},
     "output_type": "execute_result"
    }
   ],
   "source": [
    "ratings.columns"
   ]
  },
  {
   "cell_type": "markdown",
   "metadata": {},
   "source": [
    "#### 查看观众及电影的出现次数"
   ]
  },
  {
   "cell_type": "code",
   "execution_count": 27,
   "metadata": {},
   "outputs": [
    {
     "name": "stdout",
     "output_type": "stream",
     "text": [
      "+------+-----+\n",
      "|userId|count|\n",
      "+------+-----+\n",
      "|   148|   48|\n",
      "|   463|   33|\n",
      "|   471|   28|\n",
      "|   496|   29|\n",
      "|   243|   36|\n",
      "|   392|   25|\n",
      "|   540|   42|\n",
      "|    31|   50|\n",
      "|   516|   26|\n",
      "|    85|   34|\n",
      "+------+-----+\n",
      "only showing top 10 rows\n",
      "\n"
     ]
    }
   ],
   "source": [
    "ratings.groupBy('userId').count().show(10)"
   ]
  },
  {
   "cell_type": "code",
   "execution_count": 28,
   "metadata": {},
   "outputs": [
    {
     "name": "stdout",
     "output_type": "stream",
     "text": [
      "+-------+-----+\n",
      "|movieId|count|\n",
      "+-------+-----+\n",
      "|   1580|  165|\n",
      "|   2366|   25|\n",
      "|   3175|   75|\n",
      "|   1088|   42|\n",
      "|  32460|    4|\n",
      "|  44022|   23|\n",
      "|  96488|    4|\n",
      "|   1238|    9|\n",
      "|   1342|   11|\n",
      "|   1591|   26|\n",
      "+-------+-----+\n",
      "only showing top 10 rows\n",
      "\n"
     ]
    }
   ],
   "source": [
    "ratings.groupBy('movieId').count().show(10)"
   ]
  },
  {
   "cell_type": "code",
   "execution_count": 29,
   "metadata": {},
   "outputs": [
    {
     "name": "stdout",
     "output_type": "stream",
     "text": [
      "+------+------------------+\n",
      "|userId|       avg(rating)|\n",
      "+------+------------------+\n",
      "|   148|3.7395833333333335|\n",
      "|   463| 3.787878787878788|\n",
      "|   471|             3.875|\n",
      "|   496| 3.413793103448276|\n",
      "|   243| 4.138888888888889|\n",
      "|   392|               3.2|\n",
      "|   540|               4.0|\n",
      "|    31|              3.92|\n",
      "|   516|3.6923076923076925|\n",
      "|    85|3.7058823529411766|\n",
      "+------+------------------+\n",
      "only showing top 10 rows\n",
      "\n"
     ]
    }
   ],
   "source": [
    "### 计算观众的平均评分\n",
    "ratings.groupBy('userId').mean('rating').show(10)"
   ]
  },
  {
   "cell_type": "code",
   "execution_count": 30,
   "metadata": {},
   "outputs": [
    {
     "name": "stdout",
     "output_type": "stream",
     "text": [
      "+-------+------------------+\n",
      "|movieId|       avg(rating)|\n",
      "+-------+------------------+\n",
      "|   1580| 3.487878787878788|\n",
      "|   2366|              3.64|\n",
      "|   3175|              3.58|\n",
      "|   1088| 3.369047619047619|\n",
      "|  32460|              4.25|\n",
      "|  44022| 3.217391304347826|\n",
      "|  96488|              4.25|\n",
      "|   1238| 4.055555555555555|\n",
      "|   1342|               2.5|\n",
      "|   1591|2.6346153846153846|\n",
      "+-------+------------------+\n",
      "only showing top 10 rows\n",
      "\n"
     ]
    }
   ],
   "source": [
    "### 计算电影的平均评分\n",
    "ratings.groupBy('movieId').mean('rating').show(10)"
   ]
  },
  {
   "cell_type": "code",
   "execution_count": 32,
   "metadata": {},
   "outputs": [
    {
     "name": "stdout",
     "output_type": "stream",
     "text": [
      "userId     0\n",
      "movieId    0\n",
      "rating     0\n"
     ]
    }
   ],
   "source": [
    "### 统计是否每列的缺失值数量\n",
    "for col in ratings.columns:\n",
    "    # 对某列按照条件过滤\n",
    "    print(col.ljust(10), ratings.filter(ratings[col].isNull()).count())"
   ]
  },
  {
   "cell_type": "code",
   "execution_count": null,
   "metadata": {},
   "outputs": [],
   "source": []
  },
  {
   "cell_type": "code",
   "execution_count": 34,
   "metadata": {},
   "outputs": [
    {
     "name": "stdout",
     "output_type": "stream",
     "text": [
      "The ratings dataframe is  98.30% empty.\n"
     ]
    }
   ],
   "source": [
    "### 计算观众和电影交互二维表的评分缺失率\n",
    "numerator = ratings.select(\"rating\").count()\n",
    "\n",
    "num_users = ratings.select(\"userId\").distinct().count()\n",
    "num_items = ratings.select(\"movieId\").distinct().count()\n",
    "\n",
    "denominator = num_users * num_items\n",
    "\n",
    "sparsity = (1.0 - (numerator * 1.0)/ denominator) * 100\n",
    "print(\"The ratings dataframe is \", \"%.2f\" % sparsity + \"% empty.\")"
   ]
  },
  {
   "cell_type": "code",
   "execution_count": 35,
   "metadata": {},
   "outputs": [
    {
     "name": "stdout",
     "output_type": "stream",
     "text": [
      "观众数量： 610\n",
      "电影数量： 9724\n"
     ]
    }
   ],
   "source": [
    "print('观众数量：',num_users)\n",
    "print('电影数量：',num_items)"
   ]
  },
  {
   "cell_type": "code",
   "execution_count": null,
   "metadata": {},
   "outputs": [],
   "source": []
  },
  {
   "cell_type": "code",
   "execution_count": 48,
   "metadata": {},
   "outputs": [
    {
     "name": "stdout",
     "output_type": "stream",
     "text": [
      "Item with the fewest ratings: \n",
      "+----------+\n",
      "|min(count)|\n",
      "+----------+\n",
      "|         1|\n",
      "+----------+\n",
      "\n"
     ]
    }
   ],
   "source": [
    "print(\"Item with the fewest ratings: \")\n",
    "ratings.groupBy(\"movieId\").count().select(min(\"count\")).show()"
   ]
  },
  {
   "cell_type": "code",
   "execution_count": 49,
   "metadata": {},
   "outputs": [
    {
     "name": "stdout",
     "output_type": "stream",
     "text": [
      "Avg num ratings per item: \n",
      "+------------------+\n",
      "|        avg(count)|\n",
      "+------------------+\n",
      "|10.369806663924312|\n",
      "+------------------+\n",
      "\n"
     ]
    }
   ],
   "source": [
    "print(\"Avg num ratings per item: \")\n",
    "ratings.groupBy(\"movieid\").count().select(avg(\"count\")).show()  #不区分大小写"
   ]
  },
  {
   "cell_type": "code",
   "execution_count": 50,
   "metadata": {},
   "outputs": [
    {
     "name": "stdout",
     "output_type": "stream",
     "text": [
      "Avg num ratings per user: \n",
      "+------------------+\n",
      "|        avg(count)|\n",
      "+------------------+\n",
      "|165.30491803278687|\n",
      "+------------------+\n",
      "\n"
     ]
    }
   ],
   "source": [
    "# Avg num ratings per users\n",
    "print(\"Avg num ratings per user: \")\n",
    "ratings.groupBy(\"userid\").count().select(avg(\"count\")).show()"
   ]
  },
  {
   "cell_type": "code",
   "execution_count": 35,
   "metadata": {},
   "outputs": [],
   "source": [
    "#baseline "
   ]
  },
  {
   "cell_type": "code",
   "execution_count": 51,
   "metadata": {},
   "outputs": [],
   "source": [
    "als = ALS(userCol=\"userId\", itemCol=\"movieId\", ratingCol=\"rating\", \n",
    "          nonnegative = True, # Non negative matrix factorization\n",
    "          coldStartStrategy = \"drop\", # What to do if user do not appear in train and test set\n",
    "          implicitPrefs = False) # Explicit preference"
   ]
  },
  {
   "cell_type": "code",
   "execution_count": 52,
   "metadata": {},
   "outputs": [
    {
     "data": {
      "text/plain": [
       "pyspark.ml.recommendation.ALS"
      ]
     },
     "execution_count": 52,
     "metadata": {},
     "output_type": "execute_result"
    }
   ],
   "source": [
    "type(als)"
   ]
  },
  {
   "cell_type": "code",
   "execution_count": 53,
   "metadata": {},
   "outputs": [],
   "source": [
    "param_grid = ParamGridBuilder() \\\n",
    "            .addGrid(als.rank, [10, 50, 100]) \\\n",
    "            .addGrid(als.maxIter, [5, 50, 100]) \\\n",
    "            .addGrid(als.regParam, [.01, .05, .1]) \\\n",
    "            .build()"
   ]
  },
  {
   "cell_type": "code",
   "execution_count": 54,
   "metadata": {},
   "outputs": [
    {
     "name": "stdout",
     "output_type": "stream",
     "text": [
      "Num models to be tested:  27\n"
     ]
    }
   ],
   "source": [
    "# Define evaluator as RMSE\n",
    "evaluator = RegressionEvaluator(metricName = \"rmse\", \n",
    "                                labelCol = \"rating\", \n",
    "                                predictionCol = \"prediction\")\n",
    "# Print length of evaluator\n",
    "print (\"Num models to be tested: \", len(param_grid))"
   ]
  },
  {
   "cell_type": "code",
   "execution_count": 55,
   "metadata": {},
   "outputs": [],
   "source": [
    "cv = CrossValidator(estimator = als, \n",
    "                    estimatorParamMaps = param_grid, \n",
    "                    evaluator = evaluator, \n",
    "                    numFolds = 5)"
   ]
  },
  {
   "cell_type": "code",
   "execution_count": 56,
   "metadata": {},
   "outputs": [
    {
     "name": "stdout",
     "output_type": "stream",
     "text": [
      "<class 'pyspark.sql.dataframe.DataFrame'>\n"
     ]
    }
   ],
   "source": [
    "# Create test and train set\n",
    "(train, test) = ratings.randomSplit([0.8, 0.2], \n",
    "                                    seed = 1234)\n",
    "print(type(train))"
   ]
  },
  {
   "cell_type": "code",
   "execution_count": 57,
   "metadata": {},
   "outputs": [
    {
     "name": "stdout",
     "output_type": "stream",
     "text": [
      "+------+-------+------+\n",
      "|userId|movieId|rating|\n",
      "+------+-------+------+\n",
      "|     1|      1|   4.0|\n",
      "|     1|      6|   4.0|\n",
      "|     1|     47|   5.0|\n",
      "|     1|     70|   3.0|\n",
      "+------+-------+------+\n",
      "only showing top 4 rows\n",
      "\n"
     ]
    }
   ],
   "source": [
    "train.show(4)"
   ]
  },
  {
   "cell_type": "code",
   "execution_count": 58,
   "metadata": {},
   "outputs": [
    {
     "name": "stdout",
     "output_type": "stream",
     "text": [
      "+------+-------+------+\n",
      "|userId|movieId|rating|\n",
      "+------+-------+------+\n",
      "|     1|      3|   4.0|\n",
      "|     1|     50|   5.0|\n",
      "|     1|    362|   5.0|\n",
      "|     1|    441|   4.0|\n",
      "+------+-------+------+\n",
      "only showing top 4 rows\n",
      "\n"
     ]
    }
   ],
   "source": [
    "test.show(4)"
   ]
  },
  {
   "cell_type": "code",
   "execution_count": 59,
   "metadata": {},
   "outputs": [],
   "source": [
    "als_mod = als.fit(train)"
   ]
  },
  {
   "cell_type": "code",
   "execution_count": 60,
   "metadata": {},
   "outputs": [],
   "source": [
    "test_pred = als_mod.transform(test)"
   ]
  },
  {
   "cell_type": "code",
   "execution_count": 61,
   "metadata": {},
   "outputs": [
    {
     "name": "stdout",
     "output_type": "stream",
     "text": [
      "+------+-------+------+----------+\n",
      "|userId|movieId|rating|prediction|\n",
      "+------+-------+------+----------+\n",
      "|   597|    471|   2.0| 4.5308647|\n",
      "|   436|    471|   3.0| 3.8087804|\n",
      "|   218|    471|   4.0| 2.9790125|\n",
      "|   387|    471|   3.0|  3.039295|\n",
      "|   217|    471|   2.0| 3.0220342|\n",
      "|   287|    471|   4.5| 2.1219225|\n",
      "|    32|    471|   3.0| 3.9152074|\n",
      "|   260|    471|   4.5| 3.1810186|\n",
      "|   104|    471|   4.5| 3.8068326|\n",
      "|   111|   1088|   3.0| 3.3439498|\n",
      "+------+-------+------+----------+\n",
      "only showing top 10 rows\n",
      "\n"
     ]
    }
   ],
   "source": [
    "test_pred.show(n = 10)"
   ]
  },
  {
   "cell_type": "code",
   "execution_count": 62,
   "metadata": {},
   "outputs": [
    {
     "name": "stdout",
     "output_type": "stream",
     "text": [
      "0.8794302256746631\n"
     ]
    }
   ],
   "source": [
    "print(evaluator.evaluate(test_pred))"
   ]
  },
  {
   "cell_type": "code",
   "execution_count": 63,
   "metadata": {},
   "outputs": [],
   "source": [
    "best_model = als_mod"
   ]
  },
  {
   "cell_type": "code",
   "execution_count": 64,
   "metadata": {},
   "outputs": [],
   "source": [
    "test_predictions = best_model.transform(test)"
   ]
  },
  {
   "cell_type": "code",
   "execution_count": 65,
   "metadata": {},
   "outputs": [
    {
     "name": "stdout",
     "output_type": "stream",
     "text": [
      "+------+-------+------+----------+\n",
      "|userId|movieId|rating|prediction|\n",
      "+------+-------+------+----------+\n",
      "|   597|    471|   2.0| 4.5308647|\n",
      "|   436|    471|   3.0| 3.8087804|\n",
      "|   218|    471|   4.0| 2.9790125|\n",
      "|   387|    471|   3.0|  3.039295|\n",
      "|   217|    471|   2.0| 3.0220342|\n",
      "|   287|    471|   4.5| 2.1219225|\n",
      "|    32|    471|   3.0| 3.9152074|\n",
      "|   260|    471|   4.5| 3.1810186|\n",
      "|   104|    471|   4.5| 3.8068326|\n",
      "|   111|   1088|   3.0| 3.3439498|\n",
      "+------+-------+------+----------+\n",
      "only showing top 10 rows\n",
      "\n",
      "RMSE:  0.8794302256746631\n"
     ]
    }
   ],
   "source": [
    "# View the predictions \n",
    "test_predictions.show(n = 10)\n",
    "\n",
    "# Calculate and print the RMSE of test_predictions\n",
    "print (\"RMSE: \", evaluator.evaluate(test_predictions))"
   ]
  },
  {
   "cell_type": "code",
   "execution_count": 66,
   "metadata": {},
   "outputs": [],
   "source": [
    "# Generate n recommendations for all users\n",
    "ALS_recommendations = best_model.recommendForAllUsers(numItems = 10) "
   ]
  },
  {
   "cell_type": "code",
   "execution_count": 67,
   "metadata": {},
   "outputs": [
    {
     "name": "stdout",
     "output_type": "stream",
     "text": [
      "+------+--------------------+\n",
      "|userId|     recommendations|\n",
      "+------+--------------------+\n",
      "|   471|[[86781, 4.63092]...|\n",
      "|   463|[[3379, 5.0837936...|\n",
      "|   496|[[8477, 5.5474496...|\n",
      "|   148|[[3022, 4.5687995...|\n",
      "|   540|[[3379, 5.489201]...|\n",
      "|   392|[[7982, 5.6097746...|\n",
      "|   243|[[72171, 6.774387...|\n",
      "|    31|[[3925, 5.5229645...|\n",
      "|   516|[[4429, 4.8815417...|\n",
      "|   580|[[3837, 5.282003]...|\n",
      "+------+--------------------+\n",
      "only showing top 10 rows\n",
      "\n"
     ]
    }
   ],
   "source": [
    "ALS_recommendations.show(n = 10)"
   ]
  },
  {
   "cell_type": "code",
   "execution_count": 68,
   "metadata": {},
   "outputs": [],
   "source": [
    "# Temporary table\n",
    "ALS_recommendations.registerTempTable(\"ALS_recs_temp\")"
   ]
  },
  {
   "cell_type": "code",
   "execution_count": 71,
   "metadata": {},
   "outputs": [
    {
     "name": "stdout",
     "output_type": "stream",
     "text": [
      "+------+-------+----------+\n",
      "|userid|movieid|prediction|\n",
      "+------+-------+----------+\n",
      "|   471|  86781|   4.63092|\n",
      "|   471|   7767|  4.609346|\n",
      "|   471|    599| 4.5863476|\n",
      "|   471|  78836|  4.577664|\n",
      "|   471|  89904| 4.5733204|\n",
      "|   471|  26810| 4.5718446|\n",
      "|   471|  49347|  4.566446|\n",
      "|   471|  33649|  4.555927|\n",
      "|   471| 117531| 4.5537324|\n",
      "|   471|   7071| 4.5537324|\n",
      "|   463|   3379| 5.0837936|\n",
      "|   463| 171495|   4.94011|\n",
      "|   463|  33649| 4.9318395|\n",
      "|   463|  60943| 4.9245157|\n",
      "|   463|  59018| 4.9245157|\n",
      "|   463|  78836| 4.9089823|\n",
      "|   463| 184245| 4.9006357|\n",
      "|   463| 179135| 4.9006357|\n",
      "|   463|   7071| 4.9006357|\n",
      "|   463|  26073| 4.9006357|\n",
      "+------+-------+----------+\n",
      "only showing top 20 rows\n",
      "\n"
     ]
    }
   ],
   "source": [
    "clean_recs = spark.sql(\"\"\"SELECT userid,\n",
    "                            movieIds_and_ratings.movieid AS movieid,\n",
    "                            movieIds_and_ratings.rating AS prediction\n",
    "                        FROM ALS_recs_temp\n",
    "                        LATERAL VIEW explode(recommendations) exploded_table\n",
    "                            AS movieIds_and_ratings\"\"\")\n",
    "clean_recs.show()"
   ]
  },
  {
   "cell_type": "code",
   "execution_count": 72,
   "metadata": {},
   "outputs": [
    {
     "name": "stdout",
     "output_type": "stream",
     "text": [
      "+------+-------+----------+------+\n",
      "|userid|movieid|prediction|rating|\n",
      "+------+-------+----------+------+\n",
      "|   471|  86781|   4.63092|  null|\n",
      "|   471|   7767|  4.609346|  null|\n",
      "|   471|    599| 4.5863476|  null|\n",
      "|   471|  78836|  4.577664|  null|\n",
      "|   471|  89904| 4.5733204|  null|\n",
      "|   471|  26810| 4.5718446|  null|\n",
      "|   471|  49347|  4.566446|  null|\n",
      "|   471|  33649|  4.555927|  null|\n",
      "|   471| 117531| 4.5537324|  null|\n",
      "|   471|   7071| 4.5537324|  null|\n",
      "|   463|   3379| 5.0837936|  null|\n",
      "|   463| 171495|   4.94011|  null|\n",
      "|   463|  33649| 4.9318395|  null|\n",
      "|   463|  60943| 4.9245157|  null|\n",
      "|   463|  59018| 4.9245157|  null|\n",
      "|   463|  78836| 4.9089823|  null|\n",
      "|   463| 184245| 4.9006357|  null|\n",
      "|   463| 179135| 4.9006357|  null|\n",
      "|   463|   7071| 4.9006357|  null|\n",
      "|   463|  26073| 4.9006357|  null|\n",
      "+------+-------+----------+------+\n",
      "only showing top 20 rows\n",
      "\n"
     ]
    }
   ],
   "source": [
    "# Recommendations for unread books\n",
    "(clean_recs.join(ratings, [\"userid\", \"movieid\"], \"left\")\n",
    "    .filter(ratings.rating.isNull()).show())"
   ]
  },
  {
   "cell_type": "code",
   "execution_count": 73,
   "metadata": {},
   "outputs": [],
   "source": [
    "new_books = (clean_recs.join(ratings, [\"userid\", \"movieid\"], \"left\")\n",
    "    .filter(ratings.rating.isNull()))"
   ]
  },
  {
   "cell_type": "code",
   "execution_count": 74,
   "metadata": {},
   "outputs": [
    {
     "name": "stdout",
     "output_type": "stream",
     "text": [
      "+------+-------+----------+------+\n",
      "|userid|movieid|prediction|rating|\n",
      "+------+-------+----------+------+\n",
      "|   471|  86781|   4.63092|  null|\n",
      "|   471|   7767|  4.609346|  null|\n",
      "|   471|    599| 4.5863476|  null|\n",
      "|   471|  78836|  4.577664|  null|\n",
      "|   471|  89904| 4.5733204|  null|\n",
      "|   471|  26810| 4.5718446|  null|\n",
      "|   471|  49347|  4.566446|  null|\n",
      "|   471|  33649|  4.555927|  null|\n",
      "|   471| 117531| 4.5537324|  null|\n",
      "|   471|   7071| 4.5537324|  null|\n",
      "|   463|   3379| 5.0837936|  null|\n",
      "|   463| 171495|   4.94011|  null|\n",
      "|   463|  33649| 4.9318395|  null|\n",
      "|   463|  60943| 4.9245157|  null|\n",
      "|   463|  59018| 4.9245157|  null|\n",
      "|   463|  78836| 4.9089823|  null|\n",
      "|   463| 184245| 4.9006357|  null|\n",
      "|   463| 179135| 4.9006357|  null|\n",
      "|   463|   7071| 4.9006357|  null|\n",
      "|   463|  26073| 4.9006357|  null|\n",
      "+------+-------+----------+------+\n",
      "only showing top 20 rows\n",
      "\n"
     ]
    }
   ],
   "source": [
    "new_books.show()"
   ]
  },
  {
   "cell_type": "code",
   "execution_count": 75,
   "metadata": {},
   "outputs": [
    {
     "name": "stdout",
     "output_type": "stream",
     "text": [
      "5821\n"
     ]
    }
   ],
   "source": [
    "print(new_books.count())"
   ]
  },
  {
   "cell_type": "code",
   "execution_count": null,
   "metadata": {},
   "outputs": [],
   "source": []
  }
 ],
 "metadata": {
  "kernelspec": {
   "display_name": "Python 3",
   "language": "python",
   "name": "python3"
  },
  "language_info": {
   "codemirror_mode": {
    "name": "ipython",
    "version": 3
   },
   "file_extension": ".py",
   "mimetype": "text/x-python",
   "name": "python",
   "nbconvert_exporter": "python",
   "pygments_lexer": "ipython3",
   "version": "3.7.0"
  },
  "nbTranslate": {
   "displayLangs": [
    "*"
   ],
   "hotkey": "alt-t",
   "langInMainMenu": true,
   "sourceLang": "en",
   "targetLang": "fr",
   "useGoogleTranslate": true
  },
  "toc": {
   "base_numbering": 1,
   "nav_menu": {},
   "number_sections": true,
   "sideBar": true,
   "skip_h1_title": false,
   "title_cell": "Table of Contents",
   "title_sidebar": "Contents",
   "toc_cell": false,
   "toc_position": {},
   "toc_section_display": true,
   "toc_window_display": false
  }
 },
 "nbformat": 4,
 "nbformat_minor": 4
}
