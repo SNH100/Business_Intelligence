{
 "cells": [
  {
   "cell_type": "code",
   "execution_count": 1,
   "metadata": {},
   "outputs": [],
   "source": [
    "import os\n",
    "import pandas as pd\n",
    "import numpy as np\n",
    "\n",
    "# 导入PySpark\n",
    "from pyspark import SparkContext\n",
    "from pyspark.sql import SparkSession\n",
    "\n",
    "# 导入pyspark 的部分函数\n",
    "from pyspark.sql.functions import col, min, max, avg, lit\n",
    "\n",
    "# 导入pyspark 的机器学习相关的一些包\n",
    "from pyspark.ml.recommendation import ALS \n",
    "from pyspark.ml.tuning import ParamGridBuilder, CrossValidator # Cross-Validation\n",
    "from pyspark.ml.evaluation import RegressionEvaluator # Performance metric\n",
    "\n",
    "import seaborn as sns\n",
    "import matplotlib.pyplot as plt\n",
    "\n",
    "from IPython.core.interactiveshell import InteractiveShell\n",
    "InteractiveShell.ast_node_interactivity = \"all\"\n",
    "\n",
    "pd.set_option('display.max_columns', 200)\n",
    "pd.set_option('display.max_colwidth', 400)"
   ]
  },
  {
   "cell_type": "code",
   "execution_count": 2,
   "metadata": {},
   "outputs": [],
   "source": [
    "import os\n",
    "os.environ ['JAVA_HOME'] = '/usr/lib/jvm/openlogic-openjdk-11-hotspot-amd64/'\n",
    "#'C:\\Program Files\\Java\\jre1.8.0_271'"
   ]
  },
  {
   "cell_type": "code",
   "execution_count": 3,
   "metadata": {},
   "outputs": [
    {
     "name": "stdout",
     "output_type": "stream",
     "text": [
      "<SparkContext master=local[*] appName=Movie-Recommendation>\n"
     ]
    }
   ],
   "source": [
    "sc = SparkContext(appName = \"Movie-Recommendation\")\n",
    "print(sc)"
   ]
  },
  {
   "cell_type": "code",
   "execution_count": 4,
   "metadata": {},
   "outputs": [],
   "source": [
    "spark = SparkSession.Builder().getOrCreate()"
   ]
  },
  {
   "cell_type": "markdown",
   "metadata": {},
   "source": [
    "### 数据载入"
   ]
  },
  {
   "cell_type": "code",
   "execution_count": 8,
   "metadata": {},
   "outputs": [
    {
     "name": "stdout",
     "output_type": "stream",
     "text": [
      "+------+-------+------+----------+\n",
      "|userId|movieId|rating| timestamp|\n",
      "+------+-------+------+----------+\n",
      "|     1|      2|   3.5|1112486027|\n",
      "|     1|     29|   3.5|1112484676|\n",
      "|     1|     32|   3.5|1112484819|\n",
      "|     1|     47|   3.5|1112484727|\n",
      "|     1|     50|   3.5|1112484580|\n",
      "|     1|    112|   3.5|1094785740|\n",
      "|     1|    151|   4.0|1094785734|\n",
      "|     1|    223|   4.0|1112485573|\n",
      "|     1|    253|   4.0|1112484940|\n",
      "|     1|    260|   4.0|1112484826|\n",
      "+------+-------+------+----------+\n",
      "only showing top 10 rows\n",
      "\n"
     ]
    }
   ],
   "source": [
    "ratings = spark.read.csv('./input/ratings.csv', header = True, inferSchema=True)\n",
    "ratings.show(10)"
   ]
  },
  {
   "cell_type": "code",
   "execution_count": 14,
   "metadata": {},
   "outputs": [],
   "source": [
    "ratings = ratings.drop('timestamp')"
   ]
  },
  {
   "cell_type": "code",
   "execution_count": 15,
   "metadata": {},
   "outputs": [
    {
     "data": {
      "text/plain": [
       "Row(userId=1, movieId=2, rating=3.5)"
      ]
     },
     "execution_count": 15,
     "metadata": {},
     "output_type": "execute_result"
    }
   ],
   "source": [
    "ratings.head()"
   ]
  },
  {
   "cell_type": "code",
   "execution_count": 16,
   "metadata": {},
   "outputs": [
    {
     "name": "stdout",
     "output_type": "stream",
     "text": [
      "root\n",
      " |-- userId: integer (nullable = true)\n",
      " |-- movieId: integer (nullable = true)\n",
      " |-- rating: double (nullable = true)\n",
      "\n"
     ]
    }
   ],
   "source": [
    "ratings.printSchema()"
   ]
  },
  {
   "cell_type": "code",
   "execution_count": 18,
   "metadata": {},
   "outputs": [
    {
     "name": "stdout",
     "output_type": "stream",
     "text": [
      "The ratings dataframe is  98.95% empty.\n"
     ]
    }
   ],
   "source": [
    "numerator = ratings.select(\"rating\").count()\n",
    "\n",
    "\n",
    "num_users = ratings.select(\"userId\").distinct().count()\n",
    "num_items = ratings.select(\"movieId\").distinct().count()\n",
    "\n",
    "denominator = num_users * num_items\n",
    "\n",
    "sparsity = (1.0 - (numerator * 1.0)/ denominator) * 100\n",
    "print(\"The ratings dataframe is \", \"%.2f\" % sparsity + \"% empty.\")"
   ]
  },
  {
   "cell_type": "code",
   "execution_count": 19,
   "metadata": {},
   "outputs": [
    {
     "data": {
      "text/plain": [
       "(7120, 14026)"
      ]
     },
     "execution_count": 19,
     "metadata": {},
     "output_type": "execute_result"
    }
   ],
   "source": [
    "num_users, num_items"
   ]
  },
  {
   "cell_type": "code",
   "execution_count": 23,
   "metadata": {},
   "outputs": [
    {
     "name": "stdout",
     "output_type": "stream",
     "text": [
      "+------+-----+\n",
      "|userId|count|\n",
      "+------+-----+\n",
      "|  3907| 2711|\n",
      "|  2261| 2644|\n",
      "|   903| 2608|\n",
      "|  4358| 2575|\n",
      "|  4222| 2553|\n",
      "|  3318| 2382|\n",
      "|   741| 2212|\n",
      "|  6719| 2206|\n",
      "|   982| 2183|\n",
      "|   156| 2179|\n",
      "|  6636| 2052|\n",
      "|  4507| 1969|\n",
      "|   775| 1957|\n",
      "|  3797| 1938|\n",
      "|  6373| 1929|\n",
      "|  3858| 1858|\n",
      "|   768| 1769|\n",
      "|  5843| 1765|\n",
      "|  3284| 1742|\n",
      "|  4967| 1719|\n",
      "+------+-----+\n",
      "only showing top 20 rows\n",
      "\n"
     ]
    }
   ],
   "source": [
    "(ratings.groupBy(\"userId\").count().filter(\"`count`  > 1\").sort(col(\"count\").desc()).show(n = 20))"
   ]
  },
  {
   "cell_type": "code",
   "execution_count": 25,
   "metadata": {},
   "outputs": [
    {
     "name": "stdout",
     "output_type": "stream",
     "text": [
      "+-------+-----+\n",
      "|movieId|count|\n",
      "+-------+-----+\n",
      "|    296| 3498|\n",
      "|    356| 3476|\n",
      "|    593| 3247|\n",
      "|    318| 3216|\n",
      "|    480| 3129|\n",
      "|    260| 2874|\n",
      "|    110| 2799|\n",
      "|    589| 2711|\n",
      "|   2571| 2705|\n",
      "|    527| 2598|\n",
      "|      1| 2569|\n",
      "|    457| 2568|\n",
      "|    780| 2546|\n",
      "|    150| 2512|\n",
      "|     50| 2490|\n",
      "|   1210| 2480|\n",
      "|   1196| 2418|\n",
      "|    592| 2406|\n",
      "|   2858| 2355|\n",
      "|     32| 2312|\n",
      "+-------+-----+\n",
      "only showing top 20 rows\n",
      "\n"
     ]
    }
   ],
   "source": [
    "(ratings.groupBy(\"movieId\")\n",
    "    .count()\n",
    "    .filter(\"`count` > 1\")\n",
    "    .sort(col(\"count\").desc())\n",
    "    .show(n = 20))"
   ]
  },
  {
   "cell_type": "code",
   "execution_count": 26,
   "metadata": {},
   "outputs": [
    {
     "name": "stdout",
     "output_type": "stream",
     "text": [
      "Avg num ratings per user: \n",
      "+------------------+\n",
      "|        avg(count)|\n",
      "+------------------+\n",
      "|147.27176966292134|\n",
      "+------------------+\n",
      "\n"
     ]
    }
   ],
   "source": [
    "# Avg num ratings per users\n",
    "print(\"Avg num ratings per user: \")\n",
    "ratings.groupBy(\"userId\").count().select(avg(\"count\")).show()"
   ]
  },
  {
   "cell_type": "code",
   "execution_count": 34,
   "metadata": {},
   "outputs": [
    {
     "name": "stdout",
     "output_type": "stream",
     "text": [
      "838907\n",
      "209668\n"
     ]
    }
   ],
   "source": [
    "# Create test and train set\n",
    "(train, test) = ratings.randomSplit([0.8, 0.2], seed = 100)\n",
    "print(train.count())\n",
    "print(test.count())"
   ]
  },
  {
   "cell_type": "markdown",
   "metadata": {},
   "source": [
    "### ALS"
   ]
  },
  {
   "cell_type": "code",
   "execution_count": 30,
   "metadata": {},
   "outputs": [],
   "source": [
    "als = ALS(userCol=\"userId\", itemCol=\"movieId\", ratingCol=\"rating\", \n",
    "          nonnegative = True, # Non negative matrix factorization\n",
    "          coldStartStrategy = \"drop\", # What to do if user do not appear in train and test set\n",
    "          implicitPrefs = False) # Explicit preference\n",
    "\n",
    "param_grid = ParamGridBuilder() \\\n",
    "            .addGrid(als.rank, [10, 50, 100]) \\\n",
    "            .addGrid(als.maxIter, [5, 50, 100]) \\\n",
    "            .addGrid(als.regParam, [.01, .05, .1]) \\\n",
    "            .build()\n",
    "\n",
    "# Define evaluator as RMSE\n",
    "evaluator = RegressionEvaluator(metricName = \"rmse\", \n",
    "                                labelCol = \"rating\", \n",
    "                                predictionCol = \"prediction\")\n",
    "\n",
    "cv = CrossValidator(estimator = als, \n",
    "                    estimatorParamMaps = param_grid, \n",
    "                    evaluator = evaluator, \n",
    "                    numFolds = 5)"
   ]
  },
  {
   "cell_type": "code",
   "execution_count": 31,
   "metadata": {},
   "outputs": [
    {
     "name": "stdout",
     "output_type": "stream",
     "text": [
      "Num models to be tested:  27\n"
     ]
    }
   ],
   "source": [
    "# Print length of evaluator\n",
    "print (\"Num models to be tested: \", len(param_grid))"
   ]
  },
  {
   "cell_type": "code",
   "execution_count": 35,
   "metadata": {},
   "outputs": [
    {
     "name": "stdout",
     "output_type": "stream",
     "text": [
      "+------+-------+------+----------+\n",
      "|userId|movieId|rating|prediction|\n",
      "+------+-------+------+----------+\n",
      "|  5585|    148|   3.0| 2.5450664|\n",
      "|  3990|    148|   4.0| 2.3091614|\n",
      "|  5186|    148|   2.0| 2.9203124|\n",
      "|  5938|    148|   4.0|  3.121954|\n",
      "|  1716|    148|   2.0| 2.9002583|\n",
      "|  2671|    148|   3.0| 2.3622625|\n",
      "|  3576|    148|   2.0| 2.2861638|\n",
      "|  3335|    148|   5.0|  2.115857|\n",
      "|  4923|    463|   3.0|  2.838025|\n",
      "|   156|    463|   4.0| 3.3625484|\n",
      "+------+-------+------+----------+\n",
      "only showing top 10 rows\n",
      "\n"
     ]
    }
   ],
   "source": [
    "als_model = als.fit(train)\n",
    "test_pred = als_model.transform(test)\n",
    "test_pred.show(n=10)"
   ]
  },
  {
   "cell_type": "code",
   "execution_count": 37,
   "metadata": {},
   "outputs": [
    {
     "name": "stdout",
     "output_type": "stream",
     "text": [
      "RMSE:  0.8250989919432624\n"
     ]
    }
   ],
   "source": [
    "print(\"RMSE: \",  evaluator.evaluate(test_pred))"
   ]
  },
  {
   "cell_type": "code",
   "execution_count": 38,
   "metadata": {},
   "outputs": [
    {
     "name": "stdout",
     "output_type": "stream",
     "text": [
      "+------+--------------------+\n",
      "|userId|     recommendations|\n",
      "+------+--------------------+\n",
      "|  1580|[[110603, 5.27052...|\n",
      "|  4900|[[83359, 5.970939...|\n",
      "|  5300|[[40697, 5.931905...|\n",
      "|  6620|[[40697, 5.615771...|\n",
      "|   471|[[727, 4.839523],...|\n",
      "|  1591|[[727, 5.8318753]...|\n",
      "|  4101|[[83359, 5.125425...|\n",
      "|  1342|[[40697, 5.78063]...|\n",
      "|  2122|[[3817, 4.7367983...|\n",
      "|  2142|[[6823, 5.82299],...|\n",
      "+------+--------------------+\n",
      "only showing top 10 rows\n",
      "\n"
     ]
    }
   ],
   "source": [
    "# Generate n recommendations for all users\n",
    "ALS_recommendations = als_model.recommendForAllUsers(numItems = 10) \n",
    "ALS_recommendations.show(n = 10)"
   ]
  },
  {
   "cell_type": "code",
   "execution_count": 39,
   "metadata": {},
   "outputs": [
    {
     "name": "stdout",
     "output_type": "stream",
     "text": [
      "+------+-------+----------+\n",
      "|userId|movieId|prediction|\n",
      "+------+-------+----------+\n",
      "|  1580| 110603| 5.2705255|\n",
      "|  1580|  25905|  5.057629|\n",
      "|  1580|  73413| 4.8326144|\n",
      "|  1580|    404| 4.6601586|\n",
      "|  1580|  59295| 4.6551867|\n",
      "|  1580|   4176| 4.6130996|\n",
      "|  1580|   7077|  4.549643|\n",
      "|  1580|  59376| 4.5258656|\n",
      "|  1580|  72714| 4.5137124|\n",
      "|  1580|   2538|  4.462394|\n",
      "|  4900|  83359| 5.9709396|\n",
      "|  4900|   3817|  5.428588|\n",
      "|  4900|   6375|  5.392499|\n",
      "|  4900|  95776| 5.3505826|\n",
      "|  4900|  94410|    5.3489|\n",
      "|  4900|  90378|  5.337767|\n",
      "|  4900|  79987|  5.286213|\n",
      "|  4900|  51455| 5.2859397|\n",
      "|  4900|  82931|  5.273943|\n",
      "|  4900|   7879| 5.2542114|\n",
      "+------+-------+----------+\n",
      "only showing top 20 rows\n",
      "\n"
     ]
    }
   ],
   "source": [
    "# Temporary table\n",
    "ALS_recommendations.registerTempTable(\"ALS_recs_temp\")\n",
    "\n",
    "clean_recs = spark.sql(\"\"\"SELECT userId,\n",
    "                            movieIds_and_ratings.movieId AS movieId,\n",
    "                            movieIds_and_ratings.rating AS prediction\n",
    "                        FROM ALS_recs_temp\n",
    "                        LATERAL VIEW explode(recommendations) exploded_table\n",
    "                            AS movieIds_and_ratings\"\"\")\n",
    "clean_recs.show()"
   ]
  },
  {
   "cell_type": "code",
   "execution_count": 46,
   "metadata": {},
   "outputs": [],
   "source": [
    "# Recommendations for unread books\n",
    "new_movies = clean_recs.join(ratings, [\"userId\", \"movieId\"], \"left\").filter(ratings.rating.isNull())"
   ]
  },
  {
   "cell_type": "code",
   "execution_count": 47,
   "metadata": {},
   "outputs": [
    {
     "name": "stdout",
     "output_type": "stream",
     "text": [
      "+------+-------+----------+------+\n",
      "|userId|movieId|prediction|rating|\n",
      "+------+-------+----------+------+\n",
      "|    52|   4454|  4.607009|  null|\n",
      "|    86|  73469| 4.6333914|  null|\n",
      "|    94|  88570|  4.390179|  null|\n",
      "|   111|   4454|  4.965559|  null|\n",
      "|   150|   2675| 4.6041727|  null|\n",
      "|   156|  83359| 5.4530454|  null|\n",
      "|   227|  54986|  4.214472|  null|\n",
      "|   232|  53883|  5.464476|  null|\n",
      "|   283|   4536|   5.10898|  null|\n",
      "|   314|  95776|  5.238259|  null|\n",
      "|   316|  79987|  4.425828|  null|\n",
      "|   380|   3817| 5.1334486|  null|\n",
      "|   392|   3817|  5.642511|  null|\n",
      "|   424|  31337|  4.165175|  null|\n",
      "|   457|    727| 4.5919275|  null|\n",
      "|   459| 105943| 4.6700077|  null|\n",
      "|   462|  79987|  4.887365|  null|\n",
      "|   483|  95776| 5.9356556|  null|\n",
      "|   514|  44168| 4.4875383|  null|\n",
      "|   540|   2675| 4.6302557|  null|\n",
      "+------+-------+----------+------+\n",
      "only showing top 20 rows\n",
      "\n",
      "71017\n"
     ]
    }
   ],
   "source": [
    "new_movies.show()\n",
    "print(new_movies.count())"
   ]
  },
  {
   "cell_type": "code",
   "execution_count": null,
   "metadata": {},
   "outputs": [],
   "source": []
  }
 ],
 "metadata": {
  "kernelspec": {
   "display_name": "Python 3",
   "language": "python",
   "name": "python3"
  },
  "language_info": {
   "codemirror_mode": {
    "name": "ipython",
    "version": 3
   },
   "file_extension": ".py",
   "mimetype": "text/x-python",
   "name": "python",
   "nbconvert_exporter": "python",
   "pygments_lexer": "ipython3",
   "version": "3.8.5"
  }
 },
 "nbformat": 4,
 "nbformat_minor": 4
}
