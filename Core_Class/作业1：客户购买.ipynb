{
 "cells": [
  {
   "cell_type": "code",
   "execution_count": null,
   "metadata": {},
   "outputs": [],
   "source": [
    "import pandas as pd\n",
    "import numpy as np\n",
    "import matplotlib.pyplot as plt\n",
    "import seaborn as sns\n",
    "\n",
    "plt.rcParams['font.sans-serif'] = ['SimHei']\n",
    "plt.rcParams['axes.unicode_minus'] = False"
   ]
  },
  {
   "cell_type": "code",
   "execution_count": null,
   "metadata": {},
   "outputs": [],
   "source": [
    "train=pd.read_csv('train_set.csv')\n",
    "test=pd.read_csv('test_set.csv')"
   ]
  },
  {
   "cell_type": "code",
   "execution_count": null,
   "metadata": {},
   "outputs": [],
   "source": [
    "train.head()"
   ]
  },
  {
   "cell_type": "code",
   "execution_count": null,
   "metadata": {},
   "outputs": [],
   "source": [
    "# 从训练集查看是否平衡数据集\n",
    "\n",
    "plt.rc('font', family='SimHei', size=13)\n",
    "fig = plt.figure()\n",
    "plt.pie(train['y'].value_counts(),\n",
    "        labels=train['y'].value_counts().index,\n",
    "        autopct='%1.2f%%',counterclock = False)\n",
    "plt.title('购买率')\n",
    "plt.show()"
   ]
  },
  {
   "cell_type": "code",
   "execution_count": null,
   "metadata": {},
   "outputs": [],
   "source": [
    "train.info()"
   ]
  },
  {
   "cell_type": "code",
   "execution_count": null,
   "metadata": {},
   "outputs": [],
   "source": [
    "# 查看是否有空值\n",
    "data.isnull().sum()"
   ]
  },
  {
   "cell_type": "code",
   "execution_count": null,
   "metadata": {},
   "outputs": [],
   "source": [
    "data = pd.concat([train.drop(['y'],axis=1),test],axis=0).reset_index(drop=True)"
   ]
  },
  {
   "cell_type": "code",
   "execution_count": null,
   "metadata": {},
   "outputs": [],
   "source": [
    "# 对object型数据查看unique\n",
    "str_features = []\n",
    "num_features=[]\n",
    "for col in train.columns:\n",
    "    if train[col].dtype=='object':\n",
    "        str_features.append(col)\n",
    "        print(col,':  ',train[col].unique())\n",
    "    if train[col].dtype=='int64' and col not in ['ID','y']:\n",
    "        num_features.append(col)"
   ]
  },
  {
   "cell_type": "code",
   "execution_count": null,
   "metadata": {},
   "outputs": [],
   "source": [
    "train.isin(['unknown']).mean()*100"
   ]
  },
  {
   "cell_type": "code",
   "execution_count": null,
   "metadata": {},
   "outputs": [],
   "source": [
    "print(str_features)\n",
    "print(num_features)"
   ]
  },
  {
   "cell_type": "code",
   "execution_count": null,
   "metadata": {},
   "outputs": [],
   "source": [
    "plt.figure(figsize=(15,15))\n",
    "i=1\n",
    "for col in str_features:\n",
    "    plt.subplot(3,3,i)\n",
    "    # 这里用mean是因为标签是0，1二分类，0*0的行数(即没购买的人数)+1*1的行数(购买的人数)/所有行数=购买率\n",
    "    train.groupby([col])['y'].mean().plot(kind='bar',\n",
    "                                          stacked=True,\n",
    "                                          rot=90,\n",
    "                                          title='Purchase rate of {}'.format(col))\n",
    "    plt.subplots_adjust(wspace=0.2,hspace=0.7)  # 调整子图间距\n",
    "    i=i+1\n",
    "plt.show()"
   ]
  },
  {
   "cell_type": "code",
   "execution_count": null,
   "metadata": {},
   "outputs": [],
   "source": [
    "num_features"
   ]
  },
  {
   "cell_type": "code",
   "execution_count": null,
   "metadata": {},
   "outputs": [],
   "source": [
    "train[num_features].describe()"
   ]
  },
  {
   "cell_type": "code",
   "execution_count": null,
   "metadata": {},
   "outputs": [],
   "source": [
    "from scipy.stats import chi2_contingency       # 数值型特征检验，检验特征与标签的关系\n",
    "from scipy.stats import f_oneway,ttest_ind     # 分类型特征检验，检验特征与标签的关系"
   ]
  },
  {
   "cell_type": "code",
   "execution_count": null,
   "metadata": {},
   "outputs": [],
   "source": [
    "#----------数据集处理--------------#\n",
    "from sklearn.model_selection import train_test_split        # 划分训练集和验证集\n",
    "from sklearn.model_selection import KFold,StratifiedKFold   # k折交叉\n",
    "from imblearn.combine import SMOTETomek,SMOTEENN            # 综合采样\n",
    "from imblearn.over_sampling import SMOTE                    # 过采样\n",
    "from imblearn.under_sampling import RandomUnderSampler      # 欠采样\n",
    "\n",
    "#----------数据处理--------------#\n",
    "from sklearn.preprocessing import StandardScaler # 标准化\n",
    "from sklearn.preprocessing import OneHotEncoder  # 热独编码\n",
    "from sklearn.preprocessing import OrdinalEncoder"
   ]
  },
  {
   "cell_type": "code",
   "execution_count": null,
   "metadata": {},
   "outputs": [],
   "source": [
    "# 异常值处理\n",
    "def outlier_processing(dfx):\n",
    "    df = dfx.copy()\n",
    "    q1 = df.quantile(q=0.25)\n",
    "    q3 = df.quantile(q=0.75)\n",
    "    iqr = q3 - q1\n",
    "    Umin = q1 - 1.5*iqr\n",
    "    Umax = q3 + 1.5*iqr \n",
    "    df[df>Umax] = df[df<=Umax].max()\n",
    "    df[df<Umin] = df[df>=Umin].min()\n",
    "    return df"
   ]
  },
  {
   "cell_type": "code",
   "execution_count": null,
   "metadata": {},
   "outputs": [],
   "source": [
    "train['age']=outlier_processing(train['age'])\n",
    "train['day']=outlier_processing(train['day'])\n",
    "train['duration']=outlier_processing(train['duration'])\n",
    "train['campaign']=outlier_processing(train['campaign'])\n",
    "\n",
    "\n",
    "test['age']=outlier_processing(test['age'])\n",
    "test['day']=outlier_processing(test['day'])\n",
    "test['duration']=outlier_processing(test['duration'])\n",
    "test['campaign']=outlier_processing(test['campaign'])"
   ]
  },
  {
   "cell_type": "code",
   "execution_count": null,
   "metadata": {},
   "outputs": [],
   "source": [
    "dummy_train=train.join(pd.get_dummies(train[str_features])).drop(str_features,axis=1).drop(['ID','y'],axis=1)\n",
    "dummy_test=test.join(pd.get_dummies(test[str_features])).drop(str_features,axis=1).drop(['ID'],axis=1)"
   ]
  },
  {
   "cell_type": "code",
   "execution_count": null,
   "metadata": {},
   "outputs": [],
   "source": [
    "for col in str_features:\n",
    "    obs=pd.crosstab(train['y'],\n",
    "                    train[col],\n",
    "                    rownames=['y'],\n",
    "                    colnames=[col])\n",
    "    chi2, p, dof, expect = chi2_contingency(obs)\n",
    "    print(\"{} 卡方检验p值: {:.4f}\".format(col,p))"
   ]
  },
  {
   "cell_type": "code",
   "execution_count": null,
   "metadata": {},
   "outputs": [],
   "source": [
    "from sklearn.feature_selection import SelectKBest,f_classif\n",
    "\n",
    "f,p=f_classif(train[num_features],train['y'])\n",
    "k = f.shape[0] - (p > 0.05).sum()\n",
    "selector = SelectKBest(f_classif, k=k)\n",
    "selector.fit(train[num_features],train['y'])\n",
    "\n",
    "print('scores_:',selector.scores_)\n",
    "print('pvalues_:',selector.pvalues_)\n",
    "print('selected index:',selector.get_support(True))"
   ]
  },
  {
   "cell_type": "code",
   "execution_count": null,
   "metadata": {},
   "outputs": [],
   "source": [
    "# 标准化，返回值为标准化后的数据\n",
    "standardScaler=StandardScaler()\n",
    "ss=standardScaler.fit(dummy_train.loc[:,num_features])\n",
    "dummy_train.loc[:,num_features]=ss.transform(dummy_train.loc[:,num_features])\n",
    "dummy_test.loc[:,num_features]=ss.transform(dummy_test.loc[:,num_features])"
   ]
  },
  {
   "cell_type": "code",
   "execution_count": null,
   "metadata": {},
   "outputs": [],
   "source": [
    "X=dummy_train\n",
    "y=train['y']"
   ]
  },
  {
   "cell_type": "code",
   "execution_count": null,
   "metadata": {},
   "outputs": [],
   "source": [
    "X_train,X_valid,y_train,y_valid=train_test_split(X,y,test_size=0.2,random_state=2020)"
   ]
  },
  {
   "cell_type": "code",
   "execution_count": null,
   "metadata": {},
   "outputs": [],
   "source": [
    "smote_tomek = SMOTETomek(random_state=2020)\n",
    "X_resampled, y_resampled = smote_tomek.fit_resample(X_train, y_train)"
   ]
  },
  {
   "cell_type": "code",
   "execution_count": null,
   "metadata": {},
   "outputs": [],
   "source": [
    "#----------建模工具--------------#\n",
    "from sklearn.model_selection import GridSearchCV\n",
    "from sklearn.pipeline import Pipeline\n",
    "\n",
    "import lightgbm as lgb\n",
    "from sklearn.linear_model import LogisticRegression\n",
    "from sklearn.tree import DecisionTreeClassifier\n",
    "from sklearn.ensemble import RandomForestClassifier\n",
    "from sklearn.svm import SVC\n",
    "from sklearn.neighbors import KNeighborsClassifier"
   ]
  },
  {
   "cell_type": "code",
   "execution_count": null,
   "metadata": {},
   "outputs": [],
   "source": [
    "#----------模型评估工具----------#\n",
    "from sklearn.metrics import confusion_matrix # 混淆矩阵\n",
    "from sklearn.metrics import classification_report\n",
    "from sklearn.metrics import recall_score,f1_score\n",
    "from sklearn.metrics import roc_auc_score\n",
    "from sklearn.metrics import roc_curve"
   ]
  },
  {
   "cell_type": "code",
   "execution_count": null,
   "metadata": {},
   "outputs": [],
   "source": [
    "#逻辑回归\n",
    "param = {\"penalty\": [\"l1\", \"l2\", ], \"C\": [0.1, 1, 10], \"solver\": [\"liblinear\",\"saga\"]}\n",
    "gs = GridSearchCV(estimator=LogisticRegression(), param_grid=param, cv=2, scoring=\"roc_auc\",verbose=10) \n",
    "gs.fit(X_resampled,y_resampled) \n",
    "print(gs.best_params_) \n",
    "y_pred = gs.best_estimator_.predict(X_valid) \n",
    "print(classification_report(y_valid, y_pred))"
   ]
  },
  {
   "cell_type": "code",
   "execution_count": null,
   "metadata": {},
   "outputs": [],
   "source": [
    "# 训练集\n",
    "confusion_matrix(y_resampled,gs.best_estimator_.predict(X_resampled),labels=[1,0])"
   ]
  },
  {
   "cell_type": "code",
   "execution_count": null,
   "metadata": {},
   "outputs": [],
   "source": [
    "# 验证集\n",
    "confusion_matrix(y_valid,y_pred,labels=[1,0])"
   ]
  },
  {
   "cell_type": "code",
   "execution_count": null,
   "metadata": {},
   "outputs": [],
   "source": [
    "#画roc-auc曲线\n",
    "def get_rocauc(X,y,clf):\n",
    "    from sklearn.metrics import roc_curve\n",
    "    FPR,recall,thresholds=roc_curve(y,clf.predict_proba(X)[:,1],pos_label=1)\n",
    "    area=roc_auc_score(y,clf.predict_proba(X)[:,1])\n",
    "    \n",
    "    maxindex=(recall-FPR).tolist().index(max(recall-FPR))\n",
    "    threshold=thresholds[maxindex]\n",
    "    \n",
    "    plt.figure()\n",
    "    plt.plot(FPR,recall,color='red',label='ROC curve (area = %0.2f)'%area)\n",
    "    plt.plot([0,1],[0,1],color='black',linestyle='--')\n",
    "    plt.scatter(FPR[maxindex],recall[maxindex],c='black',s=30)\n",
    "    plt.xlim([-0.05,1.05])\n",
    "    plt.ylim([-0.05,1.05])\n",
    "    plt.xlabel('False Positive Rate')\n",
    "    plt.ylabel('Recall')\n",
    "    plt.title('Receiver operating characteristic example')\n",
    "    plt.legend(loc='lower right')\n",
    "    plt.show()\n",
    "    return threshold"
   ]
  },
  {
   "cell_type": "code",
   "execution_count": null,
   "metadata": {},
   "outputs": [],
   "source": [
    "threshold=get_rocauc(X_resampled, y_resampled,gs.best_estimator_)"
   ]
  },
  {
   "cell_type": "code",
   "execution_count": null,
   "metadata": {},
   "outputs": [],
   "source": [
    "# 阈值调整\n",
    "def get_ypred(X,clf,threshold):\n",
    "    y_pred=[]\n",
    "    for i in clf.predict_proba(X)[:,1]:\n",
    "        if i > threshold:\n",
    "            y_pred.append(1)\n",
    "        else:\n",
    "            y_pred.append(0)\n",
    "    return y_pred\n",
    "\n",
    "# ytrain_pred=get_ypred(Xtrain,clf,threshold)"
   ]
  },
  {
   "cell_type": "code",
   "execution_count": null,
   "metadata": {},
   "outputs": [],
   "source": [
    "X_test = dummy_test\n",
    "y_test=gs.best_estimator_.predict_proba(X_test)\n",
    "test['pred']=y_test[:,1]"
   ]
  },
  {
   "cell_type": "code",
   "execution_count": null,
   "metadata": {},
   "outputs": [],
   "source": [
    "test[['ID','pred']].to_csv('lr.csv')"
   ]
  }
 ],
 "metadata": {
  "kernelspec": {
   "display_name": "Python 3",
   "language": "python",
   "name": "python3"
  },
  "language_info": {
   "codemirror_mode": {
    "name": "ipython",
    "version": 3
   },
   "file_extension": ".py",
   "mimetype": "text/x-python",
   "name": "python",
   "nbconvert_exporter": "python",
   "pygments_lexer": "ipython3",
   "version": "3.8.3"
  },
  "varInspector": {
   "cols": {
    "lenName": 16,
    "lenType": 16,
    "lenVar": 40
   },
   "kernels_config": {
    "python": {
     "delete_cmd_postfix": "",
     "delete_cmd_prefix": "del ",
     "library": "var_list.py",
     "varRefreshCmd": "print(var_dic_list())"
    },
    "r": {
     "delete_cmd_postfix": ") ",
     "delete_cmd_prefix": "rm(",
     "library": "var_list.r",
     "varRefreshCmd": "cat(var_dic_list()) "
    }
   },
   "types_to_exclude": [
    "module",
    "function",
    "builtin_function_or_method",
    "instance",
    "_Feature"
   ],
   "window_display": false
  }
 },
 "nbformat": 4,
 "nbformat_minor": 4
}
