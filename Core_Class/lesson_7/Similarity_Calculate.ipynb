{
 "cells": [
  {
   "cell_type": "markdown",
   "metadata": {},
   "source": [
    "# Assignment7"
   ]
  },
  {
   "cell_type": "markdown",
   "metadata": {},
   "source": [
    "## Task1\n",
    "计算作业中数据的用户相似矩阵和物品相似矩阵（手算加计算器）  "
   ]
  },
  {
   "cell_type": "code",
   "execution_count": 37,
   "metadata": {},
   "outputs": [],
   "source": [
    "import pandas as pd\n",
    "import numpy as np\n",
    "import math"
   ]
  },
  {
   "cell_type": "code",
   "execution_count": 38,
   "metadata": {},
   "outputs": [],
   "source": [
    "#### 余弦相似度\n",
    "def calcuteSimilar(series1,series2):\n",
    "    '''\n",
    "    计算余弦相似度\n",
    "    :param data1: 数据集1 Series\n",
    "    :param data2: 数据集2 Series\n",
    "    :return: 相似度\n",
    "    '''\n",
    "    unionLen = len(set(series1) & set(series2))\n",
    "    if unionLen == 0: return 0.0\n",
    "    product = len(series1) * len(series2)\n",
    "    similarity = unionLen / math.sqrt(product)\n",
    "    return similarity"
   ]
  },
  {
   "cell_type": "code",
   "execution_count": 39,
   "metadata": {},
   "outputs": [
    {
     "data": {
      "text/plain": [
       "array([[0.        , 0.5       , 0.28867513, 0.2236068 , 0.28867513],\n",
       "       [0.5       , 0.        , 0.        , 0.67082039, 0.57735027],\n",
       "       [0.28867513, 0.        , 0.        , 0.51639778, 0.33333333],\n",
       "       [0.2236068 , 0.67082039, 0.51639778, 0.        , 0.51639778],\n",
       "       [0.28867513, 0.57735027, 0.33333333, 0.51639778, 0.        ]])"
      ]
     },
     "execution_count": 39,
     "metadata": {},
     "output_type": "execute_result"
    }
   ],
   "source": [
    "# 用户相似矩阵\n",
    "user_item = [\n",
    "    ['a','b','d','f'],\n",
    "    ['a','c','d','g'],\n",
    "    ['b','e','h'],\n",
    "    ['c','d','e','h','g'],\n",
    "    ['a','e','c']\n",
    "]\n",
    "\n",
    "n = len(user_item)\n",
    "matrix1=np.zeros((n,n))\n",
    "\n",
    "for i in range(0,n):\n",
    "    for j in range(0,n):\n",
    "        if i != j:\n",
    "            matrix1[i,j]=calcuteSimilar(user_item[i],user_item[j])\n",
    "matrix1"
   ]
  },
  {
   "cell_type": "code",
   "execution_count": 40,
   "metadata": {},
   "outputs": [
    {
     "data": {
      "text/plain": [
       "array([[0.        , 0.40824829, 0.66666667, 0.66666667, 0.33333333,\n",
       "        0.57735027, 0.40824829],\n",
       "       [0.40824829, 0.        , 0.        , 0.40824829, 0.40824829,\n",
       "        0.70710678, 0.        ],\n",
       "       [0.66666667, 0.        , 0.        , 0.66666667, 0.66666667,\n",
       "        0.        , 0.81649658],\n",
       "       [0.66666667, 0.40824829, 0.66666667, 0.        , 0.33333333,\n",
       "        0.57735027, 0.81649658],\n",
       "       [0.33333333, 0.40824829, 0.66666667, 0.33333333, 0.        ,\n",
       "        0.        , 0.40824829],\n",
       "       [0.57735027, 0.70710678, 0.        , 0.57735027, 0.        ,\n",
       "        0.        , 0.        ],\n",
       "       [0.40824829, 0.        , 0.81649658, 0.81649658, 0.40824829,\n",
       "        0.        , 0.        ]])"
      ]
     },
     "execution_count": 40,
     "metadata": {},
     "output_type": "execute_result"
    }
   ],
   "source": [
    "# 物品相似矩阵\n",
    "item_user = [\n",
    "    ['A','B','E'],\n",
    "    ['A','C'],\n",
    "    ['B','D','E'],\n",
    "    ['A','B','D'],\n",
    "    ['C','D','E'],\n",
    "    ['A'],\n",
    "    ['B','D']\n",
    "]\n",
    "\n",
    "m = len(item_user)\n",
    "matrix2=np.zeros((m,m))\n",
    "\n",
    "for i in range(0,m):\n",
    "    for j in range(0,m):\n",
    "        if i != j:\n",
    "            matrix2[i,j]=calcuteSimilar(item_user[i],item_user[j])\n",
    "matrix2"
   ]
  },
  {
   "cell_type": "code",
   "execution_count": 41,
   "metadata": {},
   "outputs": [
    {
     "data": {
      "text/plain": [
       "array([[0., 1., 1., 0., 0., 1., 0., 0., 1.],\n",
       "       [0., 1., 1., 1., 0., 0., 1., 0., 0.],\n",
       "       [0., 0., 0., 0., 1., 1., 0., 1., 0.],\n",
       "       [0., 0., 1., 1., 1., 0., 1., 1., 0.],\n",
       "       [0., 1., 0., 1., 1., 0., 0., 0., 0.]])"
      ]
     },
     "execution_count": 41,
     "metadata": {},
     "output_type": "execute_result"
    }
   ],
   "source": [
    "from keras.preprocessing.text import Tokenizer\n",
    "tok = Tokenizer()\n",
    "tok.fit_on_texts(user_item)\n",
    "tok.texts_to_matrix(user_item)"
   ]
  },
  {
   "cell_type": "code",
   "execution_count": 42,
   "metadata": {},
   "outputs": [
    {
     "data": {
      "text/plain": [
       "{'a': 1, 'd': 2, 'c': 3, 'e': 4, 'b': 5, 'g': 6, 'h': 7, 'f': 8}"
      ]
     },
     "execution_count": 42,
     "metadata": {},
     "output_type": "execute_result"
    }
   ],
   "source": [
    "tok.word_index"
   ]
  },
  {
   "cell_type": "markdown",
   "metadata": {},
   "source": [
    "## Task2\n",
    "(代码：电影数据）  \n",
    "1. 使用UserCF给用户1找最相似的十个用户  \n",
    "2. 使用itemCF找电影101最相似的十部电影  "
   ]
  },
  {
   "cell_type": "code",
   "execution_count": 43,
   "metadata": {},
   "outputs": [],
   "source": [
    "train =pd.read_csv('./ml-latest-small/ratings.csv')[['userId','movieId']]"
   ]
  },
  {
   "cell_type": "code",
   "execution_count": 44,
   "metadata": {},
   "outputs": [
    {
     "data": {
      "text/plain": [
       "577    0.320800\n",
       "368    0.324379\n",
       "266    0.327865\n",
       "45     0.328677\n",
       "452    0.332593\n",
       "39     0.334831\n",
       "469    0.334905\n",
       "57     0.337032\n",
       "330    0.338371\n",
       "313    0.380978\n",
       "dtype: float64"
      ]
     },
     "execution_count": 44,
     "metadata": {},
     "output_type": "execute_result"
    }
   ],
   "source": [
    "# 相似用户\n",
    "targetuser = train[train['userId'] == 1]['movieId'].astype(str)\n",
    "simuser_ID = [i for i in set(train['userId']) if i != 1]  \n",
    "otherUsers = [train[train['userId'] == i]['movieId'].astype(str) for i in simuser_ID]\n",
    "\n",
    "similarlist = [calcuteSimilar(targetuser,user) for user in otherUsers]\n",
    "similarSeries = pd.Series(similarlist,index=simuser_ID)\n",
    "similarSeries.sort_values()[-10:]"
   ]
  },
  {
   "cell_type": "code",
   "execution_count": 45,
   "metadata": {},
   "outputs": [
    {
     "data": {
      "text/plain": [
       "32584    0.417029\n",
       "39234    0.417029\n",
       "2997     0.419130\n",
       "556      0.425628\n",
       "1449     0.425628\n",
       "3181     0.425628\n",
       "46974    0.425628\n",
       "2395     0.445823\n",
       "1235     0.449823\n",
       "7117     0.466252\n",
       "dtype: float64"
      ]
     },
     "execution_count": 45,
     "metadata": {},
     "output_type": "execute_result"
    }
   ],
   "source": [
    "# 相似电影\n",
    "targetproduct = train[train['movieId'] == 101]['userId'].astype(str)\n",
    "simproduct_ID = [i for i in set(train['movieId']) if i != 101]  \n",
    "otherProducts = [train[train['movieId'] == i]['userId'].astype(str) for i in simproduct_ID]\n",
    "\n",
    "similarlist = [calcuteSimilar(targetproduct,item) for item in otherProducts]\n",
    "similarSeries = pd.Series(similarlist,index=simproduct_ID)\n",
    "similarSeries.sort_values()[-10:]"
   ]
  },
  {
   "cell_type": "markdown",
   "metadata": {},
   "source": [
    "### 在评估用户相似度时考虑打分\n",
    "用评价过的电影的评分的绝对差值之和乘共同评价过的电影个数的余弦相似度，作为两个用户相似度的评价指标"
   ]
  },
  {
   "cell_type": "code",
   "execution_count": 62,
   "metadata": {},
   "outputs": [],
   "source": [
    "def calSimilarty(series1,series2):\n",
    "    unionLen = len(set(series1[['movieId']]) & set(series2[['movieId']]))\n",
    "    if unionLen == 0: return 0.0\n",
    "    product = len(series1['movieId']) * len(series2['movieId'])\n",
    "    similarity = unionLen / math.sqrt(product)\n",
    "    \n",
    "    merge_matrix = series1.merge(series2,on='movieId')\n",
    "    merge_matrix['diff'] = np.abs(merge_matrix['rating_x']-merge_matrix['rating_y'])\n",
    "    \n",
    "    return similarity*merge_matrix['diff'].sum()    "
   ]
  },
  {
   "cell_type": "code",
   "execution_count": 63,
   "metadata": {},
   "outputs": [
    {
     "data": {
      "text/plain": [
       "39     0.374223\n",
       "600    0.392173\n",
       "19     0.396185\n",
       "608    0.397421\n",
       "368    0.406232\n",
       "68     0.409680\n",
       "428    0.439697\n",
       "160    0.456960\n",
       "217    0.461397\n",
       "313    0.498476\n",
       "dtype: float64"
      ]
     },
     "execution_count": 63,
     "metadata": {},
     "output_type": "execute_result"
    }
   ],
   "source": [
    "# 相似用户\n",
    "train = pd.read_csv('./ml-latest-small/ratings.csv')[['userId','movieId','rating']]\n",
    "targetuser = train[train['userId'] == 1][['movieId','rating']]\n",
    "simuser_ID = [i for i in set(train['userId']) if i != 1]  \n",
    "otherUsers = [train[train['userId'] == i][['movieId','rating']] for i in simuser_ID]\n",
    "\n",
    "similarlist = [calSimilarty(targetuser,user) for user in otherUsers]\n",
    "similarSeries = pd.Series(similarlist,index=simuser_ID)\n",
    "similarSeries.sort_values()[-10:]"
   ]
  },
  {
   "cell_type": "code",
   "execution_count": null,
   "metadata": {},
   "outputs": [],
   "source": []
  }
 ],
 "metadata": {
  "kernelspec": {
   "display_name": "Python 3",
   "language": "python",
   "name": "python3"
  },
  "language_info": {
   "codemirror_mode": {
    "name": "ipython",
    "version": 3
   },
   "file_extension": ".py",
   "mimetype": "text/x-python",
   "name": "python",
   "nbconvert_exporter": "python",
   "pygments_lexer": "ipython3",
   "version": "3.7.4"
  }
 },
 "nbformat": 4,
 "nbformat_minor": 2
}
