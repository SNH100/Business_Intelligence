{
 "cells": [
  {
   "cell_type": "code",
   "execution_count": 1,
   "metadata": {},
   "outputs": [],
   "source": [
    "import pandas as pd \n",
    "import matplotlib.pyplot as plt\n",
    "from math import pow\n",
    "import numpy as np"
   ]
  },
  {
   "cell_type": "code",
   "execution_count": 2,
   "metadata": {},
   "outputs": [],
   "source": [
    "def LFM(R,P,Q,K,steps=5000,learning_rate=0.0002,beta=0.02):\n",
    "    # 转置\n",
    "    Q=Q.T\n",
    "    result=[]\n",
    "    for step in range(steps):\n",
    "        # i 代表某一行\n",
    "        for i in range(len(R)):\n",
    "            # j 代表某一列\n",
    "            for j in range(len(R[i])):\n",
    "                # 只算已经评过分的损失值\n",
    "                if R[i][j]>0:\n",
    "                    # 对应P的某一行，与Q的某一列，进行点积计算，结果是一个数字\n",
    "                    # 这里和PPT写的相反了，所以下面对K的循环里面，本来应该减去偏导的，变成加上偏导了\n",
    "                    loss_i_j = R[i][j] - np.dot(P[i,:],Q[:,j])\n",
    "                    # 一个用户对一个商品的评分=1*K和K*1向量的点积。所以，原始矩阵R某行某列的一个损失公式，就会有2K个参数需要更新，需要求偏导！\n",
    "                    for k in range(K):\n",
    "                        P[i][k] = P[i][k] + learning_rate * (2*loss_i_j*Q[k][j]-beta*P[i][k])\n",
    "                        Q[k][j] = Q[k][j] + learning_rate * (2*loss_i_j*P[i][k]-beta*Q[k][j])\n",
    "        \n",
    "        # P和Q更新完，点积后的矩阵\n",
    "        error_R = np.dot(P,Q)\n",
    "        loss = 0\n",
    "        # 这里是把每行每列的损失，全部加起来\n",
    "        for i in range(len(R)):\n",
    "            for j in range(len(R[i])):\n",
    "                if R[i][j]>0:\n",
    "                    # 原始矩阵R某行某列的一个损失公式，损失的值就有一个，但正则化同样，需要加2K个！\n",
    "                    loss = loss + pow(R[i][j]-np.dot(P[i,:],Q[:,j]),2)\n",
    "                    for k in range(K):\n",
    "                        loss = loss + (beta/2)*(pow(P[i][k],2)+pow(Q[k][j],2))\n",
    "        result.append(loss)\n",
    "        if loss<0.001:\n",
    "            break\n",
    "    return P,Q.T,result"
   ]
  },
  {
   "cell_type": "code",
   "execution_count": 3,
   "metadata": {},
   "outputs": [],
   "source": [
    "R=[\n",
    "    [5,0,3,0],\n",
    "    [0,4,4,0],\n",
    "    [3,5,3,0],\n",
    "    [0,4,0,3]\n",
    "]"
   ]
  },
  {
   "cell_type": "code",
   "execution_count": 4,
   "metadata": {},
   "outputs": [
    {
     "data": {
      "text/plain": [
       "(array([[0.95951833, 0.85429547, 0.31803729],\n",
       "        [0.83578534, 0.13134344, 0.68463061],\n",
       "        [0.38793162, 0.39781774, 0.88976768],\n",
       "        [0.24164347, 0.87570318, 0.70382288]]),\n",
       " array([[0.5447604 , 0.83502896, 0.56810144, 0.68477626],\n",
       "        [0.52497578, 0.16600744, 0.57333349, 0.4396935 ],\n",
       "        [0.05545639, 0.35211464, 0.76528955, 0.83033993]]))"
      ]
     },
     "execution_count": 4,
     "metadata": {},
     "output_type": "execute_result"
    }
   ],
   "source": [
    "R = np.array(R)\n",
    "\n",
    "# 提取维度\n",
    "N = len(R)\n",
    "M = len(R[0])\n",
    "K = 3\n",
    "\n",
    "# 随机生成一个 N行 K列的矩阵\n",
    "P = np.random.rand(N,K)\n",
    "# 随机生成一个 M行 K列的矩阵\n",
    "Q = np.random.rand(M,K)\n",
    "\n",
    "P,Q.T"
   ]
  },
  {
   "cell_type": "code",
   "execution_count": 12,
   "metadata": {},
   "outputs": [
    {
     "name": "stdout",
     "output_type": "stream",
     "text": [
      "原始的评分矩阵R为：\n",
      " [[5 0 3 0]\n",
      " [0 4 4 0]\n",
      " [3 5 3 0]\n",
      " [0 4 0 3]]\n",
      "经过MF算法填充0处评分值后的评分矩阵R_MF为：\n",
      " [[4.97717349 3.83320776 3.00618717 2.54668447]\n",
      " [2.95476046 4.415676   3.44168864 2.71409993]\n",
      " [3.00137719 4.5786436  3.50982895 2.58240072]\n",
      " [3.17960253 3.98020102 3.23657288 2.99371878]]\n"
     ]
    },
    {
     "data": {
      "image/png": "[encoded data removed]",
      "text/plain": [
       "<Figure size 432x288 with 1 Axes>"
      ]
     },
     "metadata": {
      "needs_background": "light"
     },
     "output_type": "display_data"
    }
   ],
   "source": [
    "nP,nQ,result=LFM(R,P,Q,K)\n",
    "print(\"原始的评分矩阵R为：\\n\",R)\n",
    "R_MF=np.dot(nP,nQ.T)\n",
    "print(\"经过MF算法填充0处评分值后的评分矩阵R_MF为：\\n\",R_MF)\n",
    "\n",
    "#-------------损失函数的收敛曲线图---------------\n",
    "\n",
    "n=len(result)\n",
    "x=range(n)\n",
    "plt.plot(x,result,color='r',linewidth=3)\n",
    "plt.title(\"Convergence curve\")\n",
    "plt.xlabel(\"generation\")\n",
    "plt.ylabel(\"loss\")\n",
    "plt.show()"
   ]
  },
  {
   "cell_type": "code",
   "execution_count": null,
   "metadata": {},
   "outputs": [],
   "source": []
  }
 ],
 "metadata": {
  "kernelspec": {
   "display_name": "Python 3",
   "language": "python",
   "name": "python3"
  },
  "language_info": {
   "codemirror_mode": {
    "name": "ipython",
    "version": 3
   },
   "file_extension": ".py",
   "mimetype": "text/x-python",
   "name": "python",
   "nbconvert_exporter": "python",
   "pygments_lexer": "ipython3",
   "version": "3.7.2"
  }
 },
 "nbformat": 4,
 "nbformat_minor": 4
}
