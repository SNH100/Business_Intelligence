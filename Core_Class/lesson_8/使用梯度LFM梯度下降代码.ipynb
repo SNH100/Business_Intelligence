{
 "cells": [
  {
   "cell_type": "code",
   "execution_count": 1,
   "metadata": {},
   "outputs": [],
   "source": [
    "# encoding: utf-8\n",
    "import pandas as pd \n",
    "import matplotlib.pyplot as plt\n",
    "from math import pow\n",
    "import numpy as np"
   ]
  },
  {
   "cell_type": "code",
   "execution_count": 2,
   "metadata": {},
   "outputs": [],
   "source": [
    "    R=[\n",
    "        [5,0,3,0],\n",
    "        [0,4,4,0],\n",
    "        [3,5,3,0],\n",
    "        [3,5,0,3]\n",
    "    ]"
   ]
  },
  {
   "cell_type": "code",
   "execution_count": 3,
   "metadata": {},
   "outputs": [],
   "source": [
    "def LFM(R,P,Q,K,steps=5000,learning_rate=0.0002,beta=0.02):\n",
    "    Q=Q.T  # .T操作表示矩阵的转置\n",
    "    result=[]\n",
    "    for step in range(steps):\n",
    "        for i in range(len(R)):\n",
    "            for j in range(len(R[i])):\n",
    "                if R[i][j]>0:\n",
    "                    eij=R[i][j]-np.dot(P[i,:],Q[:,j]) # .dot(P,Q) 表示矩阵内积\n",
    "                    for k in range(K):\n",
    "                        P[i][k]=P[i][k]+learning_rate*(2*eij*Q[k][j]-beta*P[i][k])\n",
    "                        Q[k][j]=Q[k][j]+learning_rate*(2*eij*P[i][k]-beta*Q[k][j])\n",
    "        eR=np.dot(P,Q)\n",
    "        e=0\n",
    "        for i in range(len(R)):\n",
    "            for j in range(len(R[i])):\n",
    "                if R[i][j]>0:\n",
    "                    e=e+pow(R[i][j]-np.dot(P[i,:],Q[:,j]),2)\n",
    "                    for k in range(K):\n",
    "                        e=e+(beta/2)*(pow(P[i][k],2)+pow(Q[k][j],2))\n",
    "#                         print(\"pow_p_q：\"+str(pow(P[i][k],2))+' and  '+str(pow(Q[k][j],2)))\n",
    "        result.append(e)\n",
    "        if e<0.001:\n",
    "            break\n",
    "    return P,Q.T,result"
   ]
  },
  {
   "cell_type": "code",
   "execution_count": 4,
   "metadata": {},
   "outputs": [],
   "source": [
    "    R=np.array(R)\n",
    "\n",
    "    N=len(R)\n",
    "    M=len(R[0])\n",
    "    K=2\n",
    "P=np.random.rand(N,K)\n",
    "Q=np.random.rand(M,K)"
   ]
  },
  {
   "cell_type": "code",
   "execution_count": 5,
   "metadata": {},
   "outputs": [
    {
     "data": {
      "text/plain": [
       "array([[0.15460745, 0.69793539],\n",
       "       [0.84262114, 0.92035939],\n",
       "       [0.86988191, 0.91049144],\n",
       "       [0.95426575, 0.59655359]])"
      ]
     },
     "execution_count": 5,
     "metadata": {},
     "output_type": "execute_result"
    }
   ],
   "source": [
    "Q"
   ]
  },
  {
   "cell_type": "code",
   "execution_count": 13,
   "metadata": {},
   "outputs": [
    {
     "name": "stdout",
     "output_type": "stream",
     "text": [
      "原始的评分矩阵R为：\n",
      " [[5 0 3 0]\n",
      " [0 4 4 0]\n",
      " [3 5 3 0]\n",
      " [3 5 0 3]]\n",
      "经过MF算法填充0处评分值后的评分矩阵R_MF为：\n",
      " [[4.8203222  4.64515601 3.23093687 2.70469153]\n",
      " [4.41560421 4.11508841 3.78217533 2.97829299]\n",
      " [3.07467108 4.95633991 2.9405741  2.77999882]\n",
      " [3.06593189 4.91348199 3.29919947 3.00366232]]\n"
     ]
    },
    {
     "data": {
      "image/png": "[encoded data removed]",
      "text/plain": [
       "<Figure size 432x288 with 1 Axes>"
      ]
     },
     "metadata": {
      "needs_background": "light"
     },
     "output_type": "display_data"
    }
   ],
   "source": [
    "if __name__ == '__main__':\n",
    "    R=[[5,0,3,0],\n",
    "        [0,4,4,0],\n",
    "        [3,5,3,0],\n",
    "        [3,5,0,3]]\n",
    "\n",
    "    R=np.array(R)\n",
    "\n",
    "    N=len(R)\n",
    "    M=len(R[0])\n",
    "    K=3\n",
    "\n",
    "    P=np.random.rand(N,K) #随机生成一个 N行 K列的矩阵\n",
    "    Q=np.random.rand(M,K) #随机生成一个 M行 K列的矩阵\n",
    "\n",
    "    nP,nQ,result=LFM(R,P,Q,K)\n",
    "    print(\"原始的评分矩阵R为：\\n\",R)\n",
    "    R_MF=np.dot(nP,nQ.T)\n",
    "    print(\"经过MF算法填充0处评分值后的评分矩阵R_MF为：\\n\",R_MF)\n",
    "\n",
    "#-------------损失函数的收敛曲线图---------------\n",
    "\n",
    "    n=len(result)\n",
    "    x=range(n)\n",
    "    plt.plot(x,result,color='r',linewidth=3)\n",
    "    plt.title(\"Convergence curve\")\n",
    "    plt.xlabel(\"generation\")\n",
    "    plt.ylabel(\"loss\")\n",
    "    plt.show()"
   ]
  },
  {
   "cell_type": "code",
   "execution_count": 14,
   "metadata": {},
   "outputs": [
    {
     "data": {
      "text/plain": [
       "array([[0.97997563, 1.74627089, 0.70242172],\n",
       "       [0.69866443, 1.18059132, 1.55266209],\n",
       "       [1.7073293 , 0.55487488, 0.61128273],\n",
       "       [1.63404996, 0.36457999, 1.00248336]])"
      ]
     },
     "execution_count": 14,
     "metadata": {},
     "output_type": "execute_result"
    }
   ],
   "source": [
    "P"
   ]
  },
  {
   "cell_type": "code",
   "execution_count": 15,
   "metadata": {
    "scrolled": true
   },
   "outputs": [
    {
     "data": {
      "text/plain": [
       "array([[0.81456974, 1.8825002 , 1.04596481],\n",
       "       [2.26286751, 1.05692547, 0.8284522 ],\n",
       "       [0.967937  , 0.72371888, 1.45008753],\n",
       "       [1.08941349, 0.52307211, 1.03024615]])"
      ]
     },
     "execution_count": 15,
     "metadata": {},
     "output_type": "execute_result"
    }
   ],
   "source": [
    "Q"
   ]
  },
  {
   "cell_type": "code",
   "execution_count": 17,
   "metadata": {},
   "outputs": [],
   "source": [
    "import numpy\n",
    "nP =[\n",
    "        [2,1,1],\n",
    "        [3,0,1],\n",
    "        [1,2,1],\n",
    "        [0,0,1]\n",
    "    ]\n",
    "nP= numpy.array(nP)\n",
    "nQ=[\n",
    "        [2,1,-1],\n",
    "        [0,1,1],\n",
    "        [1,3,2],\n",
    "        [0,2,1]\n",
    "    ]\n",
    "nQ= numpy.array(nQ)"
   ]
  },
  {
   "cell_type": "code",
   "execution_count": 18,
   "metadata": {},
   "outputs": [],
   "source": [
    "R_MF=numpy.dot(nP.T,nQ)"
   ]
  },
  {
   "cell_type": "code",
   "execution_count": 19,
   "metadata": {},
   "outputs": [
    {
     "data": {
      "text/plain": [
       "array([[5, 8, 3],\n",
       "       [4, 7, 3],\n",
       "       [3, 7, 3]])"
      ]
     },
     "execution_count": 19,
     "metadata": {},
     "output_type": "execute_result"
    }
   ],
   "source": [
    "R_MF"
   ]
  },
  {
   "cell_type": "code",
   "execution_count": 20,
   "metadata": {},
   "outputs": [
    {
     "data": {
      "text/plain": [
       "array([[2, 3, 1, 0],\n",
       "       [1, 0, 2, 0],\n",
       "       [1, 1, 1, 1]])"
      ]
     },
     "execution_count": 20,
     "metadata": {},
     "output_type": "execute_result"
    }
   ],
   "source": [
    "nP.T"
   ]
  },
  {
   "cell_type": "code",
   "execution_count": 21,
   "metadata": {},
   "outputs": [
    {
     "data": {
      "text/plain": [
       "array([[3.16, 1.92, 2.08, 1.28],\n",
       "       [3.63, 2.22, 2.39, 1.48],\n",
       "       [3.95, 2.4 , 2.6 , 1.6 ],\n",
       "       [3.16, 1.92, 2.08, 1.28]])"
      ]
     },
     "execution_count": 21,
     "metadata": {},
     "output_type": "execute_result"
    }
   ],
   "source": [
    "import numpy\n",
    "nP =[\n",
    "        [1.2,0.8],\n",
    "        [1.4,0.9],\n",
    "        [1.5,1],\n",
    "        [1.2,0.8]\n",
    "    ]\n",
    "nP= numpy.array(nP)\n",
    "nQ=[\n",
    "        [1.5,1.2,1.,0.8],\n",
    "        [1.7,0.6,1.1,0.4]\n",
    "    ]\n",
    "nQ= numpy.array(nQ)\n",
    "R_MF=numpy.dot(nP,nQ)\n",
    "R_MF"
   ]
  },
  {
   "cell_type": "code",
   "execution_count": null,
   "metadata": {},
   "outputs": [],
   "source": []
  }
 ],
 "metadata": {
  "kernelspec": {
   "display_name": "Python 3",
   "language": "python",
   "name": "python3"
  },
  "language_info": {
   "codemirror_mode": {
    "name": "ipython",
    "version": 3
   },
   "file_extension": ".py",
   "mimetype": "text/x-python",
   "name": "python",
   "nbconvert_exporter": "python",
   "pygments_lexer": "ipython3",
   "version": "3.7.6"
  }
 },
 "nbformat": 4,
 "nbformat_minor": 4
}
