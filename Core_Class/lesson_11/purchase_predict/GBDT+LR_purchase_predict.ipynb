{
 "cells": [
  {
   "cell_type": "code",
   "execution_count": 1,
   "metadata": {},
   "outputs": [],
   "source": [
    "# 从sklearn 调入所需要的包\n",
    "# from sklearn import datasets\n",
    "from sklearn.model_selection import train_test_split #数据分隔出训练集和验证集\n",
    "import lightgbm as lgb\n",
    "import numpy as np\n",
    "import pandas as pd\n",
    "#导入精度和召回\n",
    "from sklearn.metrics import precision_score, recall_score,roc_auc_score"
   ]
  },
  {
   "cell_type": "code",
   "execution_count": 2,
   "metadata": {},
   "outputs": [
    {
     "name": "stdout",
     "output_type": "stream",
     "text": [
      "<class 'pandas.core.frame.DataFrame'>\n",
      "RangeIndex: 25317 entries, 0 to 25316\n",
      "Data columns (total 18 columns):\n",
      " #   Column     Non-Null Count  Dtype \n",
      "---  ------     --------------  ----- \n",
      " 0   ID         25317 non-null  int64 \n",
      " 1   age        25317 non-null  int64 \n",
      " 2   job        25317 non-null  object\n",
      " 3   marital    25317 non-null  object\n",
      " 4   education  25317 non-null  object\n",
      " 5   default    25317 non-null  object\n",
      " 6   balance    25317 non-null  int64 \n",
      " 7   housing    25317 non-null  object\n",
      " 8   loan       25317 non-null  object\n",
      " 9   contact    25317 non-null  object\n",
      " 10  day        25317 non-null  int64 \n",
      " 11  month      25317 non-null  object\n",
      " 12  duration   25317 non-null  int64 \n",
      " 13  campaign   25317 non-null  int64 \n",
      " 14  pdays      25317 non-null  int64 \n",
      " 15  previous   25317 non-null  int64 \n",
      " 16  poutcome   25317 non-null  object\n",
      " 17  y          25317 non-null  int64 \n",
      "dtypes: int64(9), object(9)\n",
      "memory usage: 3.5+ MB\n",
      "None\n",
      "<class 'pandas.core.frame.DataFrame'>\n",
      "RangeIndex: 10852 entries, 0 to 10851\n",
      "Data columns (total 17 columns):\n",
      " #   Column     Non-Null Count  Dtype \n",
      "---  ------     --------------  ----- \n",
      " 0   ID         10852 non-null  int64 \n",
      " 1   age        10852 non-null  int64 \n",
      " 2   job        10852 non-null  object\n",
      " 3   marital    10852 non-null  object\n",
      " 4   education  10852 non-null  object\n",
      " 5   default    10852 non-null  object\n",
      " 6   balance    10852 non-null  int64 \n",
      " 7   housing    10852 non-null  object\n",
      " 8   loan       10852 non-null  object\n",
      " 9   contact    10852 non-null  object\n",
      " 10  day        10852 non-null  int64 \n",
      " 11  month      10852 non-null  object\n",
      " 12  duration   10852 non-null  int64 \n",
      " 13  campaign   10852 non-null  int64 \n",
      " 14  pdays      10852 non-null  int64 \n",
      " 15  previous   10852 non-null  int64 \n",
      " 16  poutcome   10852 non-null  object\n",
      "dtypes: int64(8), object(9)\n",
      "memory usage: 1.4+ MB\n",
      "None\n"
     ]
    }
   ],
   "source": [
    "path='D:/dataset/purchse_predict/'\n",
    "train = pd.read_csv(path+'input/train_set.csv')\n",
    "test = pd.read_csv(path+'input/test_set.csv')\n",
    "print(train.info())\n",
    "print(test.info())"
   ]
  },
  {
   "cell_type": "code",
   "execution_count": 3,
   "metadata": {},
   "outputs": [],
   "source": [
    "category_feats_0 = ['job','marital','default','education','housing','contact','loan','month','poutcome']"
   ]
  },
  {
   "cell_type": "code",
   "execution_count": 4,
   "metadata": {},
   "outputs": [
    {
     "data": {
      "text/html": [
       "<div>\n",
       "<style scoped>\n",
       "    .dataframe tbody tr th:only-of-type {\n",
       "        vertical-align: middle;\n",
       "    }\n",
       "\n",
       "    .dataframe tbody tr th {\n",
       "        vertical-align: top;\n",
       "    }\n",
       "\n",
       "    .dataframe thead th {\n",
       "        text-align: right;\n",
       "    }\n",
       "</style>\n",
       "<table border=\"1\" class=\"dataframe\">\n",
       "  <thead>\n",
       "    <tr style=\"text-align: right;\">\n",
       "      <th></th>\n",
       "      <th>ID</th>\n",
       "      <th>age</th>\n",
       "      <th>balance</th>\n",
       "      <th>day</th>\n",
       "      <th>duration</th>\n",
       "      <th>campaign</th>\n",
       "      <th>pdays</th>\n",
       "      <th>previous</th>\n",
       "      <th>y</th>\n",
       "    </tr>\n",
       "  </thead>\n",
       "  <tbody>\n",
       "    <tr>\n",
       "      <th>count</th>\n",
       "      <td>25317.000000</td>\n",
       "      <td>25317.000000</td>\n",
       "      <td>25317.000000</td>\n",
       "      <td>25317.000000</td>\n",
       "      <td>25317.000000</td>\n",
       "      <td>25317.000000</td>\n",
       "      <td>25317.000000</td>\n",
       "      <td>25317.000000</td>\n",
       "      <td>25317.000000</td>\n",
       "    </tr>\n",
       "    <tr>\n",
       "      <th>mean</th>\n",
       "      <td>12659.000000</td>\n",
       "      <td>40.935379</td>\n",
       "      <td>1357.555082</td>\n",
       "      <td>15.835289</td>\n",
       "      <td>257.732393</td>\n",
       "      <td>2.772050</td>\n",
       "      <td>40.248766</td>\n",
       "      <td>0.591737</td>\n",
       "      <td>0.116957</td>\n",
       "    </tr>\n",
       "    <tr>\n",
       "      <th>std</th>\n",
       "      <td>7308.532719</td>\n",
       "      <td>10.634289</td>\n",
       "      <td>2999.822811</td>\n",
       "      <td>8.319480</td>\n",
       "      <td>256.975151</td>\n",
       "      <td>3.136097</td>\n",
       "      <td>100.213541</td>\n",
       "      <td>2.568313</td>\n",
       "      <td>0.321375</td>\n",
       "    </tr>\n",
       "    <tr>\n",
       "      <th>min</th>\n",
       "      <td>1.000000</td>\n",
       "      <td>18.000000</td>\n",
       "      <td>-8019.000000</td>\n",
       "      <td>1.000000</td>\n",
       "      <td>0.000000</td>\n",
       "      <td>1.000000</td>\n",
       "      <td>-1.000000</td>\n",
       "      <td>0.000000</td>\n",
       "      <td>0.000000</td>\n",
       "    </tr>\n",
       "    <tr>\n",
       "      <th>25%</th>\n",
       "      <td>6330.000000</td>\n",
       "      <td>33.000000</td>\n",
       "      <td>73.000000</td>\n",
       "      <td>8.000000</td>\n",
       "      <td>103.000000</td>\n",
       "      <td>1.000000</td>\n",
       "      <td>-1.000000</td>\n",
       "      <td>0.000000</td>\n",
       "      <td>0.000000</td>\n",
       "    </tr>\n",
       "    <tr>\n",
       "      <th>50%</th>\n",
       "      <td>12659.000000</td>\n",
       "      <td>39.000000</td>\n",
       "      <td>448.000000</td>\n",
       "      <td>16.000000</td>\n",
       "      <td>181.000000</td>\n",
       "      <td>2.000000</td>\n",
       "      <td>-1.000000</td>\n",
       "      <td>0.000000</td>\n",
       "      <td>0.000000</td>\n",
       "    </tr>\n",
       "    <tr>\n",
       "      <th>75%</th>\n",
       "      <td>18988.000000</td>\n",
       "      <td>48.000000</td>\n",
       "      <td>1435.000000</td>\n",
       "      <td>21.000000</td>\n",
       "      <td>317.000000</td>\n",
       "      <td>3.000000</td>\n",
       "      <td>-1.000000</td>\n",
       "      <td>0.000000</td>\n",
       "      <td>0.000000</td>\n",
       "    </tr>\n",
       "    <tr>\n",
       "      <th>max</th>\n",
       "      <td>25317.000000</td>\n",
       "      <td>95.000000</td>\n",
       "      <td>102127.000000</td>\n",
       "      <td>31.000000</td>\n",
       "      <td>3881.000000</td>\n",
       "      <td>55.000000</td>\n",
       "      <td>854.000000</td>\n",
       "      <td>275.000000</td>\n",
       "      <td>1.000000</td>\n",
       "    </tr>\n",
       "  </tbody>\n",
       "</table>\n",
       "</div>"
      ],
      "text/plain": [
       "                 ID           age        balance           day      duration  \\\n",
       "count  25317.000000  25317.000000   25317.000000  25317.000000  25317.000000   \n",
       "mean   12659.000000     40.935379    1357.555082     15.835289    257.732393   \n",
       "std     7308.532719     10.634289    2999.822811      8.319480    256.975151   \n",
       "min        1.000000     18.000000   -8019.000000      1.000000      0.000000   \n",
       "25%     6330.000000     33.000000      73.000000      8.000000    103.000000   \n",
       "50%    12659.000000     39.000000     448.000000     16.000000    181.000000   \n",
       "75%    18988.000000     48.000000    1435.000000     21.000000    317.000000   \n",
       "max    25317.000000     95.000000  102127.000000     31.000000   3881.000000   \n",
       "\n",
       "           campaign         pdays      previous             y  \n",
       "count  25317.000000  25317.000000  25317.000000  25317.000000  \n",
       "mean       2.772050     40.248766      0.591737      0.116957  \n",
       "std        3.136097    100.213541      2.568313      0.321375  \n",
       "min        1.000000     -1.000000      0.000000      0.000000  \n",
       "25%        1.000000     -1.000000      0.000000      0.000000  \n",
       "50%        2.000000     -1.000000      0.000000      0.000000  \n",
       "75%        3.000000     -1.000000      0.000000      0.000000  \n",
       "max       55.000000    854.000000    275.000000      1.000000  "
      ]
     },
     "execution_count": 4,
     "metadata": {},
     "output_type": "execute_result"
    }
   ],
   "source": [
    "train.describe()"
   ]
  },
  {
   "cell_type": "code",
   "execution_count": 5,
   "metadata": {},
   "outputs": [
    {
     "data": {
      "text/html": [
       "<div>\n",
       "<style scoped>\n",
       "    .dataframe tbody tr th:only-of-type {\n",
       "        vertical-align: middle;\n",
       "    }\n",
       "\n",
       "    .dataframe tbody tr th {\n",
       "        vertical-align: top;\n",
       "    }\n",
       "\n",
       "    .dataframe thead th {\n",
       "        text-align: right;\n",
       "    }\n",
       "</style>\n",
       "<table border=\"1\" class=\"dataframe\">\n",
       "  <thead>\n",
       "    <tr style=\"text-align: right;\">\n",
       "      <th></th>\n",
       "      <th>ID</th>\n",
       "      <th>age</th>\n",
       "      <th>balance</th>\n",
       "      <th>day</th>\n",
       "      <th>duration</th>\n",
       "      <th>campaign</th>\n",
       "      <th>pdays</th>\n",
       "      <th>previous</th>\n",
       "    </tr>\n",
       "  </thead>\n",
       "  <tbody>\n",
       "    <tr>\n",
       "      <th>count</th>\n",
       "      <td>10852.000000</td>\n",
       "      <td>10852.000000</td>\n",
       "      <td>10852.000000</td>\n",
       "      <td>10852.000000</td>\n",
       "      <td>10852.000000</td>\n",
       "      <td>10852.000000</td>\n",
       "      <td>10852.000000</td>\n",
       "      <td>10852.000000</td>\n",
       "    </tr>\n",
       "    <tr>\n",
       "      <th>mean</th>\n",
       "      <td>30743.500000</td>\n",
       "      <td>41.040638</td>\n",
       "      <td>1393.157298</td>\n",
       "      <td>15.680151</td>\n",
       "      <td>257.206137</td>\n",
       "      <td>2.770365</td>\n",
       "      <td>39.954755</td>\n",
       "      <td>0.546443</td>\n",
       "    </tr>\n",
       "    <tr>\n",
       "      <th>std</th>\n",
       "      <td>3132.846895</td>\n",
       "      <td>10.652369</td>\n",
       "      <td>3318.497101</td>\n",
       "      <td>8.302317</td>\n",
       "      <td>250.480906</td>\n",
       "      <td>3.063481</td>\n",
       "      <td>99.524056</td>\n",
       "      <td>1.805938</td>\n",
       "    </tr>\n",
       "    <tr>\n",
       "      <th>min</th>\n",
       "      <td>25318.000000</td>\n",
       "      <td>18.000000</td>\n",
       "      <td>-2604.000000</td>\n",
       "      <td>1.000000</td>\n",
       "      <td>0.000000</td>\n",
       "      <td>1.000000</td>\n",
       "      <td>-1.000000</td>\n",
       "      <td>0.000000</td>\n",
       "    </tr>\n",
       "    <tr>\n",
       "      <th>25%</th>\n",
       "      <td>28030.750000</td>\n",
       "      <td>33.000000</td>\n",
       "      <td>72.000000</td>\n",
       "      <td>8.000000</td>\n",
       "      <td>102.000000</td>\n",
       "      <td>1.000000</td>\n",
       "      <td>-1.000000</td>\n",
       "      <td>0.000000</td>\n",
       "    </tr>\n",
       "    <tr>\n",
       "      <th>50%</th>\n",
       "      <td>30743.500000</td>\n",
       "      <td>39.000000</td>\n",
       "      <td>450.000000</td>\n",
       "      <td>16.000000</td>\n",
       "      <td>181.000000</td>\n",
       "      <td>2.000000</td>\n",
       "      <td>-1.000000</td>\n",
       "      <td>0.000000</td>\n",
       "    </tr>\n",
       "    <tr>\n",
       "      <th>75%</th>\n",
       "      <td>33456.250000</td>\n",
       "      <td>49.000000</td>\n",
       "      <td>1440.250000</td>\n",
       "      <td>21.000000</td>\n",
       "      <td>322.000000</td>\n",
       "      <td>3.000000</td>\n",
       "      <td>-1.000000</td>\n",
       "      <td>0.000000</td>\n",
       "    </tr>\n",
       "    <tr>\n",
       "      <th>max</th>\n",
       "      <td>36169.000000</td>\n",
       "      <td>94.000000</td>\n",
       "      <td>81204.000000</td>\n",
       "      <td>31.000000</td>\n",
       "      <td>3102.000000</td>\n",
       "      <td>58.000000</td>\n",
       "      <td>871.000000</td>\n",
       "      <td>51.000000</td>\n",
       "    </tr>\n",
       "  </tbody>\n",
       "</table>\n",
       "</div>"
      ],
      "text/plain": [
       "                 ID           age       balance           day      duration  \\\n",
       "count  10852.000000  10852.000000  10852.000000  10852.000000  10852.000000   \n",
       "mean   30743.500000     41.040638   1393.157298     15.680151    257.206137   \n",
       "std     3132.846895     10.652369   3318.497101      8.302317    250.480906   \n",
       "min    25318.000000     18.000000  -2604.000000      1.000000      0.000000   \n",
       "25%    28030.750000     33.000000     72.000000      8.000000    102.000000   \n",
       "50%    30743.500000     39.000000    450.000000     16.000000    181.000000   \n",
       "75%    33456.250000     49.000000   1440.250000     21.000000    322.000000   \n",
       "max    36169.000000     94.000000  81204.000000     31.000000   3102.000000   \n",
       "\n",
       "           campaign         pdays      previous  \n",
       "count  10852.000000  10852.000000  10852.000000  \n",
       "mean       2.770365     39.954755      0.546443  \n",
       "std        3.063481     99.524056      1.805938  \n",
       "min        1.000000     -1.000000      0.000000  \n",
       "25%        1.000000     -1.000000      0.000000  \n",
       "50%        2.000000     -1.000000      0.000000  \n",
       "75%        3.000000     -1.000000      0.000000  \n",
       "max       58.000000    871.000000     51.000000  "
      ]
     },
     "execution_count": 5,
     "metadata": {},
     "output_type": "execute_result"
    }
   ],
   "source": [
    "test.describe()"
   ]
  },
  {
   "cell_type": "code",
   "execution_count": 6,
   "metadata": {},
   "outputs": [
    {
     "data": {
      "text/html": [
       "<div>\n",
       "<style scoped>\n",
       "    .dataframe tbody tr th:only-of-type {\n",
       "        vertical-align: middle;\n",
       "    }\n",
       "\n",
       "    .dataframe tbody tr th {\n",
       "        vertical-align: top;\n",
       "    }\n",
       "\n",
       "    .dataframe thead th {\n",
       "        text-align: right;\n",
       "    }\n",
       "</style>\n",
       "<table border=\"1\" class=\"dataframe\">\n",
       "  <thead>\n",
       "    <tr style=\"text-align: right;\">\n",
       "      <th></th>\n",
       "      <th>ID</th>\n",
       "      <th>age</th>\n",
       "      <th>balance</th>\n",
       "      <th>day</th>\n",
       "      <th>duration</th>\n",
       "      <th>campaign</th>\n",
       "      <th>pdays</th>\n",
       "      <th>previous</th>\n",
       "      <th>y</th>\n",
       "    </tr>\n",
       "  </thead>\n",
       "  <tbody>\n",
       "    <tr>\n",
       "      <th>ID</th>\n",
       "      <td>1.000000</td>\n",
       "      <td>0.008465</td>\n",
       "      <td>0.032719</td>\n",
       "      <td>-0.020171</td>\n",
       "      <td>0.229149</td>\n",
       "      <td>-0.038265</td>\n",
       "      <td>0.065807</td>\n",
       "      <td>0.047028</td>\n",
       "      <td>0.556627</td>\n",
       "    </tr>\n",
       "    <tr>\n",
       "      <th>age</th>\n",
       "      <td>0.008465</td>\n",
       "      <td>1.000000</td>\n",
       "      <td>0.093740</td>\n",
       "      <td>-0.016070</td>\n",
       "      <td>0.000416</td>\n",
       "      <td>0.006171</td>\n",
       "      <td>-0.026431</td>\n",
       "      <td>0.006575</td>\n",
       "      <td>0.029916</td>\n",
       "    </tr>\n",
       "    <tr>\n",
       "      <th>balance</th>\n",
       "      <td>0.032719</td>\n",
       "      <td>0.093740</td>\n",
       "      <td>1.000000</td>\n",
       "      <td>0.010245</td>\n",
       "      <td>0.026042</td>\n",
       "      <td>-0.010419</td>\n",
       "      <td>0.001032</td>\n",
       "      <td>0.015792</td>\n",
       "      <td>0.057564</td>\n",
       "    </tr>\n",
       "    <tr>\n",
       "      <th>day</th>\n",
       "      <td>-0.020171</td>\n",
       "      <td>-0.016070</td>\n",
       "      <td>0.010245</td>\n",
       "      <td>1.000000</td>\n",
       "      <td>-0.031946</td>\n",
       "      <td>0.168830</td>\n",
       "      <td>-0.092892</td>\n",
       "      <td>-0.050706</td>\n",
       "      <td>-0.031886</td>\n",
       "    </tr>\n",
       "    <tr>\n",
       "      <th>duration</th>\n",
       "      <td>0.229149</td>\n",
       "      <td>0.000416</td>\n",
       "      <td>0.026042</td>\n",
       "      <td>-0.031946</td>\n",
       "      <td>1.000000</td>\n",
       "      <td>-0.087780</td>\n",
       "      <td>0.000040</td>\n",
       "      <td>0.001315</td>\n",
       "      <td>0.394746</td>\n",
       "    </tr>\n",
       "    <tr>\n",
       "      <th>campaign</th>\n",
       "      <td>-0.038265</td>\n",
       "      <td>0.006171</td>\n",
       "      <td>-0.010419</td>\n",
       "      <td>0.168830</td>\n",
       "      <td>-0.087780</td>\n",
       "      <td>1.000000</td>\n",
       "      <td>-0.089224</td>\n",
       "      <td>-0.031667</td>\n",
       "      <td>-0.075173</td>\n",
       "    </tr>\n",
       "    <tr>\n",
       "      <th>pdays</th>\n",
       "      <td>0.065807</td>\n",
       "      <td>-0.026431</td>\n",
       "      <td>0.001032</td>\n",
       "      <td>-0.092892</td>\n",
       "      <td>0.000040</td>\n",
       "      <td>-0.089224</td>\n",
       "      <td>1.000000</td>\n",
       "      <td>0.411688</td>\n",
       "      <td>0.107565</td>\n",
       "    </tr>\n",
       "    <tr>\n",
       "      <th>previous</th>\n",
       "      <td>0.047028</td>\n",
       "      <td>0.006575</td>\n",
       "      <td>0.015792</td>\n",
       "      <td>-0.050706</td>\n",
       "      <td>0.001315</td>\n",
       "      <td>-0.031667</td>\n",
       "      <td>0.411688</td>\n",
       "      <td>1.000000</td>\n",
       "      <td>0.088337</td>\n",
       "    </tr>\n",
       "    <tr>\n",
       "      <th>y</th>\n",
       "      <td>0.556627</td>\n",
       "      <td>0.029916</td>\n",
       "      <td>0.057564</td>\n",
       "      <td>-0.031886</td>\n",
       "      <td>0.394746</td>\n",
       "      <td>-0.075173</td>\n",
       "      <td>0.107565</td>\n",
       "      <td>0.088337</td>\n",
       "      <td>1.000000</td>\n",
       "    </tr>\n",
       "  </tbody>\n",
       "</table>\n",
       "</div>"
      ],
      "text/plain": [
       "                ID       age   balance       day  duration  campaign  \\\n",
       "ID        1.000000  0.008465  0.032719 -0.020171  0.229149 -0.038265   \n",
       "age       0.008465  1.000000  0.093740 -0.016070  0.000416  0.006171   \n",
       "balance   0.032719  0.093740  1.000000  0.010245  0.026042 -0.010419   \n",
       "day      -0.020171 -0.016070  0.010245  1.000000 -0.031946  0.168830   \n",
       "duration  0.229149  0.000416  0.026042 -0.031946  1.000000 -0.087780   \n",
       "campaign -0.038265  0.006171 -0.010419  0.168830 -0.087780  1.000000   \n",
       "pdays     0.065807 -0.026431  0.001032 -0.092892  0.000040 -0.089224   \n",
       "previous  0.047028  0.006575  0.015792 -0.050706  0.001315 -0.031667   \n",
       "y         0.556627  0.029916  0.057564 -0.031886  0.394746 -0.075173   \n",
       "\n",
       "             pdays  previous         y  \n",
       "ID        0.065807  0.047028  0.556627  \n",
       "age      -0.026431  0.006575  0.029916  \n",
       "balance   0.001032  0.015792  0.057564  \n",
       "day      -0.092892 -0.050706 -0.031886  \n",
       "duration  0.000040  0.001315  0.394746  \n",
       "campaign -0.089224 -0.031667 -0.075173  \n",
       "pdays     1.000000  0.411688  0.107565  \n",
       "previous  0.411688  1.000000  0.088337  \n",
       "y         0.107565  0.088337  1.000000  "
      ]
     },
     "execution_count": 6,
     "metadata": {},
     "output_type": "execute_result"
    }
   ],
   "source": [
    "train.corr()"
   ]
  },
  {
   "cell_type": "code",
   "execution_count": 7,
   "metadata": {},
   "outputs": [
    {
     "data": {
      "text/plain": [
       "blue-collar      5456\n",
       "management       5296\n",
       "technician       4241\n",
       "admin.           2909\n",
       "services         2342\n",
       "retired          1273\n",
       "self-employed     884\n",
       "entrepreneur      856\n",
       "unemployed        701\n",
       "housemaid         663\n",
       "student           533\n",
       "unknown           163\n",
       "Name: job, dtype: int64"
      ]
     },
     "execution_count": 7,
     "metadata": {},
     "output_type": "execute_result"
    }
   ],
   "source": [
    "train.job.value_counts()"
   ]
  },
  {
   "cell_type": "code",
   "execution_count": 8,
   "metadata": {},
   "outputs": [],
   "source": [
    "# data=pd.concat([train,test])"
   ]
  },
  {
   "cell_type": "code",
   "execution_count": 9,
   "metadata": {},
   "outputs": [
    {
     "name": "stdout",
     "output_type": "stream",
     "text": [
      "18\n"
     ]
    }
   ],
   "source": [
    "test['y']=-1\n",
    "print(len(test.columns))"
   ]
  },
  {
   "cell_type": "code",
   "execution_count": 10,
   "metadata": {},
   "outputs": [
    {
     "name": "stdout",
     "output_type": "stream",
     "text": [
      "   ID  age         job   marital  education default  balance housing loan  \\\n",
      "0   1   43  management   married   tertiary      no      291     yes   no   \n",
      "1   2   42  technician  divorced    primary      no     5076     yes   no   \n",
      "2   3   47      admin.   married  secondary      no      104     yes  yes   \n",
      "3   4   28  management    single  secondary      no     -994     yes  yes   \n",
      "4   5   42  technician  divorced  secondary      no     2974     yes   no   \n",
      "\n",
      "    contact  day month  duration  campaign  pdays  previous poutcome  y  \n",
      "0   unknown    9   may       150         2     -1         0  unknown  0  \n",
      "1  cellular    7   apr        99         1    251         2    other  0  \n",
      "2  cellular   14   jul        77         2     -1         0  unknown  0  \n",
      "3  cellular   18   jul       174         2     -1         0  unknown  0  \n",
      "4   unknown   21   may       187         5     -1         0  unknown  0  \n"
     ]
    }
   ],
   "source": [
    "data = train.append(test).reset_index(drop=True)\n",
    "# data = pd.concat([train,test]).reset_index(drop=True)\n",
    "print(data.head())"
   ]
  },
  {
   "cell_type": "code",
   "execution_count": 11,
   "metadata": {},
   "outputs": [],
   "source": [
    "path='./'\n",
    "import os\n",
    "import json\n",
    "import gc\n",
    "# os.system('pip install numba')\n",
    "from numba import jit\n",
    "#tqdm\n",
    "# os.system('pip install tqdm')\n",
    "from tqdm import tqdm_notebook\n",
    "from tqdm import tqdm\n",
    "\n",
    "#Integrated model\n",
    "# os.system('pip install lightgbm')\n",
    "import lightgbm as lgb\n",
    "# os.system('pip install catboost==0.15.2')\n",
    "import catboost as cbt\n",
    "# os.system('pip install xgboost')\n",
    "# import xgboost as xgb\n",
    "\n",
    "#base import \n",
    "import numpy as np\n",
    "import pandas as pd\n",
    "\n",
    "# about sklearn\n",
    "from sklearn.metrics import roc_auc_score\n",
    "from sklearn.model_selection import StratifiedKFold, KFold, RepeatedKFold\n",
    "from sklearn.preprocessing import LabelEncoder\n",
    "from sklearn.preprocessing import StandardScaler\n",
    "from sklearn.metrics import mean_absolute_error\n",
    "from sklearn.linear_model import LinearRegression\n",
    "from sklearn.preprocessing import StandardScaler as std\n",
    "from sklearn.kernel_ridge import KernelRidge\n",
    "from sklearn.metrics import f1_score\n",
    "#about time\n",
    "import time\n",
    "import datetime \n",
    "from datetime import datetime, timedelta\n",
    "\n",
    "#Garbage collection\n",
    "import gc\n",
    "# scipy\n",
    "from scipy.signal import hilbert\n",
    "from scipy.signal import hann\n",
    "from scipy.signal import convolve\n",
    "from scipy import stats\n",
    "import scipy.spatial.distance as dist\n",
    "#other\n",
    "from collections import Counter \n",
    "from statistics import mode \n",
    "    #warning\n",
    "import warnings\n",
    "warnings.filterwarnings(\"ignore\")\n",
    "import json \n",
    "import math\n",
    "from itertools import product\n",
    "import ast "
   ]
  },
  {
   "cell_type": "code",
   "execution_count": 12,
   "metadata": {},
   "outputs": [],
   "source": [
    "cate_features = ['job', 'marital','education','default','housing','loan','contact','month','poutcome']\n",
    "num_features = ['age', 'balance','day','duration','campaign','pdays','previous']\n",
    "feature1 = cate_features + num_features"
   ]
  },
  {
   "cell_type": "code",
   "execution_count": 13,
   "metadata": {},
   "outputs": [],
   "source": [
    "def feature_count(data, features):\n",
    "    feature_name = 'count'\n",
    "    for i in features:\n",
    "        feature_name += '_' + i\n",
    "    temp = data.groupby(features).size().reset_index().rename(columns={0: feature_name})\n",
    "    data = data.merge(temp, 'left', on=features)\n",
    "    return data,feature_name\n",
    "ll=[]\n",
    "for f in['campaign', 'contact','default','education','housing','job','loan','marital','poutcome','pdays','previous']:\n",
    "    data,_=feature_count(data,['day','month',f])\n",
    "    ll.append(_)"
   ]
  },
  {
   "cell_type": "code",
   "execution_count": 14,
   "metadata": {},
   "outputs": [
    {
     "data": {
      "text/plain": [
       "['count_day_month_campaign',\n",
       " 'count_day_month_contact',\n",
       " 'count_day_month_default',\n",
       " 'count_day_month_education',\n",
       " 'count_day_month_housing',\n",
       " 'count_day_month_job',\n",
       " 'count_day_month_loan',\n",
       " 'count_day_month_marital',\n",
       " 'count_day_month_poutcome',\n",
       " 'count_day_month_pdays',\n",
       " 'count_day_month_previous']"
      ]
     },
     "execution_count": 14,
     "metadata": {},
     "output_type": "execute_result"
    }
   ],
   "source": [
    "ll"
   ]
  },
  {
   "cell_type": "code",
   "execution_count": 15,
   "metadata": {},
   "outputs": [
    {
     "name": "stderr",
     "output_type": "stream",
     "text": [
      "100%|██████████████████████████████████████████████████████████████████████████████████| 10/10 [00:18<00:00,  1.84s/it]\n"
     ]
    }
   ],
   "source": [
    "sparse_feature= ['campaign','contact','default','education','housing','job','loan','marital','month','poutcome']\n",
    "dense_feature=['age', 'balance','day','duration','campaign','pdays','previous']\n",
    "crossf=[]\n",
    "for d in tqdm(sparse_feature):\n",
    "    aggs={}\n",
    "    for s in sparse_feature:\n",
    "        aggs[s]=['count','nunique']\n",
    "        crossf+=['count_'+str(d)+'_'+str(s),'nunique_'+str(d)+'_'+str(s)]\n",
    "        temp=data.groupby(d)[s].agg([('count_'+str(d)+'_'+str(s),'count'),('nunique_'+str(d)+'_'+str(s),'nunique')]).reset_index()\n",
    "        data=pd.merge(data,temp,on=d,how='left')"
   ]
  },
  {
   "cell_type": "code",
   "execution_count": 16,
   "metadata": {},
   "outputs": [
    {
     "data": {
      "text/html": [
       "<div>\n",
       "<style scoped>\n",
       "    .dataframe tbody tr th:only-of-type {\n",
       "        vertical-align: middle;\n",
       "    }\n",
       "\n",
       "    .dataframe tbody tr th {\n",
       "        vertical-align: top;\n",
       "    }\n",
       "\n",
       "    .dataframe thead th {\n",
       "        text-align: right;\n",
       "    }\n",
       "</style>\n",
       "<table border=\"1\" class=\"dataframe\">\n",
       "  <thead>\n",
       "    <tr style=\"text-align: right;\">\n",
       "      <th></th>\n",
       "      <th>poutcome</th>\n",
       "      <th>count_poutcome_poutcome</th>\n",
       "      <th>nunique_poutcome_poutcome</th>\n",
       "    </tr>\n",
       "  </thead>\n",
       "  <tbody>\n",
       "    <tr>\n",
       "      <th>0</th>\n",
       "      <td>failure</td>\n",
       "      <td>3938</td>\n",
       "      <td>1</td>\n",
       "    </tr>\n",
       "    <tr>\n",
       "      <th>1</th>\n",
       "      <td>other</td>\n",
       "      <td>1475</td>\n",
       "      <td>1</td>\n",
       "    </tr>\n",
       "    <tr>\n",
       "      <th>2</th>\n",
       "      <td>success</td>\n",
       "      <td>1202</td>\n",
       "      <td>1</td>\n",
       "    </tr>\n",
       "    <tr>\n",
       "      <th>3</th>\n",
       "      <td>unknown</td>\n",
       "      <td>29554</td>\n",
       "      <td>1</td>\n",
       "    </tr>\n",
       "  </tbody>\n",
       "</table>\n",
       "</div>"
      ],
      "text/plain": [
       "  poutcome  count_poutcome_poutcome  nunique_poutcome_poutcome\n",
       "0  failure                     3938                          1\n",
       "1    other                     1475                          1\n",
       "2  success                     1202                          1\n",
       "3  unknown                    29554                          1"
      ]
     },
     "execution_count": 16,
     "metadata": {},
     "output_type": "execute_result"
    }
   ],
   "source": [
    "temp.head()"
   ]
  },
  {
   "cell_type": "code",
   "execution_count": 17,
   "metadata": {},
   "outputs": [
    {
     "name": "stderr",
     "output_type": "stream",
     "text": [
      "100%|██████████████████████████████████████████████████████████████████████████████████| 10/10 [03:05<00:00, 18.51s/it]\n"
     ]
    }
   ],
   "source": [
    "for d in tqdm(sparse_feature):\n",
    "    aggs={}\n",
    "    for s in dense_feature:\n",
    "#         aggs[s]=['count','nunique']\n",
    "        crossf+=[str(d)+'_mean_'+str(s),str(d)+'_max_'+str(s),str(d)+'_min_'+str(s),str(d)+'_std_'+str(s)]\n",
    "        temp = data.groupby(d)[s].agg([(str(d)+'_mean_'+str(s),'mean'),(str(d)+'_max_'+str(s),'max'),(str(d)+'_min_'+str(s),'min'),(str(d)+'_std_'+str(s),'std')]).reset_index()\n",
    "        data=pd.merge(data,temp,on=d,how='left')"
   ]
  },
  {
   "cell_type": "code",
   "execution_count": 18,
   "metadata": {},
   "outputs": [
    {
     "data": {
      "text/html": [
       "<div>\n",
       "<style scoped>\n",
       "    .dataframe tbody tr th:only-of-type {\n",
       "        vertical-align: middle;\n",
       "    }\n",
       "\n",
       "    .dataframe tbody tr th {\n",
       "        vertical-align: top;\n",
       "    }\n",
       "\n",
       "    .dataframe thead th {\n",
       "        text-align: right;\n",
       "    }\n",
       "</style>\n",
       "<table border=\"1\" class=\"dataframe\">\n",
       "  <thead>\n",
       "    <tr style=\"text-align: right;\">\n",
       "      <th></th>\n",
       "      <th>poutcome</th>\n",
       "      <th>poutcome_mean_previous</th>\n",
       "      <th>poutcome_max_previous</th>\n",
       "      <th>poutcome_min_previous</th>\n",
       "      <th>poutcome_std_previous</th>\n",
       "    </tr>\n",
       "  </thead>\n",
       "  <tbody>\n",
       "    <tr>\n",
       "      <th>0</th>\n",
       "      <td>failure</td>\n",
       "      <td>2.874556</td>\n",
       "      <td>51</td>\n",
       "      <td>1</td>\n",
       "      <td>3.036148</td>\n",
       "    </tr>\n",
       "    <tr>\n",
       "      <th>1</th>\n",
       "      <td>other</td>\n",
       "      <td>4.019661</td>\n",
       "      <td>275</td>\n",
       "      <td>1</td>\n",
       "      <td>8.374317</td>\n",
       "    </tr>\n",
       "    <tr>\n",
       "      <th>2</th>\n",
       "      <td>success</td>\n",
       "      <td>3.032446</td>\n",
       "      <td>22</td>\n",
       "      <td>1</td>\n",
       "      <td>2.467733</td>\n",
       "    </tr>\n",
       "    <tr>\n",
       "      <th>3</th>\n",
       "      <td>unknown</td>\n",
       "      <td>0.000575</td>\n",
       "      <td>7</td>\n",
       "      <td>0</td>\n",
       "      <td>0.052992</td>\n",
       "    </tr>\n",
       "  </tbody>\n",
       "</table>\n",
       "</div>"
      ],
      "text/plain": [
       "  poutcome  poutcome_mean_previous  poutcome_max_previous  \\\n",
       "0  failure                2.874556                     51   \n",
       "1    other                4.019661                    275   \n",
       "2  success                3.032446                     22   \n",
       "3  unknown                0.000575                      7   \n",
       "\n",
       "   poutcome_min_previous  poutcome_std_previous  \n",
       "0                      1               3.036148  \n",
       "1                      1               8.374317  \n",
       "2                      1               2.467733  \n",
       "3                      0               0.052992  "
      ]
     },
     "execution_count": 18,
     "metadata": {},
     "output_type": "execute_result"
    }
   ],
   "source": [
    "temp.head()"
   ]
  },
  {
   "cell_type": "code",
   "execution_count": 19,
   "metadata": {},
   "outputs": [
    {
     "data": {
      "application/vnd.jupyter.widget-view+json": {
       "model_id": "a8bb31ad913a4995b34e00065e692962",
       "version_major": 2,
       "version_minor": 0
      },
      "text/plain": [
       "  0%|          | 0/9 [00:00<?, ?it/s]"
      ]
     },
     "metadata": {},
     "output_type": "display_data"
    }
   ],
   "source": [
    "cat_col = [i for i in data.select_dtypes(object).columns if i not in ['ID','y']]\n",
    "for i in tqdm_notebook(cat_col):\n",
    "    lbl = LabelEncoder()\n",
    "    data[i] = lbl.fit_transform(data[i].astype(str))\n",
    "    \n",
    "# for i in cat_col:\n",
    "#     data[i] = data[i].astype('category')"
   ]
  },
  {
   "cell_type": "code",
   "execution_count": 20,
   "metadata": {},
   "outputs": [],
   "source": [
    "for col in category_feats_0 :\n",
    "    onehot_feats = pd.get_dummies(data[col], prefix = col)\n",
    "    data.drop([col], axis = 1, inplace = True)\n",
    "    data = pd.concat([data, onehot_feats], axis = 1)"
   ]
  },
  {
   "cell_type": "code",
   "execution_count": 21,
   "metadata": {},
   "outputs": [
    {
     "data": {
      "text/plain": [
       "(36169, 544)"
      ]
     },
     "execution_count": 21,
     "metadata": {},
     "output_type": "execute_result"
    }
   ],
   "source": [
    "data.shape"
   ]
  },
  {
   "cell_type": "code",
   "execution_count": 22,
   "metadata": {},
   "outputs": [],
   "source": [
    "data = data.fillna(-1)"
   ]
  },
  {
   "cell_type": "code",
   "execution_count": 23,
   "metadata": {},
   "outputs": [],
   "source": [
    "continuous_feature = [i for i in data.columns if i not in ['ID','y']]"
   ]
  },
  {
   "cell_type": "code",
   "execution_count": 24,
   "metadata": {},
   "outputs": [],
   "source": [
    "from sklearn.preprocessing import MinMaxScaler, OneHotEncoder, LabelEncoder\n",
    "scaler = MinMaxScaler()\n",
    "for col in continuous_feature:\n",
    "    data[col] = scaler.fit_transform(data[col].values.reshape(-1, 1))"
   ]
  },
  {
   "cell_type": "code",
   "execution_count": 25,
   "metadata": {},
   "outputs": [
    {
     "data": {
      "text/html": [
       "<div>\n",
       "<style scoped>\n",
       "    .dataframe tbody tr th:only-of-type {\n",
       "        vertical-align: middle;\n",
       "    }\n",
       "\n",
       "    .dataframe tbody tr th {\n",
       "        vertical-align: top;\n",
       "    }\n",
       "\n",
       "    .dataframe thead th {\n",
       "        text-align: right;\n",
       "    }\n",
       "</style>\n",
       "<table border=\"1\" class=\"dataframe\">\n",
       "  <thead>\n",
       "    <tr style=\"text-align: right;\">\n",
       "      <th></th>\n",
       "      <th>ID</th>\n",
       "      <th>age</th>\n",
       "      <th>balance</th>\n",
       "      <th>day</th>\n",
       "      <th>duration</th>\n",
       "      <th>campaign</th>\n",
       "      <th>pdays</th>\n",
       "      <th>previous</th>\n",
       "      <th>y</th>\n",
       "      <th>count_day_month_campaign</th>\n",
       "      <th>...</th>\n",
       "      <th>month_6</th>\n",
       "      <th>month_7</th>\n",
       "      <th>month_8</th>\n",
       "      <th>month_9</th>\n",
       "      <th>month_10</th>\n",
       "      <th>month_11</th>\n",
       "      <th>poutcome_0</th>\n",
       "      <th>poutcome_1</th>\n",
       "      <th>poutcome_2</th>\n",
       "      <th>poutcome_3</th>\n",
       "    </tr>\n",
       "  </thead>\n",
       "  <tbody>\n",
       "    <tr>\n",
       "      <th>0</th>\n",
       "      <td>1</td>\n",
       "      <td>0.324675</td>\n",
       "      <td>0.075445</td>\n",
       "      <td>0.266667</td>\n",
       "      <td>0.038650</td>\n",
       "      <td>0.017544</td>\n",
       "      <td>0.000000</td>\n",
       "      <td>0.000000</td>\n",
       "      <td>0</td>\n",
       "      <td>0.293651</td>\n",
       "      <td>...</td>\n",
       "      <td>0.0</td>\n",
       "      <td>0.0</td>\n",
       "      <td>1.0</td>\n",
       "      <td>0.0</td>\n",
       "      <td>0.0</td>\n",
       "      <td>0.0</td>\n",
       "      <td>0.0</td>\n",
       "      <td>0.0</td>\n",
       "      <td>0.0</td>\n",
       "      <td>1.0</td>\n",
       "    </tr>\n",
       "    <tr>\n",
       "      <th>1</th>\n",
       "      <td>2</td>\n",
       "      <td>0.311688</td>\n",
       "      <td>0.118888</td>\n",
       "      <td>0.200000</td>\n",
       "      <td>0.025509</td>\n",
       "      <td>0.000000</td>\n",
       "      <td>0.288991</td>\n",
       "      <td>0.007273</td>\n",
       "      <td>0</td>\n",
       "      <td>0.105820</td>\n",
       "      <td>...</td>\n",
       "      <td>0.0</td>\n",
       "      <td>0.0</td>\n",
       "      <td>0.0</td>\n",
       "      <td>0.0</td>\n",
       "      <td>0.0</td>\n",
       "      <td>0.0</td>\n",
       "      <td>0.0</td>\n",
       "      <td>1.0</td>\n",
       "      <td>0.0</td>\n",
       "      <td>0.0</td>\n",
       "    </tr>\n",
       "    <tr>\n",
       "      <th>2</th>\n",
       "      <td>3</td>\n",
       "      <td>0.376623</td>\n",
       "      <td>0.073748</td>\n",
       "      <td>0.433333</td>\n",
       "      <td>0.019840</td>\n",
       "      <td>0.017544</td>\n",
       "      <td>0.000000</td>\n",
       "      <td>0.000000</td>\n",
       "      <td>0</td>\n",
       "      <td>0.203704</td>\n",
       "      <td>...</td>\n",
       "      <td>0.0</td>\n",
       "      <td>0.0</td>\n",
       "      <td>0.0</td>\n",
       "      <td>0.0</td>\n",
       "      <td>0.0</td>\n",
       "      <td>0.0</td>\n",
       "      <td>0.0</td>\n",
       "      <td>0.0</td>\n",
       "      <td>0.0</td>\n",
       "      <td>1.0</td>\n",
       "    </tr>\n",
       "    <tr>\n",
       "      <th>3</th>\n",
       "      <td>4</td>\n",
       "      <td>0.129870</td>\n",
       "      <td>0.063779</td>\n",
       "      <td>0.566667</td>\n",
       "      <td>0.044834</td>\n",
       "      <td>0.017544</td>\n",
       "      <td>0.000000</td>\n",
       "      <td>0.000000</td>\n",
       "      <td>0</td>\n",
       "      <td>0.126984</td>\n",
       "      <td>...</td>\n",
       "      <td>0.0</td>\n",
       "      <td>0.0</td>\n",
       "      <td>0.0</td>\n",
       "      <td>0.0</td>\n",
       "      <td>0.0</td>\n",
       "      <td>0.0</td>\n",
       "      <td>0.0</td>\n",
       "      <td>0.0</td>\n",
       "      <td>0.0</td>\n",
       "      <td>1.0</td>\n",
       "    </tr>\n",
       "    <tr>\n",
       "      <th>4</th>\n",
       "      <td>5</td>\n",
       "      <td>0.311688</td>\n",
       "      <td>0.099804</td>\n",
       "      <td>0.666667</td>\n",
       "      <td>0.048183</td>\n",
       "      <td>0.070175</td>\n",
       "      <td>0.000000</td>\n",
       "      <td>0.000000</td>\n",
       "      <td>0</td>\n",
       "      <td>0.037037</td>\n",
       "      <td>...</td>\n",
       "      <td>0.0</td>\n",
       "      <td>0.0</td>\n",
       "      <td>1.0</td>\n",
       "      <td>0.0</td>\n",
       "      <td>0.0</td>\n",
       "      <td>0.0</td>\n",
       "      <td>0.0</td>\n",
       "      <td>0.0</td>\n",
       "      <td>0.0</td>\n",
       "      <td>1.0</td>\n",
       "    </tr>\n",
       "  </tbody>\n",
       "</table>\n",
       "<p>5 rows × 544 columns</p>\n",
       "</div>"
      ],
      "text/plain": [
       "   ID       age   balance       day  duration  campaign     pdays  previous  \\\n",
       "0   1  0.324675  0.075445  0.266667  0.038650  0.017544  0.000000  0.000000   \n",
       "1   2  0.311688  0.118888  0.200000  0.025509  0.000000  0.288991  0.007273   \n",
       "2   3  0.376623  0.073748  0.433333  0.019840  0.017544  0.000000  0.000000   \n",
       "3   4  0.129870  0.063779  0.566667  0.044834  0.017544  0.000000  0.000000   \n",
       "4   5  0.311688  0.099804  0.666667  0.048183  0.070175  0.000000  0.000000   \n",
       "\n",
       "   y  count_day_month_campaign  ...  month_6  month_7  month_8  month_9  \\\n",
       "0  0                  0.293651  ...      0.0      0.0      1.0      0.0   \n",
       "1  0                  0.105820  ...      0.0      0.0      0.0      0.0   \n",
       "2  0                  0.203704  ...      0.0      0.0      0.0      0.0   \n",
       "3  0                  0.126984  ...      0.0      0.0      0.0      0.0   \n",
       "4  0                  0.037037  ...      0.0      0.0      1.0      0.0   \n",
       "\n",
       "   month_10  month_11  poutcome_0  poutcome_1  poutcome_2  poutcome_3  \n",
       "0       0.0       0.0         0.0         0.0         0.0         1.0  \n",
       "1       0.0       0.0         0.0         1.0         0.0         0.0  \n",
       "2       0.0       0.0         0.0         0.0         0.0         1.0  \n",
       "3       0.0       0.0         0.0         0.0         0.0         1.0  \n",
       "4       0.0       0.0         0.0         0.0         0.0         1.0  \n",
       "\n",
       "[5 rows x 544 columns]"
      ]
     },
     "execution_count": 25,
     "metadata": {},
     "output_type": "execute_result"
    }
   ],
   "source": [
    "data.head()"
   ]
  },
  {
   "cell_type": "code",
   "execution_count": 26,
   "metadata": {},
   "outputs": [],
   "source": [
    "import numpy as np\n",
    "import pandas as pd\n"
   ]
  },
  {
   "cell_type": "code",
   "execution_count": 27,
   "metadata": {},
   "outputs": [],
   "source": [
    "train=data[data['y']!=-1]\n",
    "test=data[data['y']==-1]"
   ]
  },
  {
   "cell_type": "code",
   "execution_count": 28,
   "metadata": {},
   "outputs": [],
   "source": [
    "X_train = train[continuous_feature]\n",
    "y_train = train['y']"
   ]
  },
  {
   "cell_type": "code",
   "execution_count": 29,
   "metadata": {},
   "outputs": [],
   "source": [
    "X_test = test[continuous_feature]\n",
    "y_test = test['y']"
   ]
  },
  {
   "cell_type": "code",
   "execution_count": 30,
   "metadata": {},
   "outputs": [],
   "source": [
    "train_x, vali_x, train_y, vali_y = train_test_split(X_train , y_train, test_size=0.3, random_state=42)"
   ]
  },
  {
   "cell_type": "code",
   "execution_count": 31,
   "metadata": {},
   "outputs": [
    {
     "name": "stdout",
     "output_type": "stream",
     "text": [
      "[1]\ttrain's binary_logloss: 0.33811\tval's binary_logloss: 0.340186\n",
      "[2]\ttrain's binary_logloss: 0.31982\tval's binary_logloss: 0.325223\n",
      "[3]\ttrain's binary_logloss: 0.304312\tval's binary_logloss: 0.31281\n",
      "[4]\ttrain's binary_logloss: 0.291382\tval's binary_logloss: 0.30195\n",
      "[5]\ttrain's binary_logloss: 0.279951\tval's binary_logloss: 0.292493\n",
      "[6]\ttrain's binary_logloss: 0.270041\tval's binary_logloss: 0.284575\n",
      "[7]\ttrain's binary_logloss: 0.264168\tval's binary_logloss: 0.280626\n",
      "[8]\ttrain's binary_logloss: 0.255364\tval's binary_logloss: 0.273953\n",
      "[9]\ttrain's binary_logloss: 0.247463\tval's binary_logloss: 0.267447\n",
      "[10]\ttrain's binary_logloss: 0.240324\tval's binary_logloss: 0.261561\n"
     ]
    }
   ],
   "source": [
    "\n",
    "clf = lgb.LGBMRegressor(objective='binary',\n",
    "                       subsample= 0.8,\n",
    "                       min_child_weight= 0.5,\n",
    "                       colsample_bytree= 0.7,\n",
    "                       num_leaves =100,\n",
    "                       max_depth = 12,\n",
    "                       learning_rate = 0.05,\n",
    "                       n_estimators = 10,\n",
    "                       boosting_type='gbdt'\n",
    "                       )\n",
    "clf.fit(train_x,train_y,\n",
    "        eval_set = [(train_x,train_y),(vali_x,vali_y)],\n",
    "       eval_names = ['train','val'],\n",
    "       eval_metric = 'binary_logloss'\n",
    "       )\n",
    "model = clf.booster_"
   ]
  },
  {
   "cell_type": "code",
   "execution_count": 33,
   "metadata": {},
   "outputs": [],
   "source": [
    "gbdt_feats_train = model.predict(train_x, pred_leaf= True)\n",
    "gbdt_feats_test = model.predict(vali_x, pred_leaf= True)\n",
    "gbdt_feats_name = ['gbdt_leaf_' + str(i) for i in range(gbdt_feats_train.shape[1])]\n",
    "df_train_gbdt_feats = pd.DataFrame(gbdt_feats_train, columns=gbdt_feats_name)\n",
    "df_vali_gbdt_feats = pd.DataFrame(gbdt_feats_test, columns=gbdt_feats_name)"
   ]
  },
  {
   "cell_type": "code",
   "execution_count": 35,
   "metadata": {},
   "outputs": [
    {
     "data": {
      "text/plain": [
       "array([75, 59, 14, 40, 52, 38, 54, 17, 27, 27])"
      ]
     },
     "execution_count": 35,
     "metadata": {},
     "output_type": "execute_result"
    }
   ],
   "source": [
    "gbdt_feats_train[0]"
   ]
  },
  {
   "cell_type": "code",
   "execution_count": 38,
   "metadata": {},
   "outputs": [],
   "source": [
    "gbdt_feats_name = ['gbdt_leaf_'+str(i) for i in range(gbdt_feats_train.shape[1])]\n",
    "df_train_gbdt_feats = pd.DataFrame(gbdt_feats_train,columns = gbdt_feats_name)\n",
    "df_vali_gbdt_feats = pd.DataFrame(gbdt_feats_test, columns = gbdt_feats_name)"
   ]
  },
  {
   "cell_type": "code",
   "execution_count": 39,
   "metadata": {},
   "outputs": [
    {
     "data": {
      "text/plain": [
       "(17721, 10)"
      ]
     },
     "execution_count": 39,
     "metadata": {},
     "output_type": "execute_result"
    }
   ],
   "source": [
    "gbdt_feats_train.shape"
   ]
  },
  {
   "cell_type": "code",
   "execution_count": 40,
   "metadata": {},
   "outputs": [
    {
     "data": {
      "text/html": [
       "<div>\n",
       "<style scoped>\n",
       "    .dataframe tbody tr th:only-of-type {\n",
       "        vertical-align: middle;\n",
       "    }\n",
       "\n",
       "    .dataframe tbody tr th {\n",
       "        vertical-align: top;\n",
       "    }\n",
       "\n",
       "    .dataframe thead th {\n",
       "        text-align: right;\n",
       "    }\n",
       "</style>\n",
       "<table border=\"1\" class=\"dataframe\">\n",
       "  <thead>\n",
       "    <tr style=\"text-align: right;\">\n",
       "      <th></th>\n",
       "      <th>gbdt_leaf_0</th>\n",
       "      <th>gbdt_leaf_1</th>\n",
       "      <th>gbdt_leaf_2</th>\n",
       "      <th>gbdt_leaf_3</th>\n",
       "      <th>gbdt_leaf_4</th>\n",
       "      <th>gbdt_leaf_5</th>\n",
       "      <th>gbdt_leaf_6</th>\n",
       "      <th>gbdt_leaf_7</th>\n",
       "      <th>gbdt_leaf_8</th>\n",
       "      <th>gbdt_leaf_9</th>\n",
       "    </tr>\n",
       "  </thead>\n",
       "  <tbody>\n",
       "    <tr>\n",
       "      <th>0</th>\n",
       "      <td>75</td>\n",
       "      <td>59</td>\n",
       "      <td>14</td>\n",
       "      <td>40</td>\n",
       "      <td>52</td>\n",
       "      <td>38</td>\n",
       "      <td>54</td>\n",
       "      <td>17</td>\n",
       "      <td>27</td>\n",
       "      <td>27</td>\n",
       "    </tr>\n",
       "    <tr>\n",
       "      <th>1</th>\n",
       "      <td>90</td>\n",
       "      <td>14</td>\n",
       "      <td>4</td>\n",
       "      <td>55</td>\n",
       "      <td>57</td>\n",
       "      <td>94</td>\n",
       "      <td>34</td>\n",
       "      <td>87</td>\n",
       "      <td>12</td>\n",
       "      <td>46</td>\n",
       "    </tr>\n",
       "    <tr>\n",
       "      <th>2</th>\n",
       "      <td>30</td>\n",
       "      <td>11</td>\n",
       "      <td>9</td>\n",
       "      <td>89</td>\n",
       "      <td>5</td>\n",
       "      <td>70</td>\n",
       "      <td>1</td>\n",
       "      <td>7</td>\n",
       "      <td>37</td>\n",
       "      <td>74</td>\n",
       "    </tr>\n",
       "    <tr>\n",
       "      <th>3</th>\n",
       "      <td>30</td>\n",
       "      <td>11</td>\n",
       "      <td>9</td>\n",
       "      <td>7</td>\n",
       "      <td>5</td>\n",
       "      <td>9</td>\n",
       "      <td>65</td>\n",
       "      <td>7</td>\n",
       "      <td>37</td>\n",
       "      <td>7</td>\n",
       "    </tr>\n",
       "    <tr>\n",
       "      <th>4</th>\n",
       "      <td>30</td>\n",
       "      <td>11</td>\n",
       "      <td>9</td>\n",
       "      <td>7</td>\n",
       "      <td>5</td>\n",
       "      <td>9</td>\n",
       "      <td>34</td>\n",
       "      <td>7</td>\n",
       "      <td>37</td>\n",
       "      <td>7</td>\n",
       "    </tr>\n",
       "  </tbody>\n",
       "</table>\n",
       "</div>"
      ],
      "text/plain": [
       "   gbdt_leaf_0  gbdt_leaf_1  gbdt_leaf_2  gbdt_leaf_3  gbdt_leaf_4  \\\n",
       "0           75           59           14           40           52   \n",
       "1           90           14            4           55           57   \n",
       "2           30           11            9           89            5   \n",
       "3           30           11            9            7            5   \n",
       "4           30           11            9            7            5   \n",
       "\n",
       "   gbdt_leaf_5  gbdt_leaf_6  gbdt_leaf_7  gbdt_leaf_8  gbdt_leaf_9  \n",
       "0           38           54           17           27           27  \n",
       "1           94           34           87           12           46  \n",
       "2           70            1            7           37           74  \n",
       "3            9           65            7           37            7  \n",
       "4            9           34            7           37            7  "
      ]
     },
     "execution_count": 40,
     "metadata": {},
     "output_type": "execute_result"
    }
   ],
   "source": [
    "df_train_gbdt_feats.head()"
   ]
  },
  {
   "cell_type": "code",
   "execution_count": 41,
   "metadata": {},
   "outputs": [
    {
     "data": {
      "text/plain": [
       "['gbdt_leaf_0',\n",
       " 'gbdt_leaf_1',\n",
       " 'gbdt_leaf_2',\n",
       " 'gbdt_leaf_3',\n",
       " 'gbdt_leaf_4',\n",
       " 'gbdt_leaf_5',\n",
       " 'gbdt_leaf_6',\n",
       " 'gbdt_leaf_7',\n",
       " 'gbdt_leaf_8',\n",
       " 'gbdt_leaf_9']"
      ]
     },
     "execution_count": 41,
     "metadata": {},
     "output_type": "execute_result"
    }
   ],
   "source": [
    "gbdt_feats_name"
   ]
  },
  {
   "cell_type": "code",
   "execution_count": 42,
   "metadata": {},
   "outputs": [],
   "source": [
    "train_x = train_x.reset_index(drop=True)\n",
    "vali_x = vali_x.reset_index(drop=True)\n"
   ]
  },
  {
   "cell_type": "code",
   "execution_count": 43,
   "metadata": {},
   "outputs": [
    {
     "data": {
      "text/html": [
       "<div>\n",
       "<style scoped>\n",
       "    .dataframe tbody tr th:only-of-type {\n",
       "        vertical-align: middle;\n",
       "    }\n",
       "\n",
       "    .dataframe tbody tr th {\n",
       "        vertical-align: top;\n",
       "    }\n",
       "\n",
       "    .dataframe thead th {\n",
       "        text-align: right;\n",
       "    }\n",
       "</style>\n",
       "<table border=\"1\" class=\"dataframe\">\n",
       "  <thead>\n",
       "    <tr style=\"text-align: right;\">\n",
       "      <th></th>\n",
       "      <th>age</th>\n",
       "      <th>balance</th>\n",
       "      <th>day</th>\n",
       "      <th>duration</th>\n",
       "      <th>campaign</th>\n",
       "      <th>pdays</th>\n",
       "      <th>previous</th>\n",
       "      <th>count_day_month_campaign</th>\n",
       "      <th>count_day_month_contact</th>\n",
       "      <th>count_day_month_default</th>\n",
       "      <th>...</th>\n",
       "      <th>month_6</th>\n",
       "      <th>month_7</th>\n",
       "      <th>month_8</th>\n",
       "      <th>month_9</th>\n",
       "      <th>month_10</th>\n",
       "      <th>month_11</th>\n",
       "      <th>poutcome_0</th>\n",
       "      <th>poutcome_1</th>\n",
       "      <th>poutcome_2</th>\n",
       "      <th>poutcome_3</th>\n",
       "    </tr>\n",
       "  </thead>\n",
       "  <tbody>\n",
       "    <tr>\n",
       "      <th>0</th>\n",
       "      <td>0.311688</td>\n",
       "      <td>0.074919</td>\n",
       "      <td>0.233333</td>\n",
       "      <td>0.025251</td>\n",
       "      <td>0.000000</td>\n",
       "      <td>0.266055</td>\n",
       "      <td>0.014545</td>\n",
       "      <td>0.121693</td>\n",
       "      <td>0.133556</td>\n",
       "      <td>0.096956</td>\n",
       "      <td>...</td>\n",
       "      <td>0.0</td>\n",
       "      <td>0.0</td>\n",
       "      <td>0.0</td>\n",
       "      <td>0.0</td>\n",
       "      <td>0.0</td>\n",
       "      <td>0.0</td>\n",
       "      <td>1.0</td>\n",
       "      <td>0.0</td>\n",
       "      <td>0.0</td>\n",
       "      <td>0.0</td>\n",
       "    </tr>\n",
       "    <tr>\n",
       "      <th>1</th>\n",
       "      <td>0.467532</td>\n",
       "      <td>0.087457</td>\n",
       "      <td>0.533333</td>\n",
       "      <td>0.137593</td>\n",
       "      <td>0.052632</td>\n",
       "      <td>0.000000</td>\n",
       "      <td>0.000000</td>\n",
       "      <td>0.058201</td>\n",
       "      <td>0.445743</td>\n",
       "      <td>0.311161</td>\n",
       "      <td>...</td>\n",
       "      <td>1.0</td>\n",
       "      <td>0.0</td>\n",
       "      <td>0.0</td>\n",
       "      <td>0.0</td>\n",
       "      <td>0.0</td>\n",
       "      <td>0.0</td>\n",
       "      <td>0.0</td>\n",
       "      <td>0.0</td>\n",
       "      <td>0.0</td>\n",
       "      <td>1.0</td>\n",
       "    </tr>\n",
       "    <tr>\n",
       "      <th>2</th>\n",
       "      <td>0.428571</td>\n",
       "      <td>0.063343</td>\n",
       "      <td>0.866667</td>\n",
       "      <td>0.070085</td>\n",
       "      <td>0.017544</td>\n",
       "      <td>0.000000</td>\n",
       "      <td>0.000000</td>\n",
       "      <td>0.373016</td>\n",
       "      <td>0.636060</td>\n",
       "      <td>0.497182</td>\n",
       "      <td>...</td>\n",
       "      <td>0.0</td>\n",
       "      <td>0.0</td>\n",
       "      <td>1.0</td>\n",
       "      <td>0.0</td>\n",
       "      <td>0.0</td>\n",
       "      <td>0.0</td>\n",
       "      <td>0.0</td>\n",
       "      <td>0.0</td>\n",
       "      <td>0.0</td>\n",
       "      <td>1.0</td>\n",
       "    </tr>\n",
       "    <tr>\n",
       "      <th>3</th>\n",
       "      <td>0.129870</td>\n",
       "      <td>0.082382</td>\n",
       "      <td>0.900000</td>\n",
       "      <td>0.050502</td>\n",
       "      <td>0.000000</td>\n",
       "      <td>0.000000</td>\n",
       "      <td>0.000000</td>\n",
       "      <td>0.513228</td>\n",
       "      <td>0.485810</td>\n",
       "      <td>0.381060</td>\n",
       "      <td>...</td>\n",
       "      <td>0.0</td>\n",
       "      <td>0.0</td>\n",
       "      <td>0.0</td>\n",
       "      <td>0.0</td>\n",
       "      <td>0.0</td>\n",
       "      <td>0.0</td>\n",
       "      <td>0.0</td>\n",
       "      <td>0.0</td>\n",
       "      <td>0.0</td>\n",
       "      <td>1.0</td>\n",
       "    </tr>\n",
       "    <tr>\n",
       "      <th>4</th>\n",
       "      <td>0.103896</td>\n",
       "      <td>0.078124</td>\n",
       "      <td>0.366667</td>\n",
       "      <td>0.055398</td>\n",
       "      <td>0.000000</td>\n",
       "      <td>0.000000</td>\n",
       "      <td>0.000000</td>\n",
       "      <td>0.571429</td>\n",
       "      <td>0.370618</td>\n",
       "      <td>0.700113</td>\n",
       "      <td>...</td>\n",
       "      <td>0.0</td>\n",
       "      <td>0.0</td>\n",
       "      <td>1.0</td>\n",
       "      <td>0.0</td>\n",
       "      <td>0.0</td>\n",
       "      <td>0.0</td>\n",
       "      <td>0.0</td>\n",
       "      <td>0.0</td>\n",
       "      <td>0.0</td>\n",
       "      <td>1.0</td>\n",
       "    </tr>\n",
       "  </tbody>\n",
       "</table>\n",
       "<p>5 rows × 542 columns</p>\n",
       "</div>"
      ],
      "text/plain": [
       "        age   balance       day  duration  campaign     pdays  previous  \\\n",
       "0  0.311688  0.074919  0.233333  0.025251  0.000000  0.266055  0.014545   \n",
       "1  0.467532  0.087457  0.533333  0.137593  0.052632  0.000000  0.000000   \n",
       "2  0.428571  0.063343  0.866667  0.070085  0.017544  0.000000  0.000000   \n",
       "3  0.129870  0.082382  0.900000  0.050502  0.000000  0.000000  0.000000   \n",
       "4  0.103896  0.078124  0.366667  0.055398  0.000000  0.000000  0.000000   \n",
       "\n",
       "   count_day_month_campaign  count_day_month_contact  count_day_month_default  \\\n",
       "0                  0.121693                 0.133556                 0.096956   \n",
       "1                  0.058201                 0.445743                 0.311161   \n",
       "2                  0.373016                 0.636060                 0.497182   \n",
       "3                  0.513228                 0.485810                 0.381060   \n",
       "4                  0.571429                 0.370618                 0.700113   \n",
       "\n",
       "   ...  month_6  month_7  month_8  month_9  month_10  month_11  poutcome_0  \\\n",
       "0  ...      0.0      0.0      0.0      0.0       0.0       0.0         1.0   \n",
       "1  ...      1.0      0.0      0.0      0.0       0.0       0.0         0.0   \n",
       "2  ...      0.0      0.0      1.0      0.0       0.0       0.0         0.0   \n",
       "3  ...      0.0      0.0      0.0      0.0       0.0       0.0         0.0   \n",
       "4  ...      0.0      0.0      1.0      0.0       0.0       0.0         0.0   \n",
       "\n",
       "   poutcome_1  poutcome_2  poutcome_3  \n",
       "0         0.0         0.0         0.0  \n",
       "1         0.0         0.0         1.0  \n",
       "2         0.0         0.0         1.0  \n",
       "3         0.0         0.0         1.0  \n",
       "4         0.0         0.0         1.0  \n",
       "\n",
       "[5 rows x 542 columns]"
      ]
     },
     "execution_count": 43,
     "metadata": {},
     "output_type": "execute_result"
    }
   ],
   "source": [
    "train_x.head()"
   ]
  },
  {
   "cell_type": "code",
   "execution_count": 44,
   "metadata": {},
   "outputs": [],
   "source": [
    "train_label = pd.concat([train_x,df_train_gbdt_feats],axis=1)\n",
    "vali_label = pd.concat([vali_x,df_vali_gbdt_feats],axis=1)"
   ]
  },
  {
   "cell_type": "code",
   "execution_count": 45,
   "metadata": {},
   "outputs": [
    {
     "data": {
      "text/html": [
       "<div>\n",
       "<style scoped>\n",
       "    .dataframe tbody tr th:only-of-type {\n",
       "        vertical-align: middle;\n",
       "    }\n",
       "\n",
       "    .dataframe tbody tr th {\n",
       "        vertical-align: top;\n",
       "    }\n",
       "\n",
       "    .dataframe thead th {\n",
       "        text-align: right;\n",
       "    }\n",
       "</style>\n",
       "<table border=\"1\" class=\"dataframe\">\n",
       "  <thead>\n",
       "    <tr style=\"text-align: right;\">\n",
       "      <th></th>\n",
       "      <th>age</th>\n",
       "      <th>balance</th>\n",
       "      <th>day</th>\n",
       "      <th>duration</th>\n",
       "      <th>campaign</th>\n",
       "      <th>pdays</th>\n",
       "      <th>previous</th>\n",
       "      <th>count_day_month_campaign</th>\n",
       "      <th>count_day_month_contact</th>\n",
       "      <th>count_day_month_default</th>\n",
       "      <th>...</th>\n",
       "      <th>gbdt_leaf_0</th>\n",
       "      <th>gbdt_leaf_1</th>\n",
       "      <th>gbdt_leaf_2</th>\n",
       "      <th>gbdt_leaf_3</th>\n",
       "      <th>gbdt_leaf_4</th>\n",
       "      <th>gbdt_leaf_5</th>\n",
       "      <th>gbdt_leaf_6</th>\n",
       "      <th>gbdt_leaf_7</th>\n",
       "      <th>gbdt_leaf_8</th>\n",
       "      <th>gbdt_leaf_9</th>\n",
       "    </tr>\n",
       "  </thead>\n",
       "  <tbody>\n",
       "    <tr>\n",
       "      <th>0</th>\n",
       "      <td>0.311688</td>\n",
       "      <td>0.074919</td>\n",
       "      <td>0.233333</td>\n",
       "      <td>0.025251</td>\n",
       "      <td>0.000000</td>\n",
       "      <td>0.266055</td>\n",
       "      <td>0.014545</td>\n",
       "      <td>0.121693</td>\n",
       "      <td>0.133556</td>\n",
       "      <td>0.096956</td>\n",
       "      <td>...</td>\n",
       "      <td>75</td>\n",
       "      <td>59</td>\n",
       "      <td>14</td>\n",
       "      <td>40</td>\n",
       "      <td>52</td>\n",
       "      <td>38</td>\n",
       "      <td>54</td>\n",
       "      <td>17</td>\n",
       "      <td>27</td>\n",
       "      <td>27</td>\n",
       "    </tr>\n",
       "    <tr>\n",
       "      <th>1</th>\n",
       "      <td>0.467532</td>\n",
       "      <td>0.087457</td>\n",
       "      <td>0.533333</td>\n",
       "      <td>0.137593</td>\n",
       "      <td>0.052632</td>\n",
       "      <td>0.000000</td>\n",
       "      <td>0.000000</td>\n",
       "      <td>0.058201</td>\n",
       "      <td>0.445743</td>\n",
       "      <td>0.311161</td>\n",
       "      <td>...</td>\n",
       "      <td>90</td>\n",
       "      <td>14</td>\n",
       "      <td>4</td>\n",
       "      <td>55</td>\n",
       "      <td>57</td>\n",
       "      <td>94</td>\n",
       "      <td>34</td>\n",
       "      <td>87</td>\n",
       "      <td>12</td>\n",
       "      <td>46</td>\n",
       "    </tr>\n",
       "    <tr>\n",
       "      <th>2</th>\n",
       "      <td>0.428571</td>\n",
       "      <td>0.063343</td>\n",
       "      <td>0.866667</td>\n",
       "      <td>0.070085</td>\n",
       "      <td>0.017544</td>\n",
       "      <td>0.000000</td>\n",
       "      <td>0.000000</td>\n",
       "      <td>0.373016</td>\n",
       "      <td>0.636060</td>\n",
       "      <td>0.497182</td>\n",
       "      <td>...</td>\n",
       "      <td>30</td>\n",
       "      <td>11</td>\n",
       "      <td>9</td>\n",
       "      <td>89</td>\n",
       "      <td>5</td>\n",
       "      <td>70</td>\n",
       "      <td>1</td>\n",
       "      <td>7</td>\n",
       "      <td>37</td>\n",
       "      <td>74</td>\n",
       "    </tr>\n",
       "    <tr>\n",
       "      <th>3</th>\n",
       "      <td>0.129870</td>\n",
       "      <td>0.082382</td>\n",
       "      <td>0.900000</td>\n",
       "      <td>0.050502</td>\n",
       "      <td>0.000000</td>\n",
       "      <td>0.000000</td>\n",
       "      <td>0.000000</td>\n",
       "      <td>0.513228</td>\n",
       "      <td>0.485810</td>\n",
       "      <td>0.381060</td>\n",
       "      <td>...</td>\n",
       "      <td>30</td>\n",
       "      <td>11</td>\n",
       "      <td>9</td>\n",
       "      <td>7</td>\n",
       "      <td>5</td>\n",
       "      <td>9</td>\n",
       "      <td>65</td>\n",
       "      <td>7</td>\n",
       "      <td>37</td>\n",
       "      <td>7</td>\n",
       "    </tr>\n",
       "    <tr>\n",
       "      <th>4</th>\n",
       "      <td>0.103896</td>\n",
       "      <td>0.078124</td>\n",
       "      <td>0.366667</td>\n",
       "      <td>0.055398</td>\n",
       "      <td>0.000000</td>\n",
       "      <td>0.000000</td>\n",
       "      <td>0.000000</td>\n",
       "      <td>0.571429</td>\n",
       "      <td>0.370618</td>\n",
       "      <td>0.700113</td>\n",
       "      <td>...</td>\n",
       "      <td>30</td>\n",
       "      <td>11</td>\n",
       "      <td>9</td>\n",
       "      <td>7</td>\n",
       "      <td>5</td>\n",
       "      <td>9</td>\n",
       "      <td>34</td>\n",
       "      <td>7</td>\n",
       "      <td>37</td>\n",
       "      <td>7</td>\n",
       "    </tr>\n",
       "  </tbody>\n",
       "</table>\n",
       "<p>5 rows × 552 columns</p>\n",
       "</div>"
      ],
      "text/plain": [
       "        age   balance       day  duration  campaign     pdays  previous  \\\n",
       "0  0.311688  0.074919  0.233333  0.025251  0.000000  0.266055  0.014545   \n",
       "1  0.467532  0.087457  0.533333  0.137593  0.052632  0.000000  0.000000   \n",
       "2  0.428571  0.063343  0.866667  0.070085  0.017544  0.000000  0.000000   \n",
       "3  0.129870  0.082382  0.900000  0.050502  0.000000  0.000000  0.000000   \n",
       "4  0.103896  0.078124  0.366667  0.055398  0.000000  0.000000  0.000000   \n",
       "\n",
       "   count_day_month_campaign  count_day_month_contact  count_day_month_default  \\\n",
       "0                  0.121693                 0.133556                 0.096956   \n",
       "1                  0.058201                 0.445743                 0.311161   \n",
       "2                  0.373016                 0.636060                 0.497182   \n",
       "3                  0.513228                 0.485810                 0.381060   \n",
       "4                  0.571429                 0.370618                 0.700113   \n",
       "\n",
       "   ...  gbdt_leaf_0  gbdt_leaf_1  gbdt_leaf_2  gbdt_leaf_3  gbdt_leaf_4  \\\n",
       "0  ...           75           59           14           40           52   \n",
       "1  ...           90           14            4           55           57   \n",
       "2  ...           30           11            9           89            5   \n",
       "3  ...           30           11            9            7            5   \n",
       "4  ...           30           11            9            7            5   \n",
       "\n",
       "   gbdt_leaf_5  gbdt_leaf_6  gbdt_leaf_7  gbdt_leaf_8  gbdt_leaf_9  \n",
       "0           38           54           17           27           27  \n",
       "1           94           34           87           12           46  \n",
       "2           70            1            7           37           74  \n",
       "3            9           65            7           37            7  \n",
       "4            9           34            7           37            7  \n",
       "\n",
       "[5 rows x 552 columns]"
      ]
     },
     "execution_count": 45,
     "metadata": {},
     "output_type": "execute_result"
    }
   ],
   "source": [
    "train_label.head()"
   ]
  },
  {
   "cell_type": "code",
   "execution_count": 46,
   "metadata": {},
   "outputs": [
    {
     "data": {
      "text/plain": [
       "(7596, 552)"
      ]
     },
     "execution_count": 46,
     "metadata": {},
     "output_type": "execute_result"
    }
   ],
   "source": [
    "vali_label.shape"
   ]
  },
  {
   "cell_type": "code",
   "execution_count": 47,
   "metadata": {},
   "outputs": [
    {
     "data": {
      "text/plain": [
       "(17721, 552)"
      ]
     },
     "execution_count": 47,
     "metadata": {},
     "output_type": "execute_result"
    }
   ],
   "source": [
    "train_label.shape"
   ]
  },
  {
   "cell_type": "code",
   "execution_count": 49,
   "metadata": {},
   "outputs": [
    {
     "data": {
      "text/plain": [
       "(7596, 542)"
      ]
     },
     "execution_count": 49,
     "metadata": {},
     "output_type": "execute_result"
    }
   ],
   "source": [
    "vali_x.shape\n"
   ]
  },
  {
   "cell_type": "code",
   "execution_count": 50,
   "metadata": {},
   "outputs": [],
   "source": [
    "train_len = train_label.shape[0]\n",
    "data = pd.concat([train_label,vali_label])\n",
    "data = data.fillna(0)"
   ]
  },
  {
   "cell_type": "code",
   "execution_count": 51,
   "metadata": {},
   "outputs": [],
   "source": [
    "for col in gbdt_feats_name:\n",
    "    # print('this is feature:',col)\n",
    "    onehot_feats = pd.get_dummies(data[col], prefix=col)\n",
    "    data.drop([col], axis=1,inplace= True)\n",
    "    data = pd.concat([data, onehot_feats],axis=1)"
   ]
  },
  {
   "cell_type": "code",
   "execution_count": 52,
   "metadata": {},
   "outputs": [],
   "source": [
    "train_x = data[:train_len]\n",
    "vali_x = data[train_len:]"
   ]
  },
  {
   "cell_type": "code",
   "execution_count": 53,
   "metadata": {},
   "outputs": [
    {
     "data": {
      "text/plain": [
       "(17721, 1542)"
      ]
     },
     "execution_count": 53,
     "metadata": {},
     "output_type": "execute_result"
    }
   ],
   "source": [
    "train_x.shape"
   ]
  },
  {
   "cell_type": "code",
   "execution_count": 54,
   "metadata": {},
   "outputs": [
    {
     "data": {
      "text/plain": [
       "(17721,)"
      ]
     },
     "execution_count": 54,
     "metadata": {},
     "output_type": "execute_result"
    }
   ],
   "source": [
    "train_y.shape"
   ]
  },
  {
   "cell_type": "code",
   "execution_count": 56,
   "metadata": {},
   "outputs": [
    {
     "data": {
      "text/plain": [
       "(7596, 1542)"
      ]
     },
     "execution_count": 56,
     "metadata": {},
     "output_type": "execute_result"
    }
   ],
   "source": [
    "vali_x.shape"
   ]
  },
  {
   "cell_type": "code",
   "execution_count": 57,
   "metadata": {},
   "outputs": [
    {
     "data": {
      "text/plain": [
       "0.1089384472374046"
      ]
     },
     "execution_count": 57,
     "metadata": {},
     "output_type": "execute_result"
    }
   ],
   "source": [
    "from sklearn.linear_model import LogisticRegression\n",
    "from sklearn.metrics import log_loss\n",
    "lr = LogisticRegression()\n",
    "lr.fit(train_x,train_y)\n",
    "tr_logloss = log_loss(train_y, lr.predict_proba(train_x)[:,1])\n",
    "tr_logloss"
   ]
  },
  {
   "cell_type": "code",
   "execution_count": 58,
   "metadata": {},
   "outputs": [
    {
     "data": {
      "text/plain": [
       "(7596,)"
      ]
     },
     "execution_count": 58,
     "metadata": {},
     "output_type": "execute_result"
    }
   ],
   "source": [
    "res = lr.predict_proba(vali_x)[:,1]\n",
    "res.shape"
   ]
  },
  {
   "cell_type": "code",
   "execution_count": 59,
   "metadata": {},
   "outputs": [
    {
     "name": "stdout",
     "output_type": "stream",
     "text": [
      "线下AUC:0.9179734479745872\n"
     ]
    }
   ],
   "source": [
    "print('线下AUC:' +str(roc_auc_score(vali_y,res)))"
   ]
  },
  {
   "cell_type": "code",
   "execution_count": null,
   "metadata": {},
   "outputs": [],
   "source": []
  }
 ],
 "metadata": {
  "kernelspec": {
   "display_name": "Python 3",
   "language": "python",
   "name": "python3"
  },
  "language_info": {
   "codemirror_mode": {
    "name": "ipython",
    "version": 3
   },
   "file_extension": ".py",
   "mimetype": "text/x-python",
   "name": "python",
   "nbconvert_exporter": "python",
   "pygments_lexer": "ipython3",
   "version": "3.8.3"
  },
  "nbTranslate": {
   "displayLangs": [
    "*"
   ],
   "hotkey": "alt-t",
   "langInMainMenu": true,
   "sourceLang": "en",
   "targetLang": "fr",
   "useGoogleTranslate": true
  },
  "toc": {
   "base_numbering": 1,
   "nav_menu": {},
   "number_sections": true,
   "sideBar": true,
   "skip_h1_title": false,
   "title_cell": "Table of Contents",
   "title_sidebar": "Contents",
   "toc_cell": false,
   "toc_position": {},
   "toc_section_display": true,
   "toc_window_display": false
  },
  "varInspector": {
   "cols": {
    "lenName": 16,
    "lenType": 16,
    "lenVar": 40
   },
   "kernels_config": {
    "python": {
     "delete_cmd_postfix": "",
     "delete_cmd_prefix": "del ",
     "library": "var_list.py",
     "varRefreshCmd": "print(var_dic_list())"
    },
    "r": {
     "delete_cmd_postfix": ") ",
     "delete_cmd_prefix": "rm(",
     "library": "var_list.r",
     "varRefreshCmd": "cat(var_dic_list()) "
    }
   },
   "types_to_exclude": [
    "module",
    "function",
    "builtin_function_or_method",
    "instance",
    "_Feature"
   ],
   "window_display": false
  }
 },
 "nbformat": 4,
 "nbformat_minor": 2
}
