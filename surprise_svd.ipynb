{
  "nbformat": 4,
  "nbformat_minor": 0,
  "metadata": {
    "colab": {
      "name": "surprise_svd.ipynb",
      "provenance": [],
      "authorship_tag": "ABX9TyP7PXkfeSTjuTF/db0S0Wcz",
      "include_colab_link": true
    },
    "kernelspec": {
      "name": "python3",
      "display_name": "Python 3"
    },
    "accelerator": "TPU"
  },
  "cells": [
    {
      "cell_type": "markdown",
      "metadata": {
        "id": "view-in-github",
        "colab_type": "text"
      },
      "source": [
        "<a href=\"https://colab.research.google.com/github/ywan328/BI/blob/main/surprise_svd.ipynb\" target=\"_parent\"><img src=\"https://colab.research.google.com/assets/colab-badge.svg\" alt=\"Open In Colab\"/></a>"
      ]
    },
    {
      "cell_type": "code",
      "metadata": {
        "colab": {
          "base_uri": "https://localhost:8080/"
        },
        "id": "Z8T8bDxUTrZU",
        "outputId": "c6a6e166-051c-430f-d792-7a58d5b5e3fd"
      },
      "source": [
        "!pip install surprise"
      ],
      "execution_count": 2,
      "outputs": [
        {
          "output_type": "stream",
          "text": [
            "Collecting surprise\n",
            "  Downloading https://files.pythonhosted.org/packages/61/de/e5cba8682201fcf9c3719a6fdda95693468ed061945493dea2dd37c5618b/surprise-0.1-py2.py3-none-any.whl\n",
            "Collecting scikit-surprise\n",
            "\u001b[?25l  Downloading https://files.pythonhosted.org/packages/97/37/5d334adaf5ddd65da99fc65f6507e0e4599d092ba048f4302fe8775619e8/scikit-surprise-1.1.1.tar.gz (11.8MB)\n",
            "\u001b[K     |████████████████████████████████| 11.8MB 6.8MB/s \n",
            "\u001b[?25hRequirement already satisfied: joblib>=0.11 in /usr/local/lib/python3.6/dist-packages (from scikit-surprise->surprise) (0.17.0)\n",
            "Requirement already satisfied: numpy>=1.11.2 in /usr/local/lib/python3.6/dist-packages (from scikit-surprise->surprise) (1.18.5)\n",
            "Requirement already satisfied: scipy>=1.0.0 in /usr/local/lib/python3.6/dist-packages (from scikit-surprise->surprise) (1.4.1)\n",
            "Requirement already satisfied: six>=1.10.0 in /usr/local/lib/python3.6/dist-packages (from scikit-surprise->surprise) (1.15.0)\n",
            "Building wheels for collected packages: scikit-surprise\n",
            "  Building wheel for scikit-surprise (setup.py) ... \u001b[?25l\u001b[?25hdone\n",
            "  Created wheel for scikit-surprise: filename=scikit_surprise-1.1.1-cp36-cp36m-linux_x86_64.whl size=1670910 sha256=98112087136161b372b1cff733281ff0590c22c07d2ad76f5bcfc91d71820539\n",
            "  Stored in directory: /root/.cache/pip/wheels/78/9c/3d/41b419c9d2aff5b6e2b4c0fc8d25c538202834058f9ed110d0\n",
            "Successfully built scikit-surprise\n",
            "Installing collected packages: scikit-surprise, surprise\n",
            "Successfully installed scikit-surprise-1.1.1 surprise-0.1\n"
          ],
          "name": "stdout"
        }
      ]
    },
    {
      "cell_type": "code",
      "metadata": {
        "colab": {
          "base_uri": "https://localhost:8080/"
        },
        "id": "gjigusdEdYt4",
        "outputId": "ce6de073-650d-488f-9861-35d007d6c702"
      },
      "source": [
        "from google.colab import drive\n",
        "drive.mount('/content/drive')\n",
        "import os\n",
        "os.chdir(\"/content/drive/My Drive/Colab Notebooks/\")\n",
        "\n",
        "from surprise import SVD\n",
        "from surprise import Dataset\n",
        "from surprise.model_selection import cross_validate\n",
        "from surprise import Reader\n",
        "from surprise import accuracy\n",
        "from surprise.model_selection import KFold\n",
        "import pandas as pd\n",
        "import time"
      ],
      "execution_count": 3,
      "outputs": [
        {
          "output_type": "stream",
          "text": [
            "Mounted at /content/drive\n"
          ],
          "name": "stdout"
        }
      ]
    },
    {
      "cell_type": "code",
      "metadata": {
        "id": "NEbnBkuKd_0i"
      },
      "source": [
        "# 数据读取\n",
        "reader = Reader(line_format='user item rating timestamp', sep=',', skip_lines=1)\n",
        "data = Dataset.load_from_file('ratings.csv', reader=reader)\n",
        "train_set = data.build_full_trainset()"
      ],
      "execution_count": 5,
      "outputs": []
    },
    {
      "cell_type": "code",
      "metadata": {
        "colab": {
          "base_uri": "https://localhost:8080/"
        },
        "id": "CsZY8noZUkxz",
        "outputId": "b3e279c3-1620-4379-e429-51108b4b250b"
      },
      "source": [
        "\n",
        "\n",
        "time1=time.time()\n",
        "\n",
        "\n",
        "# 使用funkSVD\n",
        "algo = SVD(biased=False)\n",
        "\n",
        "# 定义K折交叉验证迭代器，K=3\n",
        "kf = KFold(n_splits=3)\n",
        "for trainset, testset in kf.split(data):\n",
        "    # 训练并预测\n",
        "    algo.fit(trainset)\n",
        "    predictions = algo.test(testset)\n",
        "    # 计算RMSE\n",
        "    accuracy.rmse(predictions, verbose=True)\n",
        "\n",
        "uid = str(100)\n",
        "iid = str(250)\n",
        "# 输出uid对iid的预测结果\n",
        "pred = algo.predict(uid, iid, r_ui=4, verbose=True)\n",
        "time2=time.time()\n",
        "print(time2-time1)"
      ],
      "execution_count": 5,
      "outputs": [
        {
          "output_type": "stream",
          "text": [
            "Drive already mounted at /content/drive; to attempt to forcibly remount, call drive.mount(\"/content/drive\", force_remount=True).\n",
            "RMSE: 0.8720\n",
            "RMSE: 0.8705\n",
            "RMSE: 0.8735\n",
            "user: 100        item: 250        r_ui = 4.00   est = 2.48   {'was_impossible': False}\n",
            "152.4791350364685\n"
          ],
          "name": "stdout"
        }
      ]
    },
    {
      "cell_type": "code",
      "metadata": {
        "colab": {
          "base_uri": "https://localhost:8080/"
        },
        "id": "fX59TiKXV6QE",
        "outputId": "3ab80a52-f922-4bd1-a54a-674978e151a4"
      },
      "source": [
        "time3=time.time()\n",
        "\n",
        "# 使用BiasSVD\n",
        "algo = SVD(biased=True)\n",
        "\n",
        "# 定义K折交叉验证迭代器，K=3\n",
        "kf = KFold(n_splits=3)\n",
        "for trainset, testset in kf.split(data):\n",
        "    # 训练并预测\n",
        "    algo.fit(trainset)\n",
        "    predictions = algo.test(testset)\n",
        "    # 计算RMSE\n",
        "    accuracy.rmse(predictions, verbose=True)\n",
        "\n",
        "uid = str(100)\n",
        "iid = str(250)\n",
        "# 输出uid对iid的预测结果\n",
        "pred = algo.predict(uid, iid, r_ui=4, verbose=True)\n",
        "time4=time.time()\n",
        "print(time4-time3)"
      ],
      "execution_count": 4,
      "outputs": [
        {
          "output_type": "stream",
          "text": [
            "RMSE: 0.8446\n",
            "RMSE: 0.8460\n",
            "RMSE: 0.8472\n",
            "user: 196        item: 302        r_ui = 4.00   est = 4.13   {'was_impossible': False}\n",
            "149.56802439689636\n"
          ],
          "name": "stdout"
        }
      ]
    },
    {
      "cell_type": "code",
      "metadata": {
        "colab": {
          "base_uri": "https://localhost:8080/"
        },
        "id": "KgEuQ45EXUmk",
        "outputId": "20159431-cc0e-4759-d63c-0b0d6768a8bc"
      },
      "source": [
        "time5=time.time()\n",
        "\n",
        "from surprise import SVDpp\n",
        "# 使用SVD++\n",
        "algo = SVDpp(n_factors=10,n_epochs=5)\n",
        "\n",
        "# 定义K折交叉验证迭代器，K=2\n",
        "kf = KFold(n_splits=2)\n",
        "for trainset, testset in kf.split(data):\n",
        "    # 训练并预测\n",
        "    algo.fit(trainset)\n",
        "    predictions = algo.test(testset)\n",
        "    # 计算RMSE\n",
        "    accuracy.rmse(predictions, verbose=True)\n",
        "\n",
        "uid = str(100)\n",
        "iid = str(250)\n",
        "# 输出uid对iid的预测结果\n",
        "pred = algo.predict(uid, iid, r_ui=4, verbose=True)\n",
        "time6=time.time()\n",
        "print(time6-time5)"
      ],
      "execution_count": 8,
      "outputs": [
        {
          "output_type": "stream",
          "text": [
            "RMSE: 0.8697\n",
            "RMSE: 0.8718\n",
            "user: 100        item: 250        r_ui = 4.00   est = 3.33   {'was_impossible': False}\n",
            "868.7626430988312\n"
          ],
          "name": "stdout"
        }
      ]
    },
    {
      "cell_type": "markdown",
      "metadata": {
        "id": "sjiwODE-uFna"
      },
      "source": [
        "我怀疑用的假的TPU,这个SVD++为什么花的时间这么长呀.."
      ]
    }
  ]
}