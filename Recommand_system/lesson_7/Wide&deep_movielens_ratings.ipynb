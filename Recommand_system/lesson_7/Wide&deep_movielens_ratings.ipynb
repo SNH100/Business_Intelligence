{
  "nbformat": 4,
  "nbformat_minor": 0,
  "metadata": {
    "accelerator": "TPU",
    "colab": {
      "name": "Deep&wide_movielens_ratings",
      "provenance": [],
      "collapsed_sections": []
    },
    "kernelspec": {
      "display_name": "Python 3",
      "name": "python3"
    }
  },
  "cells": [
    {
      "cell_type": "code",
      "metadata": {
        "colab": {
          "base_uri": "https://localhost:8080/"
        },
        "id": "sF51tTHQqBws",
        "outputId": "8d884f2b-dbd8-4031-bbd5-28c4e33a1b8a"
      },
      "source": [
        "!pip install deepctr==0.7.0"
      ],
      "execution_count": 1,
      "outputs": [
        {
          "output_type": "stream",
          "text": [
            "Collecting deepctr==0.7.0\n",
            "\u001b[?25l  Downloading https://files.pythonhosted.org/packages/cb/46/2a3291f804c56ba0e5ba31d6c825c23bb1a2c7d8f6f066db28f8ed5f374a/deepctr-0.7.0-py3-none-any.whl (79kB)\n",
            "\r\u001b[K     |████▏                           | 10kB 18.0MB/s eta 0:00:01\r\u001b[K     |████████▎                       | 20kB 17.5MB/s eta 0:00:01\r\u001b[K     |████████████▍                   | 30kB 12.3MB/s eta 0:00:01\r\u001b[K     |████████████████▌               | 40kB 9.6MB/s eta 0:00:01\r\u001b[K     |████████████████████▋           | 51kB 5.0MB/s eta 0:00:01\r\u001b[K     |████████████████████████▊       | 61kB 5.5MB/s eta 0:00:01\r\u001b[K     |████████████████████████████▉   | 71kB 5.4MB/s eta 0:00:01\r\u001b[K     |████████████████████████████████| 81kB 3.4MB/s \n",
            "\u001b[?25hRequirement already satisfied: h5py in /usr/local/lib/python3.6/dist-packages (from deepctr==0.7.0) (2.10.0)\n",
            "Requirement already satisfied: requests in /usr/local/lib/python3.6/dist-packages (from deepctr==0.7.0) (2.23.0)\n",
            "Requirement already satisfied: numpy>=1.7 in /usr/local/lib/python3.6/dist-packages (from h5py->deepctr==0.7.0) (1.18.5)\n",
            "Requirement already satisfied: six in /usr/local/lib/python3.6/dist-packages (from h5py->deepctr==0.7.0) (1.15.0)\n",
            "Requirement already satisfied: idna<3,>=2.5 in /usr/local/lib/python3.6/dist-packages (from requests->deepctr==0.7.0) (2.10)\n",
            "Requirement already satisfied: urllib3!=1.25.0,!=1.25.1,<1.26,>=1.21.1 in /usr/local/lib/python3.6/dist-packages (from requests->deepctr==0.7.0) (1.24.3)\n",
            "Requirement already satisfied: chardet<4,>=3.0.2 in /usr/local/lib/python3.6/dist-packages (from requests->deepctr==0.7.0) (3.0.4)\n",
            "Requirement already satisfied: certifi>=2017.4.17 in /usr/local/lib/python3.6/dist-packages (from requests->deepctr==0.7.0) (2020.12.5)\n",
            "Installing collected packages: deepctr\n",
            "Successfully installed deepctr-0.7.0\n"
          ],
          "name": "stdout"
        }
      ]
    },
    {
      "cell_type": "code",
      "metadata": {
        "colab": {
          "base_uri": "https://localhost:8080/"
        },
        "id": "7jxaxqNkuNF-",
        "outputId": "16038533-6a85-4795-cc2f-a1a2f2f05879"
      },
      "source": [
        "!pip install tensorflow==1.15"
      ],
      "execution_count": 2,
      "outputs": [
        {
          "output_type": "stream",
          "text": [
            "Collecting tensorflow==1.15\n",
            "\u001b[?25l  Downloading https://files.pythonhosted.org/packages/3f/98/5a99af92fb911d7a88a0005ad55005f35b4c1ba8d75fba02df726cd936e6/tensorflow-1.15.0-cp36-cp36m-manylinux2010_x86_64.whl (412.3MB)\n",
            "\u001b[K     |████████████████████████████████| 412.3MB 37kB/s \n",
            "\u001b[?25hRequirement already satisfied: wheel>=0.26 in /usr/local/lib/python3.6/dist-packages (from tensorflow==1.15) (0.36.1)\n",
            "Requirement already satisfied: opt-einsum>=2.3.2 in /usr/local/lib/python3.6/dist-packages (from tensorflow==1.15) (3.3.0)\n",
            "Requirement already satisfied: protobuf>=3.6.1 in /usr/local/lib/python3.6/dist-packages (from tensorflow==1.15) (3.12.4)\n",
            "Collecting tensorboard<1.16.0,>=1.15.0\n",
            "\u001b[?25l  Downloading https://files.pythonhosted.org/packages/1e/e9/d3d747a97f7188f48aa5eda486907f3b345cd409f0a0850468ba867db246/tensorboard-1.15.0-py3-none-any.whl (3.8MB)\n",
            "\u001b[K     |████████████████████████████████| 3.8MB 43.2MB/s \n",
            "\u001b[?25hRequirement already satisfied: wrapt>=1.11.1 in /usr/local/lib/python3.6/dist-packages (from tensorflow==1.15) (1.12.1)\n",
            "Requirement already satisfied: google-pasta>=0.1.6 in /usr/local/lib/python3.6/dist-packages (from tensorflow==1.15) (0.2.0)\n",
            "Requirement already satisfied: astor>=0.6.0 in /usr/local/lib/python3.6/dist-packages (from tensorflow==1.15) (0.8.1)\n",
            "Requirement already satisfied: grpcio>=1.8.6 in /usr/local/lib/python3.6/dist-packages (from tensorflow==1.15) (1.34.0)\n",
            "Requirement already satisfied: keras-preprocessing>=1.0.5 in /usr/local/lib/python3.6/dist-packages (from tensorflow==1.15) (1.1.2)\n",
            "Collecting keras-applications>=1.0.8\n",
            "\u001b[?25l  Downloading https://files.pythonhosted.org/packages/71/e3/19762fdfc62877ae9102edf6342d71b28fbfd9dea3d2f96a882ce099b03f/Keras_Applications-1.0.8-py3-none-any.whl (50kB)\n",
            "\u001b[K     |████████████████████████████████| 51kB 6.6MB/s \n",
            "\u001b[?25hRequirement already satisfied: termcolor>=1.1.0 in /usr/local/lib/python3.6/dist-packages (from tensorflow==1.15) (1.1.0)\n",
            "Requirement already satisfied: six>=1.10.0 in /usr/local/lib/python3.6/dist-packages (from tensorflow==1.15) (1.15.0)\n",
            "Collecting tensorflow-estimator==1.15.1\n",
            "\u001b[?25l  Downloading https://files.pythonhosted.org/packages/de/62/2ee9cd74c9fa2fa450877847ba560b260f5d0fb70ee0595203082dafcc9d/tensorflow_estimator-1.15.1-py2.py3-none-any.whl (503kB)\n",
            "\u001b[K     |████████████████████████████████| 512kB 43.3MB/s \n",
            "\u001b[?25hCollecting gast==0.2.2\n",
            "  Downloading https://files.pythonhosted.org/packages/4e/35/11749bf99b2d4e3cceb4d55ca22590b0d7c2c62b9de38ac4a4a7f4687421/gast-0.2.2.tar.gz\n",
            "Requirement already satisfied: numpy<2.0,>=1.16.0 in /usr/local/lib/python3.6/dist-packages (from tensorflow==1.15) (1.18.5)\n",
            "Requirement already satisfied: absl-py>=0.7.0 in /usr/local/lib/python3.6/dist-packages (from tensorflow==1.15) (0.10.0)\n",
            "Requirement already satisfied: setuptools in /usr/local/lib/python3.6/dist-packages (from protobuf>=3.6.1->tensorflow==1.15) (50.3.2)\n",
            "Requirement already satisfied: markdown>=2.6.8 in /usr/local/lib/python3.6/dist-packages (from tensorboard<1.16.0,>=1.15.0->tensorflow==1.15) (3.3.3)\n",
            "Requirement already satisfied: werkzeug>=0.11.15 in /usr/local/lib/python3.6/dist-packages (from tensorboard<1.16.0,>=1.15.0->tensorflow==1.15) (1.0.1)\n",
            "Requirement already satisfied: h5py in /usr/local/lib/python3.6/dist-packages (from keras-applications>=1.0.8->tensorflow==1.15) (2.10.0)\n",
            "Requirement already satisfied: importlib-metadata; python_version < \"3.8\" in /usr/local/lib/python3.6/dist-packages (from markdown>=2.6.8->tensorboard<1.16.0,>=1.15.0->tensorflow==1.15) (3.1.1)\n",
            "Requirement already satisfied: zipp>=0.5 in /usr/local/lib/python3.6/dist-packages (from importlib-metadata; python_version < \"3.8\"->markdown>=2.6.8->tensorboard<1.16.0,>=1.15.0->tensorflow==1.15) (3.4.0)\n",
            "Building wheels for collected packages: gast\n",
            "  Building wheel for gast (setup.py) ... \u001b[?25l\u001b[?25hdone\n",
            "  Created wheel for gast: filename=gast-0.2.2-cp36-none-any.whl size=7542 sha256=1826f9c831d958c6f8ea220e77e7837245c52360690c665a27131e9aa41f9b46\n",
            "  Stored in directory: /root/.cache/pip/wheels/5c/2e/7e/a1d4d4fcebe6c381f378ce7743a3ced3699feb89bcfbdadadd\n",
            "Successfully built gast\n",
            "\u001b[31mERROR: tensorflow-probability 0.11.0 has requirement gast>=0.3.2, but you'll have gast 0.2.2 which is incompatible.\u001b[0m\n",
            "Installing collected packages: tensorboard, keras-applications, tensorflow-estimator, gast, tensorflow\n",
            "  Found existing installation: tensorboard 2.3.0\n",
            "    Uninstalling tensorboard-2.3.0:\n",
            "      Successfully uninstalled tensorboard-2.3.0\n",
            "  Found existing installation: tensorflow-estimator 2.3.0\n",
            "    Uninstalling tensorflow-estimator-2.3.0:\n",
            "      Successfully uninstalled tensorflow-estimator-2.3.0\n",
            "  Found existing installation: gast 0.3.3\n",
            "    Uninstalling gast-0.3.3:\n",
            "      Successfully uninstalled gast-0.3.3\n",
            "  Found existing installation: tensorflow 2.3.0\n",
            "    Uninstalling tensorflow-2.3.0:\n",
            "      Successfully uninstalled tensorflow-2.3.0\n",
            "Successfully installed gast-0.2.2 keras-applications-1.0.8 tensorboard-1.15.0 tensorflow-1.15.0 tensorflow-estimator-1.15.1\n"
          ],
          "name": "stdout"
        }
      ]
    },
    {
      "cell_type": "code",
      "metadata": {
        "colab": {
          "base_uri": "https://localhost:8080/"
        },
        "id": "mdo729ndqG_L",
        "outputId": "458c5b15-ffeb-4878-e03a-957ae9224844"
      },
      "source": [
        "from google.colab import drive\r\n",
        "drive.mount('/content/drive')\r\n",
        "import os\r\n",
        "os.chdir(\"/content/drive/My Drive/Colab Notebooks/\")"
      ],
      "execution_count": 3,
      "outputs": [
        {
          "output_type": "stream",
          "text": [
            "Mounted at /content/drive\n"
          ],
          "name": "stdout"
        }
      ]
    },
    {
      "cell_type": "code",
      "metadata": {
        "colab": {
          "base_uri": "https://localhost:8080/"
        },
        "id": "t2UIhiLVqczs",
        "outputId": "a0e87ab5-3b1e-4ea7-fbd8-57bc74d457d1"
      },
      "source": [
        "import pandas as pd\r\n",
        "from sklearn.metrics import mean_squared_error\r\n",
        "from sklearn.model_selection import train_test_split\r\n",
        "from sklearn.preprocessing import LabelEncoder\r\n",
        "from deepctr.models import WDL\r\n",
        "from deepctr.inputs import SparseFeat, get_feature_names"
      ],
      "execution_count": 4,
      "outputs": [
        {
          "output_type": "stream",
          "text": [
            "WARNING:root:\n",
            "DeepCTR version 0.8.2 detected. Your version is 0.7.0.\n",
            "Use `pip install -U deepctr` to upgrade.Changelog: https://github.com/shenweichen/DeepCTR/releases/tag/v0.8.2\n"
          ],
          "name": "stderr"
        }
      ]
    },
    {
      "cell_type": "code",
      "metadata": {
        "colab": {
          "base_uri": "https://localhost:8080/"
        },
        "id": "t7azYqzTqzgm",
        "outputId": "23eb88d5-a7c1-4242-b4b7-734be7ccff0c"
      },
      "source": [
        "if __name__ == \"__main__\":\r\n",
        "\r\n",
        "    data = pd.read_csv(\"./ratings.csv\")\r\n",
        "    sparse_features = [\"movieId\", \"userId\",\r\n",
        "                       'timestamp']\r\n",
        "    target = ['rating']\r\n",
        "\r\n",
        "    # 1.Label Encoding for sparse features,and do simple Transformation for dense features\r\n",
        "    for feat in sparse_features:\r\n",
        "        lbe = LabelEncoder()\r\n",
        "        data[feat] = lbe.fit_transform(data[feat])\r\n",
        "    # 2.count #unique features for each sparse field\r\n",
        "    fixlen_feature_columns = [SparseFeat(feat, data[feat].nunique(),embedding_dim=4)\r\n",
        "                              for feat in sparse_features]\r\n",
        "    linear_feature_columns = fixlen_feature_columns\r\n",
        "    dnn_feature_columns = fixlen_feature_columns\r\n",
        "    feature_names = get_feature_names(linear_feature_columns + dnn_feature_columns)\r\n",
        "\r\n",
        "    # 3.generate input data for model\r\n",
        "    train, test = train_test_split(data, test_size=0.2, random_state=2020)\r\n",
        "    train_model_input = {name:train[name].values for name in feature_names}\r\n",
        "    test_model_input = {name:test[name].values for name in feature_names}\r\n",
        "\r\n",
        "    # 4.Define Model,train,predict and evaluate\r\n",
        "    model = WDL(linear_feature_columns, dnn_feature_columns, task='regression')\r\n",
        "    model.compile(\"adam\", \"mse\", metrics=['mse'], )\r\n",
        "\r\n",
        "    history = model.fit(train_model_input, train[target].values,\r\n",
        "                        batch_size=256, epochs=10, verbose=2, validation_split=0.2, )\r\n",
        "    pred_ans = model.predict(test_model_input, batch_size=256)\r\n",
        "    # 5.output RMSE\r\n",
        "    mse = round(mean_squared_error(test[target].values, pred_ans), 4)\r\n",
        "    rmse = mse ** 0.5\r\n",
        "    print(\"test RMSE\", rmse)"
      ],
      "execution_count": 5,
      "outputs": [
        {
          "output_type": "stream",
          "text": [
            "WARNING:tensorflow:From /usr/local/lib/python3.6/dist-packages/tensorflow_core/python/keras/initializers.py:143: calling RandomNormal.__init__ (from tensorflow.python.ops.init_ops) with dtype is deprecated and will be removed in a future version.\n",
            "Instructions for updating:\n",
            "Call initializer instance with the dtype argument instead of passing it to the constructor\n"
          ],
          "name": "stdout"
        },
        {
          "output_type": "stream",
          "text": [
            "WARNING:tensorflow:From /usr/local/lib/python3.6/dist-packages/tensorflow_core/python/keras/initializers.py:143: calling RandomNormal.__init__ (from tensorflow.python.ops.init_ops) with dtype is deprecated and will be removed in a future version.\n",
            "Instructions for updating:\n",
            "Call initializer instance with the dtype argument instead of passing it to the constructor\n"
          ],
          "name": "stderr"
        },
        {
          "output_type": "stream",
          "text": [
            "WARNING:tensorflow:From /usr/local/lib/python3.6/dist-packages/tensorflow_core/python/ops/resource_variable_ops.py:1630: calling BaseResourceVariable.__init__ (from tensorflow.python.ops.resource_variable_ops) with constraint is deprecated and will be removed in a future version.\n",
            "Instructions for updating:\n",
            "If using Keras pass *_constraint arguments to layers.\n"
          ],
          "name": "stdout"
        },
        {
          "output_type": "stream",
          "text": [
            "WARNING:tensorflow:From /usr/local/lib/python3.6/dist-packages/tensorflow_core/python/ops/resource_variable_ops.py:1630: calling BaseResourceVariable.__init__ (from tensorflow.python.ops.resource_variable_ops) with constraint is deprecated and will be removed in a future version.\n",
            "Instructions for updating:\n",
            "If using Keras pass *_constraint arguments to layers.\n"
          ],
          "name": "stderr"
        },
        {
          "output_type": "stream",
          "text": [
            "WARNING:tensorflow:From /usr/local/lib/python3.6/dist-packages/deepctr/layers/utils.py:152: calling reduce_sum_v1 (from tensorflow.python.ops.math_ops) with keep_dims is deprecated and will be removed in a future version.\n",
            "Instructions for updating:\n",
            "keep_dims is deprecated, use keepdims instead\n"
          ],
          "name": "stdout"
        },
        {
          "output_type": "stream",
          "text": [
            "WARNING:tensorflow:From /usr/local/lib/python3.6/dist-packages/deepctr/layers/utils.py:152: calling reduce_sum_v1 (from tensorflow.python.ops.math_ops) with keep_dims is deprecated and will be removed in a future version.\n",
            "Instructions for updating:\n",
            "keep_dims is deprecated, use keepdims instead\n"
          ],
          "name": "stderr"
        },
        {
          "output_type": "stream",
          "text": [
            "Train on 671088 samples, validate on 167772 samples\n",
            "Epoch 1/10\n",
            "671088/671088 - 155s - loss: 0.9508 - mean_squared_error: 0.9415 - val_loss: 0.7539 - val_mean_squared_error: 0.7345\n",
            "Epoch 2/10\n",
            "671088/671088 - 153s - loss: 0.4632 - mean_squared_error: 0.4331 - val_loss: 0.7856 - val_mean_squared_error: 0.7446\n",
            "Epoch 3/10\n",
            "671088/671088 - 157s - loss: 0.4000 - mean_squared_error: 0.3544 - val_loss: 0.8367 - val_mean_squared_error: 0.7863\n",
            "Epoch 4/10\n",
            "671088/671088 - 155s - loss: 0.3260 - mean_squared_error: 0.2762 - val_loss: 0.8378 - val_mean_squared_error: 0.7871\n",
            "Epoch 5/10\n",
            "671088/671088 - 161s - loss: 0.2653 - mean_squared_error: 0.2171 - val_loss: 0.8383 - val_mean_squared_error: 0.7901\n",
            "Epoch 6/10\n",
            "671088/671088 - 183s - loss: 0.2478 - mean_squared_error: 0.2016 - val_loss: 0.8510 - val_mean_squared_error: 0.8040\n",
            "Epoch 7/10\n",
            "671088/671088 - 166s - loss: 0.2386 - mean_squared_error: 0.1931 - val_loss: 0.8513 - val_mean_squared_error: 0.8045\n",
            "Epoch 8/10\n",
            "671088/671088 - 153s - loss: 0.2329 - mean_squared_error: 0.1873 - val_loss: 0.8553 - val_mean_squared_error: 0.8086\n",
            "Epoch 9/10\n",
            "671088/671088 - 154s - loss: 0.2228 - mean_squared_error: 0.1776 - val_loss: 0.8643 - val_mean_squared_error: 0.8177\n",
            "Epoch 10/10\n",
            "671088/671088 - 151s - loss: 0.2107 - mean_squared_error: 0.1655 - val_loss: 0.8723 - val_mean_squared_error: 0.8255\n",
            "test RMSE 0.9111531155629113\n"
          ],
          "name": "stdout"
        }
      ]
    }
  ]
}