{
 "cells": [
  {
   "cell_type": "code",
   "execution_count": 1,
   "metadata": {},
   "outputs": [],
   "source": [
    "### 这个文件就是使用我们在时间因子中生成的新特征来做机械学习"
   ]
  },
  {
   "cell_type": "code",
   "execution_count": 2,
   "metadata": {},
   "outputs": [],
   "source": [
    "import pandas as pd\n",
    "import numpy as np\n",
    "import datetime\n",
    "import seaborn as sns\n",
    "from sklearn.linear_model import LogisticRegression"
   ]
  },
  {
   "cell_type": "code",
   "execution_count": 3,
   "metadata": {},
   "outputs": [
    {
     "data": {
      "text/html": [
       "<div>\n",
       "<style scoped>\n",
       "    .dataframe tbody tr th:only-of-type {\n",
       "        vertical-align: middle;\n",
       "    }\n",
       "\n",
       "    .dataframe tbody tr th {\n",
       "        vertical-align: top;\n",
       "    }\n",
       "\n",
       "    .dataframe thead th {\n",
       "        text-align: right;\n",
       "    }\n",
       "</style>\n",
       "<table border=\"1\" class=\"dataframe\">\n",
       "  <thead>\n",
       "    <tr style=\"text-align: right;\">\n",
       "      <th></th>\n",
       "      <th>Unnamed: 0</th>\n",
       "      <th>report_date</th>\n",
       "      <th>total_purchase_amt</th>\n",
       "      <th>total_redeem_amt</th>\n",
       "      <th>day</th>\n",
       "      <th>month</th>\n",
       "      <th>year</th>\n",
       "      <th>week</th>\n",
       "      <th>weekday</th>\n",
       "      <th>purchase_weekday</th>\n",
       "      <th>redeem_weekday</th>\n",
       "    </tr>\n",
       "  </thead>\n",
       "  <tbody>\n",
       "    <tr>\n",
       "      <th>0</th>\n",
       "      <td>0</td>\n",
       "      <td>2014-03-01</td>\n",
       "      <td>362865580.0</td>\n",
       "      <td>211279011.0</td>\n",
       "      <td>1</td>\n",
       "      <td>3</td>\n",
       "      <td>2014</td>\n",
       "      <td>9</td>\n",
       "      <td>5</td>\n",
       "      <td>0.709237</td>\n",
       "      <td>0.669791</td>\n",
       "    </tr>\n",
       "    <tr>\n",
       "      <th>1</th>\n",
       "      <td>1</td>\n",
       "      <td>2014-03-02</td>\n",
       "      <td>276202230.0</td>\n",
       "      <td>246199417.0</td>\n",
       "      <td>2</td>\n",
       "      <td>3</td>\n",
       "      <td>2014</td>\n",
       "      <td>9</td>\n",
       "      <td>6</td>\n",
       "      <td>0.712065</td>\n",
       "      <td>0.761712</td>\n",
       "    </tr>\n",
       "    <tr>\n",
       "      <th>2</th>\n",
       "      <td>2</td>\n",
       "      <td>2014-03-03</td>\n",
       "      <td>505305862.0</td>\n",
       "      <td>513017360.0</td>\n",
       "      <td>3</td>\n",
       "      <td>3</td>\n",
       "      <td>2014</td>\n",
       "      <td>10</td>\n",
       "      <td>0</td>\n",
       "      <td>1.185411</td>\n",
       "      <td>1.257964</td>\n",
       "    </tr>\n",
       "    <tr>\n",
       "      <th>3</th>\n",
       "      <td>3</td>\n",
       "      <td>2014-03-04</td>\n",
       "      <td>524146340.0</td>\n",
       "      <td>250562978.0</td>\n",
       "      <td>4</td>\n",
       "      <td>3</td>\n",
       "      <td>2014</td>\n",
       "      <td>10</td>\n",
       "      <td>1</td>\n",
       "      <td>1.209608</td>\n",
       "      <td>1.172248</td>\n",
       "    </tr>\n",
       "    <tr>\n",
       "      <th>4</th>\n",
       "      <td>4</td>\n",
       "      <td>2014-03-05</td>\n",
       "      <td>454295491.0</td>\n",
       "      <td>209072753.0</td>\n",
       "      <td>5</td>\n",
       "      <td>3</td>\n",
       "      <td>2014</td>\n",
       "      <td>10</td>\n",
       "      <td>2</td>\n",
       "      <td>1.163752</td>\n",
       "      <td>1.157944</td>\n",
       "    </tr>\n",
       "  </tbody>\n",
       "</table>\n",
       "</div>"
      ],
      "text/plain": [
       "   Unnamed: 0 report_date  total_purchase_amt  total_redeem_amt  day  month  \\\n",
       "0           0  2014-03-01         362865580.0       211279011.0    1      3   \n",
       "1           1  2014-03-02         276202230.0       246199417.0    2      3   \n",
       "2           2  2014-03-03         505305862.0       513017360.0    3      3   \n",
       "3           3  2014-03-04         524146340.0       250562978.0    4      3   \n",
       "4           4  2014-03-05         454295491.0       209072753.0    5      3   \n",
       "\n",
       "   year  week  weekday  purchase_weekday  redeem_weekday  \n",
       "0  2014     9        5          0.709237        0.669791  \n",
       "1  2014     9        6          0.712065        0.761712  \n",
       "2  2014    10        0          1.185411        1.257964  \n",
       "3  2014    10        1          1.209608        1.172248  \n",
       "4  2014    10        2          1.163752        1.157944  "
      ]
     },
     "execution_count": 3,
     "metadata": {},
     "output_type": "execute_result"
    }
   ],
   "source": [
    "## import data\n",
    "df = pd.read_csv('./total_balance.csv')\n",
    "df.head()"
   ]
  },
  {
   "cell_type": "code",
   "execution_count": 4,
   "metadata": {},
   "outputs": [
    {
     "data": {
      "text/plain": [
       "Index(['Unnamed: 0', 'report_date', 'total_purchase_amt', 'total_redeem_amt',\n",
       "       'day', 'month', 'year', 'week', 'weekday', 'purchase_weekday',\n",
       "       'redeem_weekday'],\n",
       "      dtype='object')"
      ]
     },
     "execution_count": 4,
     "metadata": {},
     "output_type": "execute_result"
    }
   ],
   "source": [
    "df.columns"
   ]
  },
  {
   "cell_type": "code",
   "execution_count": 5,
   "metadata": {},
   "outputs": [],
   "source": [
    "### 划分训练集和测试集\n",
    "train_X = df.iloc[:-30,-7:]\n",
    "test_X = df.iloc[-30:,-7:]\n",
    "train_Y_purchase = df.iloc[:-30,2]\n",
    "train_Y_redeem = df.iloc[:-30,3]"
   ]
  },
  {
   "cell_type": "code",
   "execution_count": 6,
   "metadata": {},
   "outputs": [
    {
     "name": "stdout",
     "output_type": "stream",
     "text": [
      "[3.30640884e+08 3.30640884e+08 3.30640884e+08 3.94780870e+08\n",
      " 2.47646474e+08 2.33903717e+08 2.59534870e+08 3.31550471e+08\n",
      " 3.31550471e+08 2.58493673e+08 2.61506619e+08 2.57702660e+08\n",
      " 2.15059736e+08 1.49978271e+08 2.98499146e+08 2.98499146e+08\n",
      " 2.66401973e+08 3.08378692e+08 2.51763517e+08 1.41412027e+08\n",
      " 1.30195484e+08 3.09574223e+08 3.09574223e+08 3.06945089e+08\n",
      " 3.02194801e+08 2.45082751e+08 2.67554713e+08 1.99708772e+08\n",
      " 3.06945089e+08 3.02194801e+08]\n"
     ]
    },
    {
     "name": "stderr",
     "output_type": "stream",
     "text": [
      "/opt/conda/lib/python3.7/site-packages/sklearn/linear_model/_logistic.py:940: ConvergenceWarning: lbfgs failed to converge (status=1):\n",
      "STOP: TOTAL NO. of ITERATIONS REACHED LIMIT.\n",
      "\n",
      "Increase the number of iterations (max_iter) or scale the data as shown in:\n",
      "    https://scikit-learn.org/stable/modules/preprocessing.html\n",
      "Please also refer to the documentation for alternative solver options:\n",
      "    https://scikit-learn.org/stable/modules/linear_model.html#logistic-regression\n",
      "  extra_warning_msg=_LOGISTIC_SOLVER_CONVERGENCE_MSG)\n"
     ]
    }
   ],
   "source": [
    "### 我们首先试试LR\n",
    "clf_LR = LogisticRegression()\n",
    "clf_LR.fit(train_X,train_Y_purchase)\n",
    "\n",
    "#进行预测\n",
    "pre_Y_purchase = clf_LR.predict(test_X)\n",
    "print(pre_Y_purchase)\n"
   ]
  },
  {
   "cell_type": "code",
   "execution_count": 7,
   "metadata": {},
   "outputs": [
    {
     "name": "stdout",
     "output_type": "stream",
     "text": [
      "[3.22907524e+08 3.22907524e+08 3.22907524e+08 2.21706539e+08\n",
      " 2.53659514e+08 3.11648757e+08 1.89909225e+08 4.18603336e+08\n",
      " 4.18603336e+08 3.09754858e+08 3.03975517e+08 2.11939431e+08\n",
      " 2.19214339e+08 1.39564084e+08 2.59169016e+08 2.59169016e+08\n",
      " 2.54929877e+08 2.02452782e+08 2.19963356e+08 1.99377531e+08\n",
      " 1.91080151e+08 3.12413411e+08 3.12413411e+08 2.85478563e+08\n",
      " 4.68164147e+08 2.97893861e+08 2.73756380e+08 1.96374134e+08\n",
      " 2.85478563e+08 4.68164147e+08]\n"
     ]
    },
    {
     "name": "stderr",
     "output_type": "stream",
     "text": [
      "/opt/conda/lib/python3.7/site-packages/sklearn/linear_model/_logistic.py:940: ConvergenceWarning: lbfgs failed to converge (status=1):\n",
      "STOP: TOTAL NO. of ITERATIONS REACHED LIMIT.\n",
      "\n",
      "Increase the number of iterations (max_iter) or scale the data as shown in:\n",
      "    https://scikit-learn.org/stable/modules/preprocessing.html\n",
      "Please also refer to the documentation for alternative solver options:\n",
      "    https://scikit-learn.org/stable/modules/linear_model.html#logistic-regression\n",
      "  extra_warning_msg=_LOGISTIC_SOLVER_CONVERGENCE_MSG)\n"
     ]
    }
   ],
   "source": [
    "clf_LR = LogisticRegression()\n",
    "clf_LR.fit(train_X,train_Y_redeem)\n",
    "\n",
    "#进行预测\n",
    "pre_Y_redeem = clf_LR.predict(test_X)\n",
    "print(pre_Y_redeem)"
   ]
  },
  {
   "cell_type": "code",
   "execution_count": 8,
   "metadata": {},
   "outputs": [],
   "source": [
    "data = {'report_date':df.iloc[-30:,1],'pre_purchase':pre_Y_purchase,'pre_redeem':pre_Y_redeem}\n",
    "data_LR=pd.DataFrame(data)\n"
   ]
  },
  {
   "cell_type": "code",
   "execution_count": 9,
   "metadata": {},
   "outputs": [],
   "source": [
    "## 去掉日期类型中的-\n",
    "data_LR['report_date'] = data_LR['report_date'].apply(lambda x: str(x).replace('-','')[:8])"
   ]
  },
  {
   "cell_type": "code",
   "execution_count": 10,
   "metadata": {},
   "outputs": [],
   "source": [
    "data_LR.to_csv('result_LR.csv',header = None, index = None)"
   ]
  },
  {
   "cell_type": "markdown",
   "metadata": {},
   "source": [
    "## emmmm,逻辑回归的score只有:81.9687,我吐血啦"
   ]
  },
  {
   "cell_type": "code",
   "execution_count": 11,
   "metadata": {},
   "outputs": [],
   "source": [
    "### 我们再来试试xgboost\n",
    "\n",
    "from xgboost import XGBClassifier\n"
   ]
  },
  {
   "cell_type": "code",
   "execution_count": 12,
   "metadata": {},
   "outputs": [
    {
     "name": "stdout",
     "output_type": "stream",
     "text": [
      "[1.25336258e+08 1.25336258e+08 1.25336258e+08 1.25336258e+08\n",
      " 1.25336258e+08 1.25336258e+08 1.25336258e+08 1.25336258e+08\n",
      " 1.25336258e+08 1.25336258e+08 1.25336258e+08 1.25336258e+08\n",
      " 1.25336258e+08 1.25336258e+08 1.25336258e+08 1.25336258e+08\n",
      " 1.25336258e+08 1.25336258e+08 1.25336258e+08 1.25336258e+08\n",
      " 1.25336258e+08 1.25336258e+08 1.25336258e+08 1.25336258e+08\n",
      " 1.25336258e+08 1.25336258e+08 1.25336258e+08 1.25336258e+08\n",
      " 1.25336258e+08 1.25336258e+08]\n"
     ]
    }
   ],
   "source": [
    "\n",
    "# 拟合XGBoost模型\n",
    "model = XGBClassifier()\n",
    "model.fit(train_X,train_Y_purchase)\n",
    " \n",
    "# 对测试集做预测\n",
    "pre_Y_purchase = model.predict(test_X)\n",
    "print(pre_Y_purchase) \n"
   ]
  },
  {
   "cell_type": "code",
   "execution_count": 13,
   "metadata": {},
   "outputs": [
    {
     "name": "stdout",
     "output_type": "stream",
     "text": [
      "[1.16623756e+08 1.16623756e+08 1.16623756e+08 1.16623756e+08\n",
      " 1.16623756e+08 1.16623756e+08 1.16623756e+08 1.16623756e+08\n",
      " 1.16623756e+08 1.16623756e+08 1.16623756e+08 1.16623756e+08\n",
      " 1.16623756e+08 1.16623756e+08 1.16623756e+08 1.16623756e+08\n",
      " 1.16623756e+08 1.16623756e+08 1.16623756e+08 1.16623756e+08\n",
      " 1.16623756e+08 1.16623756e+08 1.16623756e+08 1.16623756e+08\n",
      " 1.16623756e+08 1.16623756e+08 1.16623756e+08 1.16623756e+08\n",
      " 1.16623756e+08 1.16623756e+08]\n"
     ]
    }
   ],
   "source": [
    "model.fit(train_X,train_Y_redeem)\n",
    " \n",
    "# 对测试集做预测\n",
    "pre_Y_redeem = model.predict(test_X)\n",
    "print(pre_Y_redeem) "
   ]
  },
  {
   "cell_type": "code",
   "execution_count": 14,
   "metadata": {},
   "outputs": [],
   "source": [
    "data = {'report_date':df.iloc[-30:,1],'pre_purchase':pre_Y_purchase,'pre_redeem':pre_Y_redeem}\n",
    "data_XGboost=pd.DataFrame(data)\n",
    "## 去掉日期类型中的-\n",
    "data_XGboost['report_date'] = data_XGboost['report_date'].apply(lambda x: str(x).replace('-','')[:8])\n",
    "data_XGboost.to_csv('result_Xgboost.csv',header = None, index = None)"
   ]
  },
  {
   "cell_type": "markdown",
   "metadata": {},
   "source": [
    "### 这个结果更没谱了,score:5.6167"
   ]
  },
  {
   "cell_type": "code",
   "execution_count": 15,
   "metadata": {},
   "outputs": [],
   "source": [
    "## 试试lightgbm\n",
    "from sklearn.ensemble import GradientBoostingClassifier\n"
   ]
  },
  {
   "cell_type": "code",
   "execution_count": 16,
   "metadata": {},
   "outputs": [
    {
     "name": "stdout",
     "output_type": "stream",
     "text": [
      "[3.30640884e+08 3.30640884e+08 3.30640884e+08 3.30640884e+08\n",
      " 3.31550471e+08 3.31550471e+08 3.31550471e+08 3.09574223e+08\n",
      " 3.31550471e+08 3.31550471e+08 3.31550471e+08 3.08378692e+08\n",
      " 1.41412027e+08 3.08378692e+08 3.09574223e+08 2.66401973e+08\n",
      " 3.08378692e+08 3.08378692e+08 3.08378692e+08 1.41412027e+08\n",
      " 2.45082751e+08 3.09574223e+08 3.06945089e+08 3.02194801e+08\n",
      " 2.45082751e+08 2.45082751e+08 1.99708772e+08 2.45082751e+08\n",
      " 3.09574223e+08 2.28093046e+08]\n"
     ]
    }
   ],
   "source": [
    "gbm0 = GradientBoostingClassifier(random_state=2019)\n",
    "gbm0.fit(train_X,train_Y_purchase)\n",
    "\n",
    "# 对测试集做预测\n",
    "pre_Y_purchase = gbm0.predict(test_X)\n",
    "print(pre_Y_purchase) \n"
   ]
  },
  {
   "cell_type": "code",
   "execution_count": 17,
   "metadata": {},
   "outputs": [
    {
     "name": "stdout",
     "output_type": "stream",
     "text": [
      "[3.22907524e+08 3.22907524e+08 3.22907524e+08 3.22907524e+08\n",
      " 3.12413411e+08 1.63611708e+08 3.12413411e+08 3.12413411e+08\n",
      " 3.12413411e+08 3.12413411e+08 3.12413411e+08 3.12413411e+08\n",
      " 3.12413411e+08 3.12413411e+08 3.12413411e+08 3.12413411e+08\n",
      " 3.12413411e+08 3.12413411e+08 3.12413411e+08 3.12413411e+08\n",
      " 3.12413411e+08 3.12413411e+08 3.12413411e+08 3.12413411e+08\n",
      " 3.12413411e+08 4.68164147e+08 1.96374134e+08 1.66610652e+08\n",
      " 3.45986909e+08 2.85478563e+08]\n"
     ]
    }
   ],
   "source": [
    "gbm0.fit(train_X,train_Y_redeem)\n",
    "\n",
    "# 对测试集做预测\n",
    "pre_Y_redeem = gbm0.predict(test_X)\n",
    "print(pre_Y_redeem) \n"
   ]
  },
  {
   "cell_type": "code",
   "execution_count": 18,
   "metadata": {},
   "outputs": [],
   "source": [
    "data = {'report_date':df.iloc[-30:,1],'pre_purchase':pre_Y_purchase,'pre_redeem':pre_Y_redeem}\n",
    "data_LGBM=pd.DataFrame(data)\n",
    "## 去掉日期类型中的-\n",
    "data_LGBM['report_date'] = data_LGBM['report_date'].apply(lambda x: str(x).replace('-','')[:8])\n",
    "data_LGBM.to_csv('result_LGBM.csv')"
   ]
  },
  {
   "cell_type": "markdown",
   "metadata": {},
   "source": [
    "### lgbm的结果好一点有82.7447"
   ]
  },
  {
   "cell_type": "code",
   "execution_count": 19,
   "metadata": {},
   "outputs": [
    {
     "data": {
      "text/html": [
       "<div>\n",
       "<style scoped>\n",
       "    .dataframe tbody tr th:only-of-type {\n",
       "        vertical-align: middle;\n",
       "    }\n",
       "\n",
       "    .dataframe tbody tr th {\n",
       "        vertical-align: top;\n",
       "    }\n",
       "\n",
       "    .dataframe thead th {\n",
       "        text-align: right;\n",
       "    }\n",
       "</style>\n",
       "<table border=\"1\" class=\"dataframe\">\n",
       "  <thead>\n",
       "    <tr style=\"text-align: right;\">\n",
       "      <th></th>\n",
       "      <th>Unnamed: 0</th>\n",
       "      <th>report_date</th>\n",
       "      <th>purchase</th>\n",
       "      <th>redeem</th>\n",
       "    </tr>\n",
       "  </thead>\n",
       "  <tbody>\n",
       "    <tr>\n",
       "      <th>0</th>\n",
       "      <td>0</td>\n",
       "      <td>20140901</td>\n",
       "      <td>3.206019e+08</td>\n",
       "      <td>3.687988e+08</td>\n",
       "    </tr>\n",
       "    <tr>\n",
       "      <th>1</th>\n",
       "      <td>1</td>\n",
       "      <td>20140902</td>\n",
       "      <td>3.290633e+08</td>\n",
       "      <td>3.188757e+08</td>\n",
       "    </tr>\n",
       "    <tr>\n",
       "      <th>2</th>\n",
       "      <td>2</td>\n",
       "      <td>20140903</td>\n",
       "      <td>3.086676e+08</td>\n",
       "      <td>3.407753e+08</td>\n",
       "    </tr>\n",
       "    <tr>\n",
       "      <th>3</th>\n",
       "      <td>3</td>\n",
       "      <td>20140904</td>\n",
       "      <td>2.562200e+08</td>\n",
       "      <td>3.291667e+08</td>\n",
       "    </tr>\n",
       "    <tr>\n",
       "      <th>4</th>\n",
       "      <td>4</td>\n",
       "      <td>20140905</td>\n",
       "      <td>2.282802e+08</td>\n",
       "      <td>2.572588e+08</td>\n",
       "    </tr>\n",
       "  </tbody>\n",
       "</table>\n",
       "</div>"
      ],
      "text/plain": [
       "   Unnamed: 0  report_date      purchase        redeem\n",
       "0           0     20140901  3.206019e+08  3.687988e+08\n",
       "1           1     20140902  3.290633e+08  3.188757e+08\n",
       "2           2     20140903  3.086676e+08  3.407753e+08\n",
       "3           3     20140904  2.562200e+08  3.291667e+08\n",
       "4           4     20140905  2.282802e+08  2.572588e+08"
      ]
     },
     "execution_count": 19,
     "metadata": {},
     "output_type": "execute_result"
    }
   ],
   "source": [
    "### 现在我们来做一下加权平均,首先读取arma的结果\n",
    "df_arma = pd.read_csv('./tsa_base.csv')\n",
    "df_arma.head()"
   ]
  },
  {
   "cell_type": "code",
   "execution_count": 21,
   "metadata": {},
   "outputs": [
    {
     "data": {
      "text/html": [
       "<div>\n",
       "<style scoped>\n",
       "    .dataframe tbody tr th:only-of-type {\n",
       "        vertical-align: middle;\n",
       "    }\n",
       "\n",
       "    .dataframe tbody tr th {\n",
       "        vertical-align: top;\n",
       "    }\n",
       "\n",
       "    .dataframe thead th {\n",
       "        text-align: right;\n",
       "    }\n",
       "</style>\n",
       "<table border=\"1\" class=\"dataframe\">\n",
       "  <thead>\n",
       "    <tr style=\"text-align: right;\">\n",
       "      <th></th>\n",
       "      <th>Unnamed: 0</th>\n",
       "      <th>report_date</th>\n",
       "      <th>total_purchase_amt</th>\n",
       "      <th>total_redeem_amt</th>\n",
       "    </tr>\n",
       "  </thead>\n",
       "  <tbody>\n",
       "    <tr>\n",
       "      <th>0</th>\n",
       "      <td>0</td>\n",
       "      <td>20140901</td>\n",
       "      <td>3.819439e+08</td>\n",
       "      <td>2.938111e+08</td>\n",
       "    </tr>\n",
       "    <tr>\n",
       "      <th>1</th>\n",
       "      <td>5</td>\n",
       "      <td>20140902</td>\n",
       "      <td>2.981538e+08</td>\n",
       "      <td>2.507790e+08</td>\n",
       "    </tr>\n",
       "    <tr>\n",
       "      <th>2</th>\n",
       "      <td>10</td>\n",
       "      <td>20140903</td>\n",
       "      <td>3.360825e+08</td>\n",
       "      <td>3.401504e+08</td>\n",
       "    </tr>\n",
       "    <tr>\n",
       "      <th>3</th>\n",
       "      <td>14</td>\n",
       "      <td>20140904</td>\n",
       "      <td>3.492969e+08</td>\n",
       "      <td>2.869627e+08</td>\n",
       "    </tr>\n",
       "    <tr>\n",
       "      <th>4</th>\n",
       "      <td>18</td>\n",
       "      <td>20140905</td>\n",
       "      <td>2.958247e+08</td>\n",
       "      <td>2.514977e+08</td>\n",
       "    </tr>\n",
       "  </tbody>\n",
       "</table>\n",
       "</div>"
      ],
      "text/plain": [
       "   Unnamed: 0  report_date  total_purchase_amt  total_redeem_amt\n",
       "0           0     20140901        3.819439e+08      2.938111e+08\n",
       "1           5     20140902        2.981538e+08      2.507790e+08\n",
       "2          10     20140903        3.360825e+08      3.401504e+08\n",
       "3          14     20140904        3.492969e+08      2.869627e+08\n",
       "4          18     20140905        2.958247e+08      2.514977e+08"
      ]
     },
     "execution_count": 21,
     "metadata": {},
     "output_type": "execute_result"
    }
   ],
   "source": [
    "## 然后import 时间因子的结果\n",
    "df_time = pd.read_csv('./timefactor_base.csv')\n",
    "df_time.head()"
   ]
  },
  {
   "cell_type": "code",
   "execution_count": 22,
   "metadata": {},
   "outputs": [
    {
     "data": {
      "text/html": [
       "<div>\n",
       "<style scoped>\n",
       "    .dataframe tbody tr th:only-of-type {\n",
       "        vertical-align: middle;\n",
       "    }\n",
       "\n",
       "    .dataframe tbody tr th {\n",
       "        vertical-align: top;\n",
       "    }\n",
       "\n",
       "    .dataframe thead th {\n",
       "        text-align: right;\n",
       "    }\n",
       "</style>\n",
       "<table border=\"1\" class=\"dataframe\">\n",
       "  <thead>\n",
       "    <tr style=\"text-align: right;\">\n",
       "      <th></th>\n",
       "      <th>Unnamed: 0</th>\n",
       "      <th>report_date</th>\n",
       "      <th>pre_purchase</th>\n",
       "      <th>pre_redeem</th>\n",
       "    </tr>\n",
       "  </thead>\n",
       "  <tbody>\n",
       "    <tr>\n",
       "      <th>0</th>\n",
       "      <td>184</td>\n",
       "      <td>20140901</td>\n",
       "      <td>330640884.0</td>\n",
       "      <td>322907524.0</td>\n",
       "    </tr>\n",
       "    <tr>\n",
       "      <th>1</th>\n",
       "      <td>185</td>\n",
       "      <td>20140902</td>\n",
       "      <td>330640884.0</td>\n",
       "      <td>322907524.0</td>\n",
       "    </tr>\n",
       "    <tr>\n",
       "      <th>2</th>\n",
       "      <td>186</td>\n",
       "      <td>20140903</td>\n",
       "      <td>330640884.0</td>\n",
       "      <td>322907524.0</td>\n",
       "    </tr>\n",
       "    <tr>\n",
       "      <th>3</th>\n",
       "      <td>187</td>\n",
       "      <td>20140904</td>\n",
       "      <td>330640884.0</td>\n",
       "      <td>322907524.0</td>\n",
       "    </tr>\n",
       "    <tr>\n",
       "      <th>4</th>\n",
       "      <td>188</td>\n",
       "      <td>20140905</td>\n",
       "      <td>331550471.0</td>\n",
       "      <td>312413411.0</td>\n",
       "    </tr>\n",
       "  </tbody>\n",
       "</table>\n",
       "</div>"
      ],
      "text/plain": [
       "   Unnamed: 0  report_date  pre_purchase   pre_redeem\n",
       "0         184     20140901   330640884.0  322907524.0\n",
       "1         185     20140902   330640884.0  322907524.0\n",
       "2         186     20140903   330640884.0  322907524.0\n",
       "3         187     20140904   330640884.0  322907524.0\n",
       "4         188     20140905   331550471.0  312413411.0"
      ]
     },
     "execution_count": 22,
     "metadata": {},
     "output_type": "execute_result"
    }
   ],
   "source": [
    "## 然后import 的结果\n",
    "df_LGBM = pd.read_csv('./result_LGBM.csv')\n",
    "df_LGBM.head()"
   ]
  },
  {
   "cell_type": "code",
   "execution_count": 29,
   "metadata": {},
   "outputs": [
    {
     "data": {
      "text/html": [
       "<div>\n",
       "<style scoped>\n",
       "    .dataframe tbody tr th:only-of-type {\n",
       "        vertical-align: middle;\n",
       "    }\n",
       "\n",
       "    .dataframe tbody tr th {\n",
       "        vertical-align: top;\n",
       "    }\n",
       "\n",
       "    .dataframe thead th {\n",
       "        text-align: right;\n",
       "    }\n",
       "</style>\n",
       "<table border=\"1\" class=\"dataframe\">\n",
       "  <thead>\n",
       "    <tr style=\"text-align: right;\">\n",
       "      <th></th>\n",
       "      <th>report_date</th>\n",
       "      <th>total_purchase_amt</th>\n",
       "      <th>total_redeem_amt</th>\n",
       "    </tr>\n",
       "  </thead>\n",
       "  <tbody>\n",
       "    <tr>\n",
       "      <th>0</th>\n",
       "      <td>20140901</td>\n",
       "      <td>3.671104e+08</td>\n",
       "      <td>3.102634e+08</td>\n",
       "    </tr>\n",
       "    <tr>\n",
       "      <th>1</th>\n",
       "      <td>20140902</td>\n",
       "      <td>3.059601e+08</td>\n",
       "      <td>2.680048e+08</td>\n",
       "    </tr>\n",
       "    <tr>\n",
       "      <th>2</th>\n",
       "      <td>20140903</td>\n",
       "      <td>3.303274e+08</td>\n",
       "      <td>3.394132e+08</td>\n",
       "    </tr>\n",
       "    <tr>\n",
       "      <th>3</th>\n",
       "      <td>20140904</td>\n",
       "      <td>3.297487e+08</td>\n",
       "      <td>2.972008e+08</td>\n",
       "    </tr>\n",
       "    <tr>\n",
       "      <th>4</th>\n",
       "      <td>20140905</td>\n",
       "      <td>2.841021e+08</td>\n",
       "      <td>2.556957e+08</td>\n",
       "    </tr>\n",
       "    <tr>\n",
       "      <th>5</th>\n",
       "      <td>20140906</td>\n",
       "      <td>2.279272e+08</td>\n",
       "      <td>1.884187e+08</td>\n",
       "    </tr>\n",
       "    <tr>\n",
       "      <th>6</th>\n",
       "      <td>20140907</td>\n",
       "      <td>2.167500e+08</td>\n",
       "      <td>1.938611e+08</td>\n",
       "    </tr>\n",
       "    <tr>\n",
       "      <th>7</th>\n",
       "      <td>20140908</td>\n",
       "      <td>3.295774e+08</td>\n",
       "      <td>3.201288e+08</td>\n",
       "    </tr>\n",
       "    <tr>\n",
       "      <th>8</th>\n",
       "      <td>20140909</td>\n",
       "      <td>3.369652e+08</td>\n",
       "      <td>2.845868e+08</td>\n",
       "    </tr>\n",
       "    <tr>\n",
       "      <th>9</th>\n",
       "      <td>20140910</td>\n",
       "      <td>3.668108e+08</td>\n",
       "      <td>3.074002e+08</td>\n",
       "    </tr>\n",
       "    <tr>\n",
       "      <th>10</th>\n",
       "      <td>20140911</td>\n",
       "      <td>3.066980e+08</td>\n",
       "      <td>3.034623e+08</td>\n",
       "    </tr>\n",
       "    <tr>\n",
       "      <th>11</th>\n",
       "      <td>20140912</td>\n",
       "      <td>2.470980e+08</td>\n",
       "      <td>2.567441e+08</td>\n",
       "    </tr>\n",
       "    <tr>\n",
       "      <th>12</th>\n",
       "      <td>20140913</td>\n",
       "      <td>1.929215e+08</td>\n",
       "      <td>2.102529e+08</td>\n",
       "    </tr>\n",
       "    <tr>\n",
       "      <th>13</th>\n",
       "      <td>20140914</td>\n",
       "      <td>2.112358e+08</td>\n",
       "      <td>2.278303e+08</td>\n",
       "    </tr>\n",
       "    <tr>\n",
       "      <th>14</th>\n",
       "      <td>20140915</td>\n",
       "      <td>3.353463e+08</td>\n",
       "      <td>3.034229e+08</td>\n",
       "    </tr>\n",
       "    <tr>\n",
       "      <th>15</th>\n",
       "      <td>20140916</td>\n",
       "      <td>3.611861e+08</td>\n",
       "      <td>3.438072e+08</td>\n",
       "    </tr>\n",
       "    <tr>\n",
       "      <th>16</th>\n",
       "      <td>20140917</td>\n",
       "      <td>2.932760e+08</td>\n",
       "      <td>3.431503e+08</td>\n",
       "    </tr>\n",
       "    <tr>\n",
       "      <th>17</th>\n",
       "      <td>20140918</td>\n",
       "      <td>3.022022e+08</td>\n",
       "      <td>2.843922e+08</td>\n",
       "    </tr>\n",
       "    <tr>\n",
       "      <th>18</th>\n",
       "      <td>20140919</td>\n",
       "      <td>2.541654e+08</td>\n",
       "      <td>2.633618e+08</td>\n",
       "    </tr>\n",
       "    <tr>\n",
       "      <th>19</th>\n",
       "      <td>20140920</td>\n",
       "      <td>2.183601e+08</td>\n",
       "      <td>1.902100e+08</td>\n",
       "    </tr>\n",
       "    <tr>\n",
       "      <th>20</th>\n",
       "      <td>20140921</td>\n",
       "      <td>2.137786e+08</td>\n",
       "      <td>2.225137e+08</td>\n",
       "    </tr>\n",
       "    <tr>\n",
       "      <th>21</th>\n",
       "      <td>20140922</td>\n",
       "      <td>2.886208e+08</td>\n",
       "      <td>3.322289e+08</td>\n",
       "    </tr>\n",
       "    <tr>\n",
       "      <th>22</th>\n",
       "      <td>20140923</td>\n",
       "      <td>2.851775e+08</td>\n",
       "      <td>3.017125e+08</td>\n",
       "    </tr>\n",
       "    <tr>\n",
       "      <th>23</th>\n",
       "      <td>20140924</td>\n",
       "      <td>2.799102e+08</td>\n",
       "      <td>3.437209e+08</td>\n",
       "    </tr>\n",
       "    <tr>\n",
       "      <th>24</th>\n",
       "      <td>20140925</td>\n",
       "      <td>2.689824e+08</td>\n",
       "      <td>3.105524e+08</td>\n",
       "    </tr>\n",
       "    <tr>\n",
       "      <th>25</th>\n",
       "      <td>20140926</td>\n",
       "      <td>2.297719e+08</td>\n",
       "      <td>3.109030e+08</td>\n",
       "    </tr>\n",
       "    <tr>\n",
       "      <th>26</th>\n",
       "      <td>20140927</td>\n",
       "      <td>1.925538e+08</td>\n",
       "      <td>2.281636e+08</td>\n",
       "    </tr>\n",
       "    <tr>\n",
       "      <th>27</th>\n",
       "      <td>20140928</td>\n",
       "      <td>2.065501e+08</td>\n",
       "      <td>2.536581e+08</td>\n",
       "    </tr>\n",
       "    <tr>\n",
       "      <th>28</th>\n",
       "      <td>20140929</td>\n",
       "      <td>2.903536e+08</td>\n",
       "      <td>3.407891e+08</td>\n",
       "    </tr>\n",
       "    <tr>\n",
       "      <th>29</th>\n",
       "      <td>20140930</td>\n",
       "      <td>2.916366e+08</td>\n",
       "      <td>3.283349e+08</td>\n",
       "    </tr>\n",
       "  </tbody>\n",
       "</table>\n",
       "</div>"
      ],
      "text/plain": [
       "    report_date  total_purchase_amt  total_redeem_amt\n",
       "0      20140901        3.671104e+08      3.102634e+08\n",
       "1      20140902        3.059601e+08      2.680048e+08\n",
       "2      20140903        3.303274e+08      3.394132e+08\n",
       "3      20140904        3.297487e+08      2.972008e+08\n",
       "4      20140905        2.841021e+08      2.556957e+08\n",
       "5      20140906        2.279272e+08      1.884187e+08\n",
       "6      20140907        2.167500e+08      1.938611e+08\n",
       "7      20140908        3.295774e+08      3.201288e+08\n",
       "8      20140909        3.369652e+08      2.845868e+08\n",
       "9      20140910        3.668108e+08      3.074002e+08\n",
       "10     20140911        3.066980e+08      3.034623e+08\n",
       "11     20140912        2.470980e+08      2.567441e+08\n",
       "12     20140913        1.929215e+08      2.102529e+08\n",
       "13     20140914        2.112358e+08      2.278303e+08\n",
       "14     20140915        3.353463e+08      3.034229e+08\n",
       "15     20140916        3.611861e+08      3.438072e+08\n",
       "16     20140917        2.932760e+08      3.431503e+08\n",
       "17     20140918        3.022022e+08      2.843922e+08\n",
       "18     20140919        2.541654e+08      2.633618e+08\n",
       "19     20140920        2.183601e+08      1.902100e+08\n",
       "20     20140921        2.137786e+08      2.225137e+08\n",
       "21     20140922        2.886208e+08      3.322289e+08\n",
       "22     20140923        2.851775e+08      3.017125e+08\n",
       "23     20140924        2.799102e+08      3.437209e+08\n",
       "24     20140925        2.689824e+08      3.105524e+08\n",
       "25     20140926        2.297719e+08      3.109030e+08\n",
       "26     20140927        1.925538e+08      2.281636e+08\n",
       "27     20140928        2.065501e+08      2.536581e+08\n",
       "28     20140929        2.903536e+08      3.407891e+08\n",
       "29     20140930        2.916366e+08      3.283349e+08"
      ]
     },
     "execution_count": 29,
     "metadata": {},
     "output_type": "execute_result"
    }
   ],
   "source": [
    "df_new = pd.DataFrame()\n",
    "df_new['report_date'] = df_LGBM['report_date']\n",
    "df_new['total_purchase_amt']= 0.75*df_time['total_purchase_amt']+0.2*df_arma['purchase']+0.05*df_LGBM['pre_purchase']\n",
    "df_new['total_redeem_amt']= 0.75*df_time['total_redeem_amt']+0.2*df_arma['redeem']+0.05*df_LGBM['pre_redeem']\n",
    "df_new"
   ]
  },
  {
   "cell_type": "code",
   "execution_count": 30,
   "metadata": {},
   "outputs": [],
   "source": [
    "df_new.to_csv('./final.csv',header = None, index = None)"
   ]
  },
  {
   "cell_type": "markdown",
   "metadata": {},
   "source": [
    "### 这个结果也不太理想,只有126."
   ]
  },
  {
   "cell_type": "markdown",
   "metadata": {},
   "source": [
    "### 所以我个人觉得还是单纯用时间因子模型会好一些"
   ]
  },
  {
   "cell_type": "code",
   "execution_count": null,
   "metadata": {},
   "outputs": [],
   "source": []
  }
 ],
 "metadata": {
  "kernelspec": {
   "display_name": "Python 3",
   "language": "python",
   "name": "python3"
  },
  "language_info": {
   "codemirror_mode": {
    "name": "ipython",
    "version": 3
   },
   "file_extension": ".py",
   "mimetype": "text/x-python",
   "name": "python",
   "nbconvert_exporter": "python",
   "pygments_lexer": "ipython3",
   "version": "3.7.6"
  }
 },
 "nbformat": 4,
 "nbformat_minor": 4
}
