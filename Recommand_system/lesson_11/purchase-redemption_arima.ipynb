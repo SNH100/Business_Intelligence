{
 "cells": [
  {
   "cell_type": "code",
   "execution_count": 1,
   "metadata": {},
   "outputs": [],
   "source": [
    "import pandas as pd\n",
    "import numpy as np\n",
    "import matplotlib.pyplot as plt"
   ]
  },
  {
   "cell_type": "code",
   "execution_count": 2,
   "metadata": {},
   "outputs": [
    {
     "name": "stderr",
     "output_type": "stream",
     "text": [
      "/opt/conda/lib/python3.7/site-packages/numpy/lib/arraysetops.py:569: FutureWarning: elementwise comparison failed; returning scalar instead, but in the future will perform elementwise comparison\n",
      "  mask |= (ar1 == a)\n"
     ]
    },
    {
     "name": "stdout",
     "output_type": "stream",
     "text": [
      "             total_purchase_amt  total_redeem_amt\n",
      "report_date                                      \n",
      "20130701               32488348           5525022\n",
      "20130702               29037390           2554548\n",
      "20130703               27270770           5953867\n",
      "20130704               18321185           6410729\n",
      "20130705               11648749           2763587\n",
      "...                         ...               ...\n",
      "20140827              302194801         468164147\n",
      "20140828              245082751         297893861\n",
      "20140829              267554713         273756380\n",
      "20140830              199708772         196374134\n",
      "20140831              275090213         292943033\n",
      "\n",
      "[427 rows x 2 columns]\n"
     ]
    }
   ],
   "source": [
    "\n",
    "# 读取用户申购赎回数据表\n",
    "user_balance= pd.read_csv('user_balance_table.csv',index_col='report_date')\n",
    "# 根据report_date，进行求和\n",
    "rawData = user_balance.groupby(by=['report_date']).sum()\n",
    "# 去除该方案不用的列，只选择本次有用的列\n",
    "purchaseRedeemData = rawData[['total_purchase_amt','total_redeem_amt']]\n",
    "# 打印purchaseRedeemData\n",
    "print(purchaseRedeemData)"
   ]
  },
  {
   "cell_type": "code",
   "execution_count": 3,
   "metadata": {},
   "outputs": [
    {
     "name": "stdout",
     "output_type": "stream",
     "text": [
      "             total_purchase_amt\n",
      "report_date                    \n",
      "2013-07-01             32488348\n",
      "2013-07-02             29037390\n",
      "2013-07-03             27270770\n",
      "2013-07-04             18321185\n",
      "2013-07-05             11648749\n",
      "...                         ...\n",
      "2014-08-27            302194801\n",
      "2014-08-28            245082751\n",
      "2014-08-29            267554713\n",
      "2014-08-30            199708772\n",
      "2014-08-31            275090213\n",
      "\n",
      "[427 rows x 1 columns]\n"
     ]
    }
   ],
   "source": [
    "# 只选择资金的流入数据\n",
    "purchaseTrainData = purchaseRedeemData[['total_purchase_amt']]\n",
    "# purchaseTrainData = purchaseRedeemData[['total_redeem_amt']]\n",
    "# 将数据转换成时间序列格式，以便于后期处理\n",
    "purchaseTrainData.index = pd.to_datetime(purchaseTrainData.index,format='%Y%m%d')\n",
    "# 打印资金的流入出数据\n",
    "print(purchaseTrainData)"
   ]
  },
  {
   "cell_type": "code",
   "execution_count": 4,
   "metadata": {},
   "outputs": [
    {
     "data": {
      "text/plain": [
       "<matplotlib.axes._subplots.AxesSubplot at 0x7fce8b9bf150>"
      ]
     },
     "execution_count": 4,
     "metadata": {},
     "output_type": "execute_result"
    },
    {
     "data": {
      "image/png": "[encoded data removed]",
      "text/plain": [
       "<Figure size 432x288 with 1 Axes>"
      ]
     },
     "metadata": {
      "needs_background": "light"
     },
     "output_type": "display_data"
    }
   ],
   "source": [
    "purchaseTrainData.sort_index().plot(title = 'purchase time series')"
   ]
  },
  {
   "cell_type": "code",
   "execution_count": 5,
   "metadata": {},
   "outputs": [
    {
     "name": "stdout",
     "output_type": "stream",
     "text": [
      "report_date\n",
      "2013-07-01     32488348\n",
      "2013-07-02     29037390\n",
      "2013-07-03     27270770\n",
      "2013-07-04     18321185\n",
      "2013-07-05     11648749\n",
      "                ...    \n",
      "2014-08-27    302194801\n",
      "2014-08-28    245082751\n",
      "2014-08-29    267554713\n",
      "2014-08-30    199708772\n",
      "2014-08-31    275090213\n",
      "Name: total_purchase_amt, Length: 427, dtype: int64\n"
     ]
    }
   ],
   "source": [
    "\n",
    "purchaseTrainSeries = purchaseTrainData.dropna().total_purchase_amt\n",
    "# purchaseTrainSeries = purchaseTrainData.dropna().total_redeem_amt\n",
    "print(purchaseTrainSeries)"
   ]
  },
  {
   "cell_type": "code",
   "execution_count": 6,
   "metadata": {},
   "outputs": [],
   "source": [
    "import statsmodels.tsa.stattools as ts"
   ]
  },
  {
   "cell_type": "code",
   "execution_count": 7,
   "metadata": {},
   "outputs": [
    {
     "data": {
      "text/plain": [
       "(-1.5898802926313507,\n",
       " 0.4886749751375928,\n",
       " 18,\n",
       " 408,\n",
       " {'1%': -3.446479704252724,\n",
       "  '5%': -2.8686500930967354,\n",
       "  '10%': -2.5705574627547096},\n",
       " 15960.28197033403)"
      ]
     },
     "execution_count": 7,
     "metadata": {},
     "output_type": "execute_result"
    }
   ],
   "source": [
    "# 进行ADF单位根检验，并查看结果\n",
    "ts.adfuller(purchaseTrainSeries)"
   ]
  },
  {
   "cell_type": "markdown",
   "metadata": {},
   "source": [
    "##### 从以上结果得出我们不能拒绝H0,所以该时间序列不平稳"
   ]
  },
  {
   "cell_type": "code",
   "execution_count": 8,
   "metadata": {},
   "outputs": [
    {
     "data": {
      "text/plain": [
       "(-7.947102224652343,\n",
       " 3.198186862488185e-12,\n",
       " 18,\n",
       " 407,\n",
       " {'1%': -3.4465195891135845,\n",
       "  '5%': -2.8686676281678634,\n",
       "  '10%': -2.5705668101226085},\n",
       " 15918.844657651942)"
      ]
     },
     "execution_count": 8,
     "metadata": {},
     "output_type": "execute_result"
    }
   ],
   "source": [
    "#### 为了处理不平稳序列,我们先做一次一阶差分,并检验\n",
    "purchaseTrainSeries_diff_1 = purchaseTrainSeries.diff().dropna()\n",
    "ts.adfuller(purchaseTrainSeries_diff_1)"
   ]
  },
  {
   "cell_type": "markdown",
   "metadata": {},
   "source": [
    "##### 很好,现在我们得到了平稳的序列"
   ]
  },
  {
   "cell_type": "code",
   "execution_count": 9,
   "metadata": {},
   "outputs": [
    {
     "name": "stdout",
     "output_type": "stream",
     "text": [
      "0.0\n"
     ]
    },
    {
     "name": "stderr",
     "output_type": "stream",
     "text": [
      "/opt/conda/lib/python3.7/site-packages/statsmodels/tsa/stattools.py:572: FutureWarning: fft=True will become the default in a future version of statsmodels. To suppress this warning, explicitly set fft=False.\n",
      "  FutureWarning\n"
     ]
    }
   ],
   "source": [
    "from statsmodels.tsa import stattools\n",
    "\n",
    "LjungBox=stattools.q_stat(stattools.acf(purchaseTrainSeries),len(purchaseTrainSeries))\n",
    "print(LjungBox[1][-1])"
   ]
  },
  {
   "cell_type": "code",
   "execution_count": 10,
   "metadata": {},
   "outputs": [
    {
     "data": {
      "image/png": "[encoded data removed]",
      "text/plain": [
       "<Figure size 432x288 with 2 Axes>"
      ]
     },
     "metadata": {
      "needs_background": "light"
     },
     "output_type": "display_data"
    }
   ],
   "source": [
    "from statsmodels.graphics.tsaplots import *\n",
    "import matplotlib.pyplot as plt\n",
    "# 将画面一分为二\n",
    "# 第一个画自相关图\n",
    "# 第二个画偏自相关图\n",
    "\n",
    "\n",
    "# 将画面一分为二\n",
    "axe1=plt.subplot(121)\n",
    "axe2=plt.subplot(122)\n",
    "#在第一个画面中画出序列的自相关系数图 \n",
    "plot1=plot_acf(purchaseTrainSeries_diff_1,lags=30,ax=axe1)\n",
    "#在第二个画面中画出序列的偏自相关系数图\n",
    "plot2=plot_pacf(purchaseTrainSeries_diff_1,lags=30,ax=axe2)"
   ]
  },
  {
   "cell_type": "code",
   "execution_count": 11,
   "metadata": {},
   "outputs": [
    {
     "name": "stdout",
     "output_type": "stream",
     "text": [
      "p=0   q=0   aic=16841.460203357445\n",
      "p=0   q=1   aic=16840.65879097423\n",
      "p=0   q=2   aic=16768.588254718212\n",
      "p=0   q=3   aic=16749.329831759416\n",
      "p=0   q=4   aic=16751.309186957347\n",
      "p=0   q=5   aic=16753.298607670124\n",
      "p=0   q=6   aic=16754.895467015613\n",
      "p=0   q=7   aic=16737.509977528156\n",
      "p=0   q=8   aic=16737.561777246472\n",
      "p=0   q=9   aic=16739.216112297603\n",
      "p=1   q=0   aic=16841.9752200592\n",
      "p=1   q=1   aic=16765.542397723617\n",
      "p=1   q=2   aic=16753.1081972759\n",
      "p=1   q=3   aic=16751.310435991865\n",
      "p=1   q=4   aic=16747.349897650038\n",
      "p=1   q=5   aic=16748.65322730548\n",
      "p=1   q=6   aic=16748.649510873474\n",
      "p=1   q=7   aic=16737.502410447283\n",
      "p=2   q=0   aic=16823.96105890665\n",
      "p=2   q=1   aic=16748.624487466237\n",
      "p=2   q=2   aic=16748.745570132123\n",
      "p=2   q=3   aic=16750.61328108243\n",
      "p=2   q=4   aic=16694.109169255076\n",
      "p=2   q=5   aic=16691.841441220684\n",
      "p=2   q=6   aic=16692.582391032625\n",
      "p=2   q=7   aic=16739.421124524542\n",
      "p=3   q=0   aic=16806.12709020872\n",
      "p=3   q=1   aic=16748.811605237388\n",
      "p=3   q=2   aic=16750.667923906167\n",
      "p=3   q=3   aic=16680.71055175299\n",
      "p=3   q=4   aic=16682.41139183327\n",
      "p=3   q=5   aic=16696.737577933112\n",
      "p=3   q=6   aic=16693.266301612108\n",
      "p=3   q=7   aic=16694.855476336492\n",
      "p=4   q=0   aic=16791.80220928719\n",
      "p=4   q=1   aic=16750.561701412338\n",
      "p=4   q=2   aic=16752.56169376154\n",
      "p=4   q=3   aic=16737.088503293242\n",
      "p=4   q=4   aic=16682.154969410094\n",
      "p=4   q=5   aic=16693.97028459883\n",
      "p=4   q=6   aic=16699.29181608722\n",
      "p=5   q=0   aic=16767.57633350127\n",
      "p=5   q=1   aic=16765.102407397193\n",
      "p=5   q=2   aic=16703.802955861745\n",
      "p=5   q=3   aic=16705.23482989199\n",
      "p=5   q=4   aic=16699.110041165422\n",
      "p=5   q=5   aic=16673.237970020786\n",
      "p=5   q=6   aic=16671.279639148084\n",
      "p=6   q=0   aic=16759.995167207984\n",
      "p=6   q=1   aic=16750.618465016894\n",
      "p=6   q=2   aic=16704.94129643906\n",
      "p=6   q=3   aic=16705.03075297269\n",
      "p=6   q=4   aic=16689.85386118481\n",
      "p=6   q=5   aic=16674.12090601868\n",
      "p=7   q=0   aic=16750.405105347127\n",
      "p=7   q=1   aic=16749.43259569099\n",
      "p=7   q=2   aic=16750.427145727153\n",
      "p=7   q=3   aic=16733.67011515171\n",
      "p=7   q=4   aic=16741.208239438998\n",
      "p=7   q=5   aic=16669.646033929606\n",
      "p=8   q=0   aic=16748.345669215927\n",
      "p=8   q=1   aic=16718.187149741047\n",
      "p=8   q=2   aic=16703.77179763361\n",
      "p=8   q=3   aic=16655.56887132073\n",
      "p=8   q=4   aic=16653.320732214863\n",
      "p=8   q=5   aic=16654.93589702825\n",
      "p=9   q=0   aic=16750.208023009356\n",
      "p=9   q=1   aic=16718.165898227908\n",
      "p=9   q=2   aic=16711.19999298168\n",
      "p=9   q=3   aic=16713.18639140526\n",
      "p=9   q=4   aic=16655.157093379104\n",
      "p=9   q=5   aic=16665.957962915472\n",
      "p_Dif=8   q_Dif=4   aicValue_Dif=16653.320732214863\n"
     ]
    }
   ],
   "source": [
    "from statsmodels.tsa import arima_model\n",
    "import sys\n",
    "\n",
    "# 忽略 ValueWarning\n",
    "import warnings\n",
    "warnings.filterwarnings('ignore')\n",
    "\n",
    "aicValue_Dif = sys.maxsize\n",
    "p_Dif = 0\n",
    "q_Dif = 0\n",
    "\n",
    "for p in range(0,10):\n",
    "    for q in range(0,10):\n",
    "        try:\n",
    "            model = arima_model.ARIMA(purchaseTrainSeries,order=(p,1,q)).fit()\n",
    "            aicValue = model.aic\n",
    "            print('p=' + str(p) + '   q=' + str(q) + '   aic=' + str(aicValue))\n",
    "            if aicValue <  aicValue_Dif:\n",
    "                aicValue_Dif = aicValue\n",
    "                p_Dif = p\n",
    "                q_Dif = q\n",
    "        except:\n",
    "            continue\n",
    "\n",
    "print('p_Dif=' + str(p_Dif) + '   q_Dif=' + str(q_Dif)  +  '   aicValue_Dif=' + str(aicValue_Dif))"
   ]
  },
  {
   "cell_type": "code",
   "execution_count": 12,
   "metadata": {},
   "outputs": [
    {
     "data": {
      "text/html": [
       "<div>\n",
       "<style scoped>\n",
       "    .dataframe tbody tr th:only-of-type {\n",
       "        vertical-align: middle;\n",
       "    }\n",
       "\n",
       "    .dataframe tbody tr th {\n",
       "        vertical-align: top;\n",
       "    }\n",
       "\n",
       "    .dataframe thead th {\n",
       "        text-align: right;\n",
       "    }\n",
       "</style>\n",
       "<table border=\"1\" class=\"dataframe\">\n",
       "  <thead>\n",
       "    <tr style=\"text-align: right;\">\n",
       "      <th></th>\n",
       "      <th>0</th>\n",
       "      <th>1</th>\n",
       "    </tr>\n",
       "  </thead>\n",
       "  <tbody>\n",
       "    <tr>\n",
       "      <th>const</th>\n",
       "      <td>-574086.641223</td>\n",
       "      <td>1.713063e+06</td>\n",
       "    </tr>\n",
       "    <tr>\n",
       "      <th>ar.L1.D.total_purchase_amt</th>\n",
       "      <td>0.889501</td>\n",
       "      <td>1.355017e+00</td>\n",
       "    </tr>\n",
       "    <tr>\n",
       "      <th>ar.L2.D.total_purchase_amt</th>\n",
       "      <td>-0.870515</td>\n",
       "      <td>-4.230231e-02</td>\n",
       "    </tr>\n",
       "    <tr>\n",
       "      <th>ar.L3.D.total_purchase_amt</th>\n",
       "      <td>-0.855508</td>\n",
       "      <td>-6.558363e-02</td>\n",
       "    </tr>\n",
       "    <tr>\n",
       "      <th>ar.L4.D.total_purchase_amt</th>\n",
       "      <td>0.099175</td>\n",
       "      <td>5.247081e-01</td>\n",
       "    </tr>\n",
       "    <tr>\n",
       "      <th>ar.L5.D.total_purchase_amt</th>\n",
       "      <td>-0.305936</td>\n",
       "      <td>5.790578e-03</td>\n",
       "    </tr>\n",
       "    <tr>\n",
       "      <th>ar.L6.D.total_purchase_amt</th>\n",
       "      <td>-0.154585</td>\n",
       "      <td>1.375725e-01</td>\n",
       "    </tr>\n",
       "    <tr>\n",
       "      <th>ar.L7.D.total_purchase_amt</th>\n",
       "      <td>0.079097</td>\n",
       "      <td>3.607744e-01</td>\n",
       "    </tr>\n",
       "    <tr>\n",
       "      <th>ar.L8.D.total_purchase_amt</th>\n",
       "      <td>-0.387833</td>\n",
       "      <td>-1.969012e-01</td>\n",
       "    </tr>\n",
       "    <tr>\n",
       "      <th>ma.L1.D.total_purchase_amt</th>\n",
       "      <td>-1.771052</td>\n",
       "      <td>-1.307220e+00</td>\n",
       "    </tr>\n",
       "    <tr>\n",
       "      <th>ma.L2.D.total_purchase_amt</th>\n",
       "      <td>0.148291</td>\n",
       "      <td>1.165149e+00</td>\n",
       "    </tr>\n",
       "    <tr>\n",
       "      <th>ma.L3.D.total_purchase_amt</th>\n",
       "      <td>0.057422</td>\n",
       "      <td>1.051718e+00</td>\n",
       "    </tr>\n",
       "    <tr>\n",
       "      <th>ma.L4.D.total_purchase_amt</th>\n",
       "      <td>-0.761290</td>\n",
       "      <td>-3.484067e-01</td>\n",
       "    </tr>\n",
       "  </tbody>\n",
       "</table>\n",
       "</div>"
      ],
      "text/plain": [
       "                                        0             1\n",
       "const                      -574086.641223  1.713063e+06\n",
       "ar.L1.D.total_purchase_amt       0.889501  1.355017e+00\n",
       "ar.L2.D.total_purchase_amt      -0.870515 -4.230231e-02\n",
       "ar.L3.D.total_purchase_amt      -0.855508 -6.558363e-02\n",
       "ar.L4.D.total_purchase_amt       0.099175  5.247081e-01\n",
       "ar.L5.D.total_purchase_amt      -0.305936  5.790578e-03\n",
       "ar.L6.D.total_purchase_amt      -0.154585  1.375725e-01\n",
       "ar.L7.D.total_purchase_amt       0.079097  3.607744e-01\n",
       "ar.L8.D.total_purchase_amt      -0.387833 -1.969012e-01\n",
       "ma.L1.D.total_purchase_amt      -1.771052 -1.307220e+00\n",
       "ma.L2.D.total_purchase_amt       0.148291  1.165149e+00\n",
       "ma.L3.D.total_purchase_amt       0.057422  1.051718e+00\n",
       "ma.L4.D.total_purchase_amt      -0.761290 -3.484067e-01"
      ]
     },
     "execution_count": 12,
     "metadata": {},
     "output_type": "execute_result"
    }
   ],
   "source": [
    "model = arima_model.ARIMA(purchaseTrainSeries,order=(p_Dif,1,q_Dif)).fit()\n",
    "model.conf_int()"
   ]
  },
  {
   "cell_type": "code",
   "execution_count": 13,
   "metadata": {},
   "outputs": [
    {
     "name": "stdout",
     "output_type": "stream",
     "text": [
      "0.8224280637171358\n"
     ]
    }
   ],
   "source": [
    "from statsmodels.stats.diagnostic import acorr_ljungbox\n",
    "\n",
    "LjungBox = acorr_ljungbox(model.resid,lags=7)\n",
    "print(LjungBox[1][-1])"
   ]
  },
  {
   "cell_type": "code",
   "execution_count": 14,
   "metadata": {},
   "outputs": [
    {
     "data": {
      "text/plain": [
       "2014-09-01    3.206019e+08\n",
       "2014-09-02    3.290633e+08\n",
       "2014-09-03    3.086676e+08\n",
       "2014-09-04    2.562200e+08\n",
       "2014-09-05    2.282802e+08\n",
       "2014-09-06    2.043380e+08\n",
       "2014-09-07    2.431774e+08\n",
       "2014-09-08    2.855655e+08\n",
       "2014-09-09    3.147261e+08\n",
       "2014-09-10    3.008356e+08\n",
       "2014-09-11    2.631969e+08\n",
       "2014-09-12    2.310595e+08\n",
       "2014-09-13    2.242829e+08\n",
       "2014-09-14    2.555588e+08\n",
       "2014-09-15    2.970212e+08\n",
       "2014-09-16    3.225679e+08\n",
       "2014-09-17    3.097653e+08\n",
       "2014-09-18    2.718784e+08\n",
       "2014-09-19    2.360778e+08\n",
       "2014-09-20    2.288810e+08\n",
       "2014-09-21    2.556789e+08\n",
       "2014-09-22    2.957925e+08\n",
       "2014-09-23    3.204239e+08\n",
       "2014-09-24    3.109887e+08\n",
       "2014-09-25    2.762445e+08\n",
       "2014-09-26    2.423772e+08\n",
       "2014-09-27    2.352985e+08\n",
       "2014-09-28    2.602363e+08\n",
       "2014-09-29    2.988136e+08\n",
       "2014-09-30    3.228113e+08\n",
       "Freq: D, dtype: float64"
      ]
     },
     "execution_count": 14,
     "metadata": {},
     "output_type": "execute_result"
    }
   ],
   "source": [
    "purchase_pred = model.predict('2014-09-01','2014-09-30',typ='levels')\n",
    "purchase_pred "
   ]
  },
  {
   "cell_type": "code",
   "execution_count": 15,
   "metadata": {},
   "outputs": [
    {
     "data": {
      "text/plain": [
       "16653.320732214863"
      ]
     },
     "execution_count": 15,
     "metadata": {},
     "output_type": "execute_result"
    }
   ],
   "source": [
    "model.aic"
   ]
  },
  {
   "cell_type": "markdown",
   "metadata": {},
   "source": [
    "### 现在purchase预测的工作写完了,我们用同样的方法预测redeem"
   ]
  },
  {
   "cell_type": "code",
   "execution_count": 16,
   "metadata": {},
   "outputs": [
    {
     "name": "stdout",
     "output_type": "stream",
     "text": [
      "             total_redeem_amt\n",
      "report_date                  \n",
      "2013-07-01            5525022\n",
      "2013-07-02            2554548\n",
      "2013-07-03            5953867\n",
      "2013-07-04            6410729\n",
      "2013-07-05            2763587\n",
      "...                       ...\n",
      "2014-08-27          468164147\n",
      "2014-08-28          297893861\n",
      "2014-08-29          273756380\n",
      "2014-08-30          196374134\n",
      "2014-08-31          292943033\n",
      "\n",
      "[427 rows x 1 columns]\n"
     ]
    }
   ],
   "source": [
    "# 只选择资金的流入数据\n",
    "redeemTrainData = purchaseRedeemData[['total_redeem_amt']]\n",
    "\n",
    "# 将数据转换成时间序列格式，以便于后期处理\n",
    "redeemTrainData.index = pd.to_datetime(purchaseTrainData.index,format='%Y%m%d')\n",
    "# 打印资金的流入出数据\n",
    "print(redeemTrainData)"
   ]
  },
  {
   "cell_type": "code",
   "execution_count": 17,
   "metadata": {},
   "outputs": [
    {
     "data": {
      "text/plain": [
       "<matplotlib.axes._subplots.AxesSubplot at 0x7fce805c1150>"
      ]
     },
     "execution_count": 17,
     "metadata": {},
     "output_type": "execute_result"
    },
    {
     "data": {
      "image/png": "[encoded data removed]",
      "text/plain": [
       "<Figure size 432x288 with 1 Axes>"
      ]
     },
     "metadata": {
      "needs_background": "light"
     },
     "output_type": "display_data"
    }
   ],
   "source": [
    "redeemTrainData.sort_index().plot(title = 'redeem time series')"
   ]
  },
  {
   "cell_type": "code",
   "execution_count": 18,
   "metadata": {},
   "outputs": [
    {
     "name": "stdout",
     "output_type": "stream",
     "text": [
      "report_date\n",
      "2013-07-01      5525022\n",
      "2013-07-02      2554548\n",
      "2013-07-03      5953867\n",
      "2013-07-04      6410729\n",
      "2013-07-05      2763587\n",
      "                ...    \n",
      "2014-08-27    468164147\n",
      "2014-08-28    297893861\n",
      "2014-08-29    273756380\n",
      "2014-08-30    196374134\n",
      "2014-08-31    292943033\n",
      "Name: total_redeem_amt, Length: 427, dtype: int64\n"
     ]
    }
   ],
   "source": [
    "\n",
    "redeemTrainSeries = redeemTrainData.dropna().total_redeem_amt\n",
    "print(redeemTrainSeries)"
   ]
  },
  {
   "cell_type": "code",
   "execution_count": 19,
   "metadata": {},
   "outputs": [
    {
     "data": {
      "text/plain": [
       "(-1.372413679828339,\n",
       " 0.5954275877949474,\n",
       " 13,\n",
       " 413,\n",
       " {'1%': -3.4462831955497135,\n",
       "  '5%': -2.8685636962704395,\n",
       "  '10%': -2.5705114078759914},\n",
       " 15816.780952766481)"
      ]
     },
     "execution_count": 19,
     "metadata": {},
     "output_type": "execute_result"
    }
   ],
   "source": [
    "# 进行ADF单位根检验，并查看结果\n",
    "ts.adfuller(redeemTrainSeries)"
   ]
  },
  {
   "cell_type": "markdown",
   "metadata": {},
   "source": [
    "#### 好吧,这个时间序列也是不平稳的"
   ]
  },
  {
   "cell_type": "code",
   "execution_count": 20,
   "metadata": {},
   "outputs": [
    {
     "data": {
      "text/plain": [
       "(-11.69198690696884,\n",
       " 1.6443717458497645e-21,\n",
       " 12,\n",
       " 413,\n",
       " {'1%': -3.4462831955497135,\n",
       "  '5%': -2.8685636962704395,\n",
       "  '10%': -2.5705114078759914},\n",
       " 15779.04993673871)"
      ]
     },
     "execution_count": 20,
     "metadata": {},
     "output_type": "execute_result"
    }
   ],
   "source": [
    "#### 为了处理不平稳序列,我们先做一次一阶差分,并检验\n",
    "redeemTrainSeries_diff_1 = redeemTrainSeries.diff().dropna()\n",
    "ts.adfuller(redeemTrainSeries_diff_1)"
   ]
  },
  {
   "cell_type": "code",
   "execution_count": 21,
   "metadata": {},
   "outputs": [
    {
     "name": "stdout",
     "output_type": "stream",
     "text": [
      "0.0\n"
     ]
    }
   ],
   "source": [
    "from statsmodels.tsa import stattools\n",
    "\n",
    "LjungBox=stattools.q_stat(stattools.acf(redeemTrainSeries),len(redeemTrainSeries))\n",
    "print(LjungBox[1][-1])"
   ]
  },
  {
   "cell_type": "code",
   "execution_count": 22,
   "metadata": {},
   "outputs": [
    {
     "data": {
      "image/png": "[encoded data removed]",
      "text/plain": [
       "<Figure size 432x288 with 2 Axes>"
      ]
     },
     "metadata": {
      "needs_background": "light"
     },
     "output_type": "display_data"
    }
   ],
   "source": [
    "from statsmodels.graphics.tsaplots import *\n",
    "import matplotlib.pyplot as plt\n",
    "# 将画面一分为二\n",
    "# 第一个画自相关图\n",
    "# 第二个画偏自相关图\n",
    "\n",
    "\n",
    "# 将画面一分为二\n",
    "axe1=plt.subplot(121)\n",
    "axe2=plt.subplot(122)\n",
    "#在第一个画面中画出序列的自相关系数图 \n",
    "plot1=plot_acf(redeemTrainSeries_diff_1,lags=30,ax=axe1)\n",
    "#在第二个画面中画出序列的偏自相关系数图\n",
    "plot2=plot_pacf(redeemTrainSeries_diff_1,lags=30,ax=axe2)"
   ]
  },
  {
   "cell_type": "code",
   "execution_count": 23,
   "metadata": {},
   "outputs": [
    {
     "name": "stdout",
     "output_type": "stream",
     "text": [
      "p=0   q=0   aic=16724.29952170823\n",
      "p=0   q=1   aic=16637.466978692315\n",
      "p=0   q=2   aic=16594.832753659313\n",
      "p=0   q=3   aic=16593.51136823857\n",
      "p=0   q=4   aic=16594.0343381405\n",
      "p=0   q=5   aic=16595.150892412163\n",
      "p=0   q=6   aic=16594.791883849673\n",
      "p=0   q=7   aic=16574.951532738687\n",
      "p=0   q=8   aic=16571.66718482116\n",
      "p=0   q=9   aic=16560.127642404277\n",
      "p=1   q=0   aic=16694.36526233143\n",
      "p=1   q=1   aic=16593.97883070426\n",
      "p=1   q=2   aic=16594.224969288414\n",
      "p=1   q=3   aic=16594.100739454545\n",
      "p=1   q=4   aic=16595.430917702783\n",
      "p=1   q=5   aic=16597.06051748052\n",
      "p=1   q=6   aic=16592.86882021851\n",
      "p=1   q=7   aic=16575.53584185024\n",
      "p=1   q=8   aic=16565.493619560737\n",
      "p=2   q=0   aic=16670.067632894814\n",
      "p=2   q=1   aic=16593.779291325685\n",
      "p=2   q=2   aic=16595.122186532462\n",
      "p=2   q=3   aic=16592.90730988623\n",
      "p=2   q=5   aic=16549.82181920138\n",
      "p=2   q=6   aic=16544.44399028976\n",
      "p=2   q=7   aic=16571.02975942829\n",
      "p=2   q=8   aic=16525.3219257312\n",
      "p=2   q=9   aic=16508.07602686743\n",
      "p=3   q=0   aic=16651.280708982402\n",
      "p=3   q=1   aic=16595.148913145378\n",
      "p=3   q=2   aic=16596.93628781086\n",
      "p=3   q=3   aic=16560.910102720245\n",
      "p=3   q=4   aic=16553.054365848406\n",
      "p=3   q=5   aic=16551.693696348284\n",
      "p=3   q=6   aic=16576.93133210878\n",
      "p=3   q=7   aic=16572.803060556726\n",
      "p=3   q=8   aic=16521.980941202695\n",
      "p=3   q=9   aic=16507.218431841204\n",
      "p=4   q=0   aic=16646.594096464953\n",
      "p=4   q=1   aic=16597.072688521373\n",
      "p=4   q=2   aic=16598.91611854757\n",
      "p=4   q=3   aic=16551.151610892815\n",
      "p=4   q=4   aic=16548.459334103172\n",
      "p=4   q=6   aic=16512.748595894296\n",
      "p=4   q=8   aic=16495.21046040938\n",
      "p=4   q=9   aic=16512.581858608308\n",
      "p=5   q=0   aic=16610.742495467704\n",
      "p=5   q=1   aic=16589.009082704353\n",
      "p=5   q=2   aic=16545.002001040644\n",
      "p=5   q=3   aic=16547.350896462176\n",
      "p=5   q=4   aic=16517.260255351954\n",
      "p=5   q=7   aic=16496.187148276193\n",
      "p=5   q=8   aic=16494.839156594095\n",
      "p=5   q=9   aic=16497.747114761954\n",
      "p=6   q=0   aic=16560.109824599527\n",
      "p=6   q=1   aic=16559.466965649342\n",
      "p=6   q=2   aic=16555.374650543683\n",
      "p=6   q=3   aic=16551.200803169704\n",
      "p=6   q=4   aic=16536.606833586993\n",
      "p=6   q=5   aic=16489.343715006213\n",
      "p=7   q=0   aic=16557.51210916274\n",
      "p=7   q=1   aic=16556.617772542162\n",
      "p=7   q=2   aic=16548.404797457533\n",
      "p=7   q=3   aic=16542.536058745947\n",
      "p=7   q=4   aic=16516.397672144023\n",
      "p=7   q=5   aic=16519.896275849063\n",
      "p=7   q=6   aic=16489.951525049142\n",
      "p=8   q=0   aic=16553.134131325016\n",
      "p=8   q=1   aic=16555.129483638953\n",
      "p=8   q=2   aic=16525.546557369835\n",
      "p=8   q=3   aic=16528.199017117542\n",
      "p=8   q=7   aic=16468.775801227082\n",
      "p=9   q=0   aic=16555.126288776453\n",
      "p=9   q=1   aic=16533.935952424872\n",
      "p=9   q=2   aic=16520.122786174274\n",
      "p=9   q=3   aic=16527.33296902847\n",
      "p=9   q=4   aic=16525.779345722913\n",
      "p=9   q=5   aic=16500.54732228984\n",
      "p_Dif=8   q_Dif=7   aicValue_Dif=16468.775801227082\n"
     ]
    }
   ],
   "source": [
    "\n",
    "\n",
    "# 忽略 ValueWarning\n",
    "import warnings\n",
    "warnings.filterwarnings('ignore')\n",
    "\n",
    "aicValue_Dif = sys.maxsize\n",
    "p_Dif = 0\n",
    "q_Dif = 0\n",
    "\n",
    "for p in range(0,10):\n",
    "    for q in range(0,10):\n",
    "        try:\n",
    "            model = arima_model.ARIMA(redeemTrainSeries,order=(p,1,q)).fit()\n",
    "            aicValue = model.aic\n",
    "            print('p=' + str(p) + '   q=' + str(q) + '   aic=' + str(aicValue))\n",
    "            if aicValue <  aicValue_Dif:\n",
    "                aicValue_Dif = aicValue\n",
    "                p_Dif = p\n",
    "                q_Dif = q\n",
    "        except:\n",
    "            continue\n",
    "\n",
    "print('p_Dif=' + str(p_Dif) + '   q_Dif=' + str(q_Dif)  +  '   aicValue_Dif=' + str(aicValue_Dif))"
   ]
  },
  {
   "cell_type": "code",
   "execution_count": 24,
   "metadata": {},
   "outputs": [
    {
     "data": {
      "text/html": [
       "<div>\n",
       "<style scoped>\n",
       "    .dataframe tbody tr th:only-of-type {\n",
       "        vertical-align: middle;\n",
       "    }\n",
       "\n",
       "    .dataframe tbody tr th {\n",
       "        vertical-align: top;\n",
       "    }\n",
       "\n",
       "    .dataframe thead th {\n",
       "        text-align: right;\n",
       "    }\n",
       "</style>\n",
       "<table border=\"1\" class=\"dataframe\">\n",
       "  <thead>\n",
       "    <tr style=\"text-align: right;\">\n",
       "      <th></th>\n",
       "      <th>0</th>\n",
       "      <th>1</th>\n",
       "    </tr>\n",
       "  </thead>\n",
       "  <tbody>\n",
       "    <tr>\n",
       "      <th>const</th>\n",
       "      <td>-11408.939566</td>\n",
       "      <td>1.360789e+06</td>\n",
       "    </tr>\n",
       "    <tr>\n",
       "      <th>ar.L1.D.total_redeem_amt</th>\n",
       "      <td>-0.894193</td>\n",
       "      <td>-6.302204e-01</td>\n",
       "    </tr>\n",
       "    <tr>\n",
       "      <th>ar.L2.D.total_redeem_amt</th>\n",
       "      <td>-0.570258</td>\n",
       "      <td>-2.352369e-01</td>\n",
       "    </tr>\n",
       "    <tr>\n",
       "      <th>ar.L3.D.total_redeem_amt</th>\n",
       "      <td>-0.630798</td>\n",
       "      <td>-3.069898e-01</td>\n",
       "    </tr>\n",
       "    <tr>\n",
       "      <th>ar.L4.D.total_redeem_amt</th>\n",
       "      <td>-0.605638</td>\n",
       "      <td>-2.754307e-01</td>\n",
       "    </tr>\n",
       "    <tr>\n",
       "      <th>ar.L5.D.total_redeem_amt</th>\n",
       "      <td>-0.637419</td>\n",
       "      <td>-3.066921e-01</td>\n",
       "    </tr>\n",
       "    <tr>\n",
       "      <th>ar.L6.D.total_redeem_amt</th>\n",
       "      <td>-0.583494</td>\n",
       "      <td>-2.666795e-01</td>\n",
       "    </tr>\n",
       "    <tr>\n",
       "      <th>ar.L7.D.total_redeem_amt</th>\n",
       "      <td>0.374402</td>\n",
       "      <td>6.895737e-01</td>\n",
       "    </tr>\n",
       "    <tr>\n",
       "      <th>ar.L8.D.total_redeem_amt</th>\n",
       "      <td>0.161500</td>\n",
       "      <td>3.853535e-01</td>\n",
       "    </tr>\n",
       "    <tr>\n",
       "      <th>ma.L1.D.total_redeem_amt</th>\n",
       "      <td>0.064470</td>\n",
       "      <td>2.829466e-01</td>\n",
       "    </tr>\n",
       "    <tr>\n",
       "      <th>ma.L2.D.total_redeem_amt</th>\n",
       "      <td>-0.262885</td>\n",
       "      <td>-6.801820e-02</td>\n",
       "    </tr>\n",
       "    <tr>\n",
       "      <th>ma.L3.D.total_redeem_amt</th>\n",
       "      <td>-0.017625</td>\n",
       "      <td>1.570089e-01</td>\n",
       "    </tr>\n",
       "    <tr>\n",
       "      <th>ma.L4.D.total_redeem_amt</th>\n",
       "      <td>-0.016860</td>\n",
       "      <td>1.536444e-01</td>\n",
       "    </tr>\n",
       "    <tr>\n",
       "      <th>ma.L5.D.total_redeem_amt</th>\n",
       "      <td>0.005955</td>\n",
       "      <td>1.817564e-01</td>\n",
       "    </tr>\n",
       "    <tr>\n",
       "      <th>ma.L6.D.total_redeem_amt</th>\n",
       "      <td>-0.125560</td>\n",
       "      <td>5.149278e-02</td>\n",
       "    </tr>\n",
       "    <tr>\n",
       "      <th>ma.L7.D.total_redeem_amt</th>\n",
       "      <td>-0.889524</td>\n",
       "      <td>-7.410510e-01</td>\n",
       "    </tr>\n",
       "  </tbody>\n",
       "</table>\n",
       "</div>"
      ],
      "text/plain": [
       "                                     0             1\n",
       "const                    -11408.939566  1.360789e+06\n",
       "ar.L1.D.total_redeem_amt     -0.894193 -6.302204e-01\n",
       "ar.L2.D.total_redeem_amt     -0.570258 -2.352369e-01\n",
       "ar.L3.D.total_redeem_amt     -0.630798 -3.069898e-01\n",
       "ar.L4.D.total_redeem_amt     -0.605638 -2.754307e-01\n",
       "ar.L5.D.total_redeem_amt     -0.637419 -3.066921e-01\n",
       "ar.L6.D.total_redeem_amt     -0.583494 -2.666795e-01\n",
       "ar.L7.D.total_redeem_amt      0.374402  6.895737e-01\n",
       "ar.L8.D.total_redeem_amt      0.161500  3.853535e-01\n",
       "ma.L1.D.total_redeem_amt      0.064470  2.829466e-01\n",
       "ma.L2.D.total_redeem_amt     -0.262885 -6.801820e-02\n",
       "ma.L3.D.total_redeem_amt     -0.017625  1.570089e-01\n",
       "ma.L4.D.total_redeem_amt     -0.016860  1.536444e-01\n",
       "ma.L5.D.total_redeem_amt      0.005955  1.817564e-01\n",
       "ma.L6.D.total_redeem_amt     -0.125560  5.149278e-02\n",
       "ma.L7.D.total_redeem_amt     -0.889524 -7.410510e-01"
      ]
     },
     "execution_count": 24,
     "metadata": {},
     "output_type": "execute_result"
    }
   ],
   "source": [
    "model = arima_model.ARIMA(redeemTrainSeries,order=(p_Dif,1,q_Dif)).fit()\n",
    "model.conf_int()"
   ]
  },
  {
   "cell_type": "code",
   "execution_count": 25,
   "metadata": {},
   "outputs": [
    {
     "name": "stdout",
     "output_type": "stream",
     "text": [
      "0.8697738737434733\n"
     ]
    }
   ],
   "source": [
    "\n",
    "LjungBox = acorr_ljungbox(model.resid,lags=7)\n",
    "print(LjungBox[1][-1])"
   ]
  },
  {
   "cell_type": "code",
   "execution_count": 26,
   "metadata": {},
   "outputs": [
    {
     "data": {
      "text/plain": [
       "2014-09-01    3.687988e+08\n",
       "2014-09-02    3.188757e+08\n",
       "2014-09-03    3.407753e+08\n",
       "2014-09-04    3.291667e+08\n",
       "2014-09-05    2.572588e+08\n",
       "2014-09-06    2.381331e+08\n",
       "2014-09-07    2.231166e+08\n",
       "2014-09-08    3.608751e+08\n",
       "2014-09-09    2.950576e+08\n",
       "2014-09-10    3.442243e+08\n",
       "2014-09-11    3.168221e+08\n",
       "2014-09-12    2.640071e+08\n",
       "2014-09-13    2.348937e+08\n",
       "2014-09-14    2.309726e+08\n",
       "2014-09-15    3.586077e+08\n",
       "2014-09-16    2.966446e+08\n",
       "2014-09-17    3.540085e+08\n",
       "2014-09-18    3.143170e+08\n",
       "2014-09-19    2.750669e+08\n",
       "2014-09-20    2.349917e+08\n",
       "2014-09-21    2.417693e+08\n",
       "2014-09-22    3.568582e+08\n",
       "2014-09-23    3.009123e+08\n",
       "2014-09-24    3.627906e+08\n",
       "2014-09-25    3.135164e+08\n",
       "2014-09-26    2.859231e+08\n",
       "2014-09-27    2.353069e+08\n",
       "2014-09-28    2.531158e+08\n",
       "2014-09-29    3.543597e+08\n",
       "2014-09-30    3.067064e+08\n",
       "Freq: D, dtype: float64"
      ]
     },
     "execution_count": 26,
     "metadata": {},
     "output_type": "execute_result"
    }
   ],
   "source": [
    "redeem_pred = model.predict('2014-09-01','2014-09-30',typ='levels')\n",
    "redeem_pred "
   ]
  },
  {
   "cell_type": "code",
   "execution_count": 27,
   "metadata": {},
   "outputs": [
    {
     "data": {
      "text/html": [
       "<div>\n",
       "<style scoped>\n",
       "    .dataframe tbody tr th:only-of-type {\n",
       "        vertical-align: middle;\n",
       "    }\n",
       "\n",
       "    .dataframe tbody tr th {\n",
       "        vertical-align: top;\n",
       "    }\n",
       "\n",
       "    .dataframe thead th {\n",
       "        text-align: right;\n",
       "    }\n",
       "</style>\n",
       "<table border=\"1\" class=\"dataframe\">\n",
       "  <thead>\n",
       "    <tr style=\"text-align: right;\">\n",
       "      <th></th>\n",
       "      <th>report_date</th>\n",
       "      <th>purchase</th>\n",
       "      <th>redeem</th>\n",
       "    </tr>\n",
       "  </thead>\n",
       "  <tbody>\n",
       "    <tr>\n",
       "      <th>0</th>\n",
       "      <td>2014-09-01</td>\n",
       "      <td>3.206019e+08</td>\n",
       "      <td>3.687988e+08</td>\n",
       "    </tr>\n",
       "    <tr>\n",
       "      <th>1</th>\n",
       "      <td>2014-09-02</td>\n",
       "      <td>3.290633e+08</td>\n",
       "      <td>3.188757e+08</td>\n",
       "    </tr>\n",
       "    <tr>\n",
       "      <th>2</th>\n",
       "      <td>2014-09-03</td>\n",
       "      <td>3.086676e+08</td>\n",
       "      <td>3.407753e+08</td>\n",
       "    </tr>\n",
       "    <tr>\n",
       "      <th>3</th>\n",
       "      <td>2014-09-04</td>\n",
       "      <td>2.562200e+08</td>\n",
       "      <td>3.291667e+08</td>\n",
       "    </tr>\n",
       "    <tr>\n",
       "      <th>4</th>\n",
       "      <td>2014-09-05</td>\n",
       "      <td>2.282802e+08</td>\n",
       "      <td>2.572588e+08</td>\n",
       "    </tr>\n",
       "    <tr>\n",
       "      <th>5</th>\n",
       "      <td>2014-09-06</td>\n",
       "      <td>2.043380e+08</td>\n",
       "      <td>2.381331e+08</td>\n",
       "    </tr>\n",
       "    <tr>\n",
       "      <th>6</th>\n",
       "      <td>2014-09-07</td>\n",
       "      <td>2.431774e+08</td>\n",
       "      <td>2.231166e+08</td>\n",
       "    </tr>\n",
       "    <tr>\n",
       "      <th>7</th>\n",
       "      <td>2014-09-08</td>\n",
       "      <td>2.855655e+08</td>\n",
       "      <td>3.608751e+08</td>\n",
       "    </tr>\n",
       "    <tr>\n",
       "      <th>8</th>\n",
       "      <td>2014-09-09</td>\n",
       "      <td>3.147261e+08</td>\n",
       "      <td>2.950576e+08</td>\n",
       "    </tr>\n",
       "    <tr>\n",
       "      <th>9</th>\n",
       "      <td>2014-09-10</td>\n",
       "      <td>3.008356e+08</td>\n",
       "      <td>3.442243e+08</td>\n",
       "    </tr>\n",
       "    <tr>\n",
       "      <th>10</th>\n",
       "      <td>2014-09-11</td>\n",
       "      <td>2.631969e+08</td>\n",
       "      <td>3.168221e+08</td>\n",
       "    </tr>\n",
       "    <tr>\n",
       "      <th>11</th>\n",
       "      <td>2014-09-12</td>\n",
       "      <td>2.310595e+08</td>\n",
       "      <td>2.640071e+08</td>\n",
       "    </tr>\n",
       "    <tr>\n",
       "      <th>12</th>\n",
       "      <td>2014-09-13</td>\n",
       "      <td>2.242829e+08</td>\n",
       "      <td>2.348937e+08</td>\n",
       "    </tr>\n",
       "    <tr>\n",
       "      <th>13</th>\n",
       "      <td>2014-09-14</td>\n",
       "      <td>2.555588e+08</td>\n",
       "      <td>2.309726e+08</td>\n",
       "    </tr>\n",
       "    <tr>\n",
       "      <th>14</th>\n",
       "      <td>2014-09-15</td>\n",
       "      <td>2.970212e+08</td>\n",
       "      <td>3.586077e+08</td>\n",
       "    </tr>\n",
       "    <tr>\n",
       "      <th>15</th>\n",
       "      <td>2014-09-16</td>\n",
       "      <td>3.225679e+08</td>\n",
       "      <td>2.966446e+08</td>\n",
       "    </tr>\n",
       "    <tr>\n",
       "      <th>16</th>\n",
       "      <td>2014-09-17</td>\n",
       "      <td>3.097653e+08</td>\n",
       "      <td>3.540085e+08</td>\n",
       "    </tr>\n",
       "    <tr>\n",
       "      <th>17</th>\n",
       "      <td>2014-09-18</td>\n",
       "      <td>2.718784e+08</td>\n",
       "      <td>3.143170e+08</td>\n",
       "    </tr>\n",
       "    <tr>\n",
       "      <th>18</th>\n",
       "      <td>2014-09-19</td>\n",
       "      <td>2.360778e+08</td>\n",
       "      <td>2.750669e+08</td>\n",
       "    </tr>\n",
       "    <tr>\n",
       "      <th>19</th>\n",
       "      <td>2014-09-20</td>\n",
       "      <td>2.288810e+08</td>\n",
       "      <td>2.349917e+08</td>\n",
       "    </tr>\n",
       "    <tr>\n",
       "      <th>20</th>\n",
       "      <td>2014-09-21</td>\n",
       "      <td>2.556789e+08</td>\n",
       "      <td>2.417693e+08</td>\n",
       "    </tr>\n",
       "    <tr>\n",
       "      <th>21</th>\n",
       "      <td>2014-09-22</td>\n",
       "      <td>2.957925e+08</td>\n",
       "      <td>3.568582e+08</td>\n",
       "    </tr>\n",
       "    <tr>\n",
       "      <th>22</th>\n",
       "      <td>2014-09-23</td>\n",
       "      <td>3.204239e+08</td>\n",
       "      <td>3.009123e+08</td>\n",
       "    </tr>\n",
       "    <tr>\n",
       "      <th>23</th>\n",
       "      <td>2014-09-24</td>\n",
       "      <td>3.109887e+08</td>\n",
       "      <td>3.627906e+08</td>\n",
       "    </tr>\n",
       "    <tr>\n",
       "      <th>24</th>\n",
       "      <td>2014-09-25</td>\n",
       "      <td>2.762445e+08</td>\n",
       "      <td>3.135164e+08</td>\n",
       "    </tr>\n",
       "    <tr>\n",
       "      <th>25</th>\n",
       "      <td>2014-09-26</td>\n",
       "      <td>2.423772e+08</td>\n",
       "      <td>2.859231e+08</td>\n",
       "    </tr>\n",
       "    <tr>\n",
       "      <th>26</th>\n",
       "      <td>2014-09-27</td>\n",
       "      <td>2.352985e+08</td>\n",
       "      <td>2.353069e+08</td>\n",
       "    </tr>\n",
       "    <tr>\n",
       "      <th>27</th>\n",
       "      <td>2014-09-28</td>\n",
       "      <td>2.602363e+08</td>\n",
       "      <td>2.531158e+08</td>\n",
       "    </tr>\n",
       "    <tr>\n",
       "      <th>28</th>\n",
       "      <td>2014-09-29</td>\n",
       "      <td>2.988136e+08</td>\n",
       "      <td>3.543597e+08</td>\n",
       "    </tr>\n",
       "    <tr>\n",
       "      <th>29</th>\n",
       "      <td>2014-09-30</td>\n",
       "      <td>3.228113e+08</td>\n",
       "      <td>3.067064e+08</td>\n",
       "    </tr>\n",
       "  </tbody>\n",
       "</table>\n",
       "</div>"
      ],
      "text/plain": [
       "   report_date      purchase        redeem\n",
       "0   2014-09-01  3.206019e+08  3.687988e+08\n",
       "1   2014-09-02  3.290633e+08  3.188757e+08\n",
       "2   2014-09-03  3.086676e+08  3.407753e+08\n",
       "3   2014-09-04  2.562200e+08  3.291667e+08\n",
       "4   2014-09-05  2.282802e+08  2.572588e+08\n",
       "5   2014-09-06  2.043380e+08  2.381331e+08\n",
       "6   2014-09-07  2.431774e+08  2.231166e+08\n",
       "7   2014-09-08  2.855655e+08  3.608751e+08\n",
       "8   2014-09-09  3.147261e+08  2.950576e+08\n",
       "9   2014-09-10  3.008356e+08  3.442243e+08\n",
       "10  2014-09-11  2.631969e+08  3.168221e+08\n",
       "11  2014-09-12  2.310595e+08  2.640071e+08\n",
       "12  2014-09-13  2.242829e+08  2.348937e+08\n",
       "13  2014-09-14  2.555588e+08  2.309726e+08\n",
       "14  2014-09-15  2.970212e+08  3.586077e+08\n",
       "15  2014-09-16  3.225679e+08  2.966446e+08\n",
       "16  2014-09-17  3.097653e+08  3.540085e+08\n",
       "17  2014-09-18  2.718784e+08  3.143170e+08\n",
       "18  2014-09-19  2.360778e+08  2.750669e+08\n",
       "19  2014-09-20  2.288810e+08  2.349917e+08\n",
       "20  2014-09-21  2.556789e+08  2.417693e+08\n",
       "21  2014-09-22  2.957925e+08  3.568582e+08\n",
       "22  2014-09-23  3.204239e+08  3.009123e+08\n",
       "23  2014-09-24  3.109887e+08  3.627906e+08\n",
       "24  2014-09-25  2.762445e+08  3.135164e+08\n",
       "25  2014-09-26  2.423772e+08  2.859231e+08\n",
       "26  2014-09-27  2.352985e+08  2.353069e+08\n",
       "27  2014-09-28  2.602363e+08  2.531158e+08\n",
       "28  2014-09-29  2.988136e+08  3.543597e+08\n",
       "29  2014-09-30  3.228113e+08  3.067064e+08"
      ]
     },
     "execution_count": 27,
     "metadata": {},
     "output_type": "execute_result"
    }
   ],
   "source": [
    "result = pd.DataFrame()\n",
    "result['report_date'] = purchase_pred.index\n",
    "result['purchase'] = purchase_pred.values\n",
    "result['redeem'] = redeem_pred.values\n",
    "result"
   ]
  },
  {
   "cell_type": "code",
   "execution_count": 28,
   "metadata": {},
   "outputs": [],
   "source": [
    "result['report_date'] = result['report_date'].apply(lambda x: str(x).replace('-','')[:8])"
   ]
  },
  {
   "cell_type": "code",
   "execution_count": 29,
   "metadata": {},
   "outputs": [],
   "source": [
    "result.to_csv('tsa_base.csv')"
   ]
  },
  {
   "cell_type": "markdown",
   "metadata": {},
   "source": [
    "#### 提交的结果score只有105.24,还有很大的提升空间"
   ]
  }
 ],
 "metadata": {
  "kernelspec": {
   "display_name": "Python 3",
   "language": "python",
   "name": "python3"
  },
  "language_info": {
   "codemirror_mode": {
    "name": "ipython",
    "version": 3
   },
   "file_extension": ".py",
   "mimetype": "text/x-python",
   "name": "python",
   "nbconvert_exporter": "python",
   "pygments_lexer": "ipython3",
   "version": "3.7.6"
  }
 },
 "nbformat": 4,
 "nbformat_minor": 4
}
