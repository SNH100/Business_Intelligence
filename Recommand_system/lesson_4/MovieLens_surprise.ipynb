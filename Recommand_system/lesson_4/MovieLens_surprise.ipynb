{
 "cells": [
  {
   "cell_type": "code",
   "execution_count": 2,
   "metadata": {},
   "outputs": [],
   "source": [
    "#调包\n",
    "from surprise import Dataset\n",
    "from surprise import Reader\n",
    "from surprise import BaselineOnly, KNNBasic, NormalPredictor\n",
    "from surprise import accuracy\n",
    "from surprise.model_selection import KFold\n",
    "\n"
   ]
  },
  {
   "cell_type": "code",
   "execution_count": 3,
   "metadata": {},
   "outputs": [],
   "source": [
    "\n",
    "# 数据读取\n",
    "path = 'C:/Users/Yan3/Desktop/dataset/ratings.csv'\n",
    "reader = Reader(line_format='user item rating timestamp', sep=',', skip_lines=1)\n",
    "data = Dataset.load_from_file(path, reader=reader)\n",
    "train_set = data.build_full_trainset()"
   ]
  },
  {
   "attachments": {},
   "cell_type": "markdown",
   "metadata": {},
   "source": [
    "#### ALS优化算法\n",
    "#### 原理:Step1，固定Y 优化X\n",
    "#### Step2，固定X 优化Y\n",
    "#### 重复Step1和2，直到X 和Y 收敛。每次固定一个矩阵，优化另一个矩阵，都是最小二乘问题"
   ]
  },
  {
   "cell_type": "code",
   "execution_count": 4,
   "metadata": {},
   "outputs": [],
   "source": [
    "\n",
    "# ALS优化\n",
    "bsl_options = {'method': 'als','n_epochs': 5,'reg_u': 12,'reg_i': 5}"
   ]
  },
  {
   "attachments": {},
   "cell_type": "markdown",
   "metadata": {},
   "source": [
    "#### Baseline算法\n",
    "#### 基于统计的基准预测线打分.使用ALS进行优化\n",
    "#### Step1，固定bu，优化bi\n",
    "#### Step2，固定bi，优化bu\n"
   ]
  },
  {
   "cell_type": "code",
   "execution_count": 5,
   "metadata": {},
   "outputs": [],
   "source": [
    "algo = BaselineOnly(bsl_options=bsl_options)"
   ]
  },
  {
   "cell_type": "code",
   "execution_count": 8,
   "metadata": {},
   "outputs": [
    {
     "name": "stdout",
     "output_type": "stream",
     "text": [
      "Estimating biases using als...\n",
      "RMSE: 0.8625\n",
      "Estimating biases using als...\n",
      "RMSE: 0.8634\n",
      "Estimating biases using als...\n",
      "RMSE: 0.8639\n",
      "Estimating biases using als...\n",
      "RMSE: 0.8611\n",
      "user: 100        item: 250        r_ui = 4.00   est = 2.83   {'was_impossible': False}\n"
     ]
    }
   ],
   "source": [
    "# 定义K折交叉验证迭代器，K=4\n",
    "kf = KFold(n_splits=4)\n",
    "for trainset, testset in kf.split(data):\n",
    "    # 训练并预测\n",
    "    algo.fit(trainset)\n",
    "    predictions = algo.test(testset)\n",
    "    # 计算RMSE\n",
    "    accuracy.rmse(predictions, verbose=True)\n",
    "\n",
    "uid = str(100)\n",
    "iid = str(250)\n",
    "# 输出uid对iid的预测结果\n",
    "pred_baseline = algo.predict(uid, iid, r_ui=4, verbose=True)"
   ]
  },
  {
   "cell_type": "markdown",
   "metadata": {},
   "source": [
    "#### Slopeone算法\n",
    "#### SlopeOne是迄今为止非常简单且有效的一种完全基于统计的协同过滤算法，该算法的主要思想是通过当前用户打分的所有item与当前item i在同一用户下的得分偏差总和来估算当前用户对item i的打分。"
   ]
  },
  {
   "cell_type": "code",
   "execution_count": 9,
   "metadata": {},
   "outputs": [
    {
     "name": "stdout",
     "output_type": "stream",
     "text": [
      "RMSE: 0.7922\n",
      "RMSE: 0.7940\n",
      "RMSE: 0.7923\n",
      "RMSE: 0.7919\n",
      "user: 100        item: 250        r_ui = 4.00   est = 2.60   {'was_impossible': False}\n"
     ]
    }
   ],
   "source": [
    "from surprise import SlopeOne\n",
    "# 使用SlopeOne算法\n",
    "algo = SlopeOne()\n",
    "# 定义K折交叉验证迭代器，K=4\n",
    "kf = KFold(n_splits=4)\n",
    "for trainset, testset in kf.split(data):\n",
    "    algo.fit(train_set)\n",
    "    predictions = algo.test(testset)\n",
    "    # 计算RMSE\n",
    "    accuracy.rmse(predictions, verbose=True)\n",
    "# 对指定用户和商品进行评分预测\n",
    "uid = str(100) \n",
    "iid = str(250) \n",
    "pred_slope = algo.predict(uid, iid, r_ui=4, verbose=True)"
   ]
  },
  {
   "cell_type": "markdown",
   "metadata": {},
   "source": [
    "#### SGD优化算法\n",
    "#### 原理:基本思路是以随机方式遍历训练集中的数据，并给出每个已知评分的预测评分。用户和物品特征向量的调整就沿着评分误差越来越小的方向迭代进行，直到误差达到要求."
   ]
  },
  {
   "cell_type": "code",
   "execution_count": 10,
   "metadata": {},
   "outputs": [],
   "source": [
    "#SGD优化\n",
    "bsl_options = {'method': 'sgd','n_epochs': 5}"
   ]
  },
  {
   "cell_type": "markdown",
   "metadata": {},
   "source": [
    "#### KNN算法\n",
    "#### kNN算法是从训练集中找到和新数据最接近的k条记录，然后根据他们的主要分类来决定新数据的类别。\n",
    "#### 计算步骤如下：\n",
    "####    1）算距离：给定测试对象，计算它与训练集中的每个对象的距离\n",
    "####    2）找邻居：圈定距离最近的k个训练对象，作为测试对象的近邻\n",
    "####    3）做分类：根据这k个近邻归属的主要类别，来对测试对象分类"
   ]
  },
  {
   "cell_type": "code",
   "execution_count": 11,
   "metadata": {},
   "outputs": [
    {
     "name": "stdout",
     "output_type": "stream",
     "text": [
      "Estimating biases using sgd...\n",
      "Computing the pearson_baseline similarity matrix...\n",
      "Done computing similarity matrix.\n",
      "RMSE: 0.5705\n",
      "Estimating biases using sgd...\n",
      "Computing the pearson_baseline similarity matrix...\n",
      "Done computing similarity matrix.\n",
      "RMSE: 0.5725\n",
      "Estimating biases using sgd...\n",
      "Computing the pearson_baseline similarity matrix...\n",
      "Done computing similarity matrix.\n",
      "RMSE: 0.5736\n",
      "Estimating biases using sgd...\n",
      "Computing the pearson_baseline similarity matrix...\n",
      "Done computing similarity matrix.\n",
      "RMSE: 0.5719\n",
      "user: 100        item: 250        r_ui = 4.00   est = 2.93   {'actual_k': 20, 'was_impossible': False}\n"
     ]
    }
   ],
   "source": [
    "sim_options = {'name': 'pearson_baseline'}\n",
    "algo = KNNBasic(bsl_options=bsl_options, sim_options=sim_options)\n",
    "# 定义K折交叉验证迭代器，K=4\n",
    "kf = KFold(n_splits=4)\n",
    "for trainset, testset in kf.split(data):\n",
    "    algo.fit(train_set)\n",
    "    predictions = algo.test(testset)\n",
    "    # 计算RMSE\n",
    "    accuracy.rmse(predictions, verbose=True)\n",
    "# 对指定用户和商品进行评分预测\n",
    "uid = str(100) \n",
    "iid = str(250) \n",
    "pred_knn = algo.predict(uid, iid, r_ui=4, verbose=True)"
   ]
  },
  {
   "cell_type": "markdown",
   "metadata": {},
   "source": [
    "#### Normalpredict算法\n",
    "#### Normal Perdictor 认为用户对物品的评分是服从正态分布的，从而可以根据已有的评分的均值和方差 预测当前用户对其他物品评分的分数。\n"
   ]
  },
  {
   "cell_type": "code",
   "execution_count": 12,
   "metadata": {},
   "outputs": [
    {
     "name": "stdout",
     "output_type": "stream",
     "text": [
      "RMSE: 1.4330\n",
      "RMSE: 1.4294\n",
      "RMSE: 1.4313\n",
      "RMSE: 1.4324\n",
      "user: 100        item: 250        r_ui = 4.00   est = 2.78   {'was_impossible': False}\n"
     ]
    }
   ],
   "source": [
    "\n",
    "algo = NormalPredictor()\n",
    "# 定义K折交叉验证迭代器，K=4\n",
    "kf = KFold(n_splits=4)\n",
    "for trainset, testset in kf.split(data):\n",
    "    algo.fit(train_set)\n",
    "    predictions = algo.test(testset)\n",
    "    # 计算RMSE\n",
    "    accuracy.rmse(predictions, verbose=True)\n",
    "# 对指定用户和商品进行评分预测\n",
    "uid = str(100) \n",
    "iid = str(250) \n",
    "pred_norm = algo.predict(uid, iid, r_ui=4, verbose=True)"
   ]
  },
  {
   "cell_type": "markdown",
   "metadata": {},
   "source": [
    "#### 从以上使用的4种算法的RMSE指标来看,对于这个movielens数据集来说,或许knn算法是一个不错的算法.\n",
    "#### PS:本人的笔记本内存只有8G,所以kfold的k只设到4,否则,slopeone算法就让我的电脑卡死了..."
   ]
  }
 ],
 "metadata": {
  "kernelspec": {
   "display_name": "Python 3",
   "language": "python",
   "name": "python3"
  },
  "language_info": {
   "codemirror_mode": {
    "name": "ipython",
    "version": 3
   },
   "file_extension": ".py",
   "mimetype": "text/x-python",
   "name": "python",
   "nbconvert_exporter": "python",
   "pygments_lexer": "ipython3",
   "version": "3.8.3"
  },
  "varInspector": {
   "cols": {
    "lenName": 16,
    "lenType": 16,
    "lenVar": 40
   },
   "kernels_config": {
    "python": {
     "delete_cmd_postfix": "",
     "delete_cmd_prefix": "del ",
     "library": "var_list.py",
     "varRefreshCmd": "print(var_dic_list())"
    },
    "r": {
     "delete_cmd_postfix": ") ",
     "delete_cmd_prefix": "rm(",
     "library": "var_list.r",
     "varRefreshCmd": "cat(var_dic_list()) "
    }
   },
   "types_to_exclude": [
    "module",
    "function",
    "builtin_function_or_method",
    "instance",
    "_Feature"
   ],
   "window_display": false
  }
 },
 "nbformat": 4,
 "nbformat_minor": 4
}
