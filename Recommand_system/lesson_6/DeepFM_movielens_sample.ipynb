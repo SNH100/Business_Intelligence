{
  "nbformat": 4,
  "nbformat_minor": 0,
  "metadata": {
    "colab": {
      "name": "DeepFM_movielens_sample",
      "provenance": []
    },
    "kernelspec": {
      "name": "python3",
      "display_name": "Python 3"
    }
  },
  "cells": [
    {
      "cell_type": "code",
      "metadata": {
        "colab": {
          "base_uri": "https://localhost:8080/"
        },
        "id": "sF51tTHQqBws",
        "outputId": "23a2acfb-7242-436c-ff2c-52bd6d155bcf"
      },
      "source": [
        "!pip install deepctr==0.7.0"
      ],
      "execution_count": 1,
      "outputs": [
        {
          "output_type": "stream",
          "text": [
            "Requirement already satisfied: deepctr==0.7.0 in /usr/local/lib/python3.6/dist-packages (0.7.0)\n",
            "Requirement already satisfied: h5py in /usr/local/lib/python3.6/dist-packages (from deepctr==0.7.0) (2.10.0)\n",
            "Requirement already satisfied: requests in /usr/local/lib/python3.6/dist-packages (from deepctr==0.7.0) (2.23.0)\n",
            "Requirement already satisfied: six in /usr/local/lib/python3.6/dist-packages (from h5py->deepctr==0.7.0) (1.15.0)\n",
            "Requirement already satisfied: numpy>=1.7 in /usr/local/lib/python3.6/dist-packages (from h5py->deepctr==0.7.0) (1.18.5)\n",
            "Requirement already satisfied: idna<3,>=2.5 in /usr/local/lib/python3.6/dist-packages (from requests->deepctr==0.7.0) (2.10)\n",
            "Requirement already satisfied: urllib3!=1.25.0,!=1.25.1,<1.26,>=1.21.1 in /usr/local/lib/python3.6/dist-packages (from requests->deepctr==0.7.0) (1.24.3)\n",
            "Requirement already satisfied: chardet<4,>=3.0.2 in /usr/local/lib/python3.6/dist-packages (from requests->deepctr==0.7.0) (3.0.4)\n",
            "Requirement already satisfied: certifi>=2017.4.17 in /usr/local/lib/python3.6/dist-packages (from requests->deepctr==0.7.0) (2020.11.8)\n"
          ],
          "name": "stdout"
        }
      ]
    },
    {
      "cell_type": "code",
      "metadata": {
        "colab": {
          "base_uri": "https://localhost:8080/"
        },
        "id": "7jxaxqNkuNF-",
        "outputId": "ad0a7030-86a1-4ef6-c2f5-e3c3ef4bf557"
      },
      "source": [
        "!pip install tensorflow==1.15"
      ],
      "execution_count": 2,
      "outputs": [
        {
          "output_type": "stream",
          "text": [
            "Requirement already satisfied: tensorflow==1.15 in /usr/local/lib/python3.6/dist-packages (1.15.0)\n",
            "Requirement already satisfied: tensorflow-estimator==1.15.1 in /usr/local/lib/python3.6/dist-packages (from tensorflow==1.15) (1.15.1)\n",
            "Requirement already satisfied: numpy<2.0,>=1.16.0 in /usr/local/lib/python3.6/dist-packages (from tensorflow==1.15) (1.18.5)\n",
            "Requirement already satisfied: wrapt>=1.11.1 in /usr/local/lib/python3.6/dist-packages (from tensorflow==1.15) (1.12.1)\n",
            "Requirement already satisfied: google-pasta>=0.1.6 in /usr/local/lib/python3.6/dist-packages (from tensorflow==1.15) (0.2.0)\n",
            "Requirement already satisfied: gast==0.2.2 in /usr/local/lib/python3.6/dist-packages (from tensorflow==1.15) (0.2.2)\n",
            "Requirement already satisfied: six>=1.10.0 in /usr/local/lib/python3.6/dist-packages (from tensorflow==1.15) (1.15.0)\n",
            "Requirement already satisfied: tensorboard<1.16.0,>=1.15.0 in /usr/local/lib/python3.6/dist-packages (from tensorflow==1.15) (1.15.0)\n",
            "Requirement already satisfied: astor>=0.6.0 in /usr/local/lib/python3.6/dist-packages (from tensorflow==1.15) (0.8.1)\n",
            "Requirement already satisfied: opt-einsum>=2.3.2 in /usr/local/lib/python3.6/dist-packages (from tensorflow==1.15) (3.3.0)\n",
            "Requirement already satisfied: keras-preprocessing>=1.0.5 in /usr/local/lib/python3.6/dist-packages (from tensorflow==1.15) (1.1.2)\n",
            "Requirement already satisfied: termcolor>=1.1.0 in /usr/local/lib/python3.6/dist-packages (from tensorflow==1.15) (1.1.0)\n",
            "Requirement already satisfied: wheel>=0.26 in /usr/local/lib/python3.6/dist-packages (from tensorflow==1.15) (0.35.1)\n",
            "Requirement already satisfied: absl-py>=0.7.0 in /usr/local/lib/python3.6/dist-packages (from tensorflow==1.15) (0.10.0)\n",
            "Requirement already satisfied: keras-applications>=1.0.8 in /usr/local/lib/python3.6/dist-packages (from tensorflow==1.15) (1.0.8)\n",
            "Requirement already satisfied: protobuf>=3.6.1 in /usr/local/lib/python3.6/dist-packages (from tensorflow==1.15) (3.12.4)\n",
            "Requirement already satisfied: grpcio>=1.8.6 in /usr/local/lib/python3.6/dist-packages (from tensorflow==1.15) (1.33.2)\n",
            "Requirement already satisfied: markdown>=2.6.8 in /usr/local/lib/python3.6/dist-packages (from tensorboard<1.16.0,>=1.15.0->tensorflow==1.15) (3.3.3)\n",
            "Requirement already satisfied: setuptools>=41.0.0 in /usr/local/lib/python3.6/dist-packages (from tensorboard<1.16.0,>=1.15.0->tensorflow==1.15) (50.3.2)\n",
            "Requirement already satisfied: werkzeug>=0.11.15 in /usr/local/lib/python3.6/dist-packages (from tensorboard<1.16.0,>=1.15.0->tensorflow==1.15) (1.0.1)\n",
            "Requirement already satisfied: h5py in /usr/local/lib/python3.6/dist-packages (from keras-applications>=1.0.8->tensorflow==1.15) (2.10.0)\n",
            "Requirement already satisfied: importlib-metadata; python_version < \"3.8\" in /usr/local/lib/python3.6/dist-packages (from markdown>=2.6.8->tensorboard<1.16.0,>=1.15.0->tensorflow==1.15) (2.0.0)\n",
            "Requirement already satisfied: zipp>=0.5 in /usr/local/lib/python3.6/dist-packages (from importlib-metadata; python_version < \"3.8\"->markdown>=2.6.8->tensorboard<1.16.0,>=1.15.0->tensorflow==1.15) (3.4.0)\n"
          ],
          "name": "stdout"
        }
      ]
    },
    {
      "cell_type": "code",
      "metadata": {
        "colab": {
          "base_uri": "https://localhost:8080/"
        },
        "id": "mdo729ndqG_L",
        "outputId": "acb0320b-d515-4a06-a78d-0ec6f382b0ef"
      },
      "source": [
        "from google.colab import drive\r\n",
        "drive.mount('/content/drive')\r\n",
        "import os\r\n",
        "os.chdir(\"/content/drive/My Drive/Colab Notebooks/\")"
      ],
      "execution_count": 3,
      "outputs": [
        {
          "output_type": "stream",
          "text": [
            "Drive already mounted at /content/drive; to attempt to forcibly remount, call drive.mount(\"/content/drive\", force_remount=True).\n"
          ],
          "name": "stdout"
        }
      ]
    },
    {
      "cell_type": "code",
      "metadata": {
        "colab": {
          "base_uri": "https://localhost:8080/"
        },
        "id": "t2UIhiLVqczs",
        "outputId": "af137834-76d6-4ada-9fa1-5fb195d49bb0"
      },
      "source": [
        "import pandas as pd\r\n",
        "from sklearn.metrics import mean_squared_error\r\n",
        "from sklearn.model_selection import train_test_split\r\n",
        "from sklearn.preprocessing import LabelEncoder\r\n",
        "from deepctr.models import DeepFM\r\n",
        "from deepctr.inputs import SparseFeat, get_feature_names"
      ],
      "execution_count": 4,
      "outputs": [
        {
          "output_type": "stream",
          "text": [
            "WARNING:root:\n",
            "DeepCTR version 0.8.2 detected. Your version is 0.7.0.\n",
            "Use `pip install -U deepctr` to upgrade.Changelog: https://github.com/shenweichen/DeepCTR/releases/tag/v0.8.2\n"
          ],
          "name": "stderr"
        }
      ]
    },
    {
      "cell_type": "code",
      "metadata": {
        "colab": {
          "base_uri": "https://localhost:8080/"
        },
        "id": "t7azYqzTqzgm",
        "outputId": "76ad343a-e84d-49c3-dd1d-3e65dd3024ba"
      },
      "source": [
        "if __name__ == \"__main__\":\r\n",
        "\r\n",
        "    data = pd.read_csv(\"./movielens_sample.txt\")\r\n",
        "    sparse_features = [\"movie_id\", \"user_id\",\r\n",
        "                       \"gender\", \"age\", \"occupation\", \"zip\"]\r\n",
        "    target = ['rating']\r\n",
        "\r\n",
        "    # 1.Label Encoding for sparse features,and do simple Transformation for dense features\r\n",
        "    for feat in sparse_features:\r\n",
        "        lbe = LabelEncoder()\r\n",
        "        data[feat] = lbe.fit_transform(data[feat])\r\n",
        "    # 2.count #unique features for each sparse field\r\n",
        "    fixlen_feature_columns = [SparseFeat(feat, data[feat].nunique(),embedding_dim=4)\r\n",
        "                              for feat in sparse_features]\r\n",
        "    linear_feature_columns = fixlen_feature_columns\r\n",
        "    dnn_feature_columns = fixlen_feature_columns\r\n",
        "    feature_names = get_feature_names(linear_feature_columns + dnn_feature_columns)\r\n",
        "\r\n",
        "    # 3.generate input data for model\r\n",
        "    train, test = train_test_split(data, test_size=0.2, random_state=2020)\r\n",
        "    train_model_input = {name:train[name].values for name in feature_names}\r\n",
        "    test_model_input = {name:test[name].values for name in feature_names}\r\n",
        "\r\n",
        "    # 4.Define Model,train,predict and evaluate\r\n",
        "    model = DeepFM(linear_feature_columns, dnn_feature_columns, task='regression')\r\n",
        "    model.compile(\"adam\", \"mse\", metrics=['mse'], )\r\n",
        "\r\n",
        "    history = model.fit(train_model_input, train[target].values,\r\n",
        "                        batch_size=256, epochs=10, verbose=2, validation_split=0.2, )\r\n",
        "    pred_ans = model.predict(test_model_input, batch_size=256)\r\n",
        "    # 5.output RMSE\r\n",
        "    mse = round(mean_squared_error(test[target].values, pred_ans), 4)\r\n",
        "    rmse = mse ** 0.5\r\n",
        "    print(\"test RMSE\", rmse)"
      ],
      "execution_count": 5,
      "outputs": [
        {
          "output_type": "stream",
          "text": [
            "WARNING:tensorflow:From /usr/local/lib/python3.6/dist-packages/tensorflow_core/python/keras/initializers.py:143: calling RandomNormal.__init__ (from tensorflow.python.ops.init_ops) with dtype is deprecated and will be removed in a future version.\n",
            "Instructions for updating:\n",
            "Call initializer instance with the dtype argument instead of passing it to the constructor\n"
          ],
          "name": "stdout"
        },
        {
          "output_type": "stream",
          "text": [
            "WARNING:tensorflow:From /usr/local/lib/python3.6/dist-packages/tensorflow_core/python/keras/initializers.py:143: calling RandomNormal.__init__ (from tensorflow.python.ops.init_ops) with dtype is deprecated and will be removed in a future version.\n",
            "Instructions for updating:\n",
            "Call initializer instance with the dtype argument instead of passing it to the constructor\n"
          ],
          "name": "stderr"
        },
        {
          "output_type": "stream",
          "text": [
            "WARNING:tensorflow:From /usr/local/lib/python3.6/dist-packages/tensorflow_core/python/ops/resource_variable_ops.py:1630: calling BaseResourceVariable.__init__ (from tensorflow.python.ops.resource_variable_ops) with constraint is deprecated and will be removed in a future version.\n",
            "Instructions for updating:\n",
            "If using Keras pass *_constraint arguments to layers.\n"
          ],
          "name": "stdout"
        },
        {
          "output_type": "stream",
          "text": [
            "WARNING:tensorflow:From /usr/local/lib/python3.6/dist-packages/tensorflow_core/python/ops/resource_variable_ops.py:1630: calling BaseResourceVariable.__init__ (from tensorflow.python.ops.resource_variable_ops) with constraint is deprecated and will be removed in a future version.\n",
            "Instructions for updating:\n",
            "If using Keras pass *_constraint arguments to layers.\n"
          ],
          "name": "stderr"
        },
        {
          "output_type": "stream",
          "text": [
            "WARNING:tensorflow:From /usr/local/lib/python3.6/dist-packages/deepctr/layers/utils.py:152: calling reduce_sum_v1 (from tensorflow.python.ops.math_ops) with keep_dims is deprecated and will be removed in a future version.\n",
            "Instructions for updating:\n",
            "keep_dims is deprecated, use keepdims instead\n"
          ],
          "name": "stdout"
        },
        {
          "output_type": "stream",
          "text": [
            "WARNING:tensorflow:From /usr/local/lib/python3.6/dist-packages/deepctr/layers/utils.py:152: calling reduce_sum_v1 (from tensorflow.python.ops.math_ops) with keep_dims is deprecated and will be removed in a future version.\n",
            "Instructions for updating:\n",
            "keep_dims is deprecated, use keepdims instead\n"
          ],
          "name": "stderr"
        },
        {
          "output_type": "stream",
          "text": [
            "Train on 128 samples, validate on 32 samples\n",
            "Epoch 1/10\n",
            "128/128 - 0s - loss: 13.4150 - mean_squared_error: 13.4150 - val_loss: 15.6358 - val_mean_squared_error: 15.6358\n",
            "Epoch 2/10\n",
            "128/128 - 0s - loss: 13.1720 - mean_squared_error: 13.1720 - val_loss: 15.4529 - val_mean_squared_error: 15.4529\n",
            "Epoch 3/10\n",
            "128/128 - 0s - loss: 12.9245 - mean_squared_error: 12.9245 - val_loss: 15.2625 - val_mean_squared_error: 15.2625\n",
            "Epoch 4/10\n",
            "128/128 - 0s - loss: 12.6707 - mean_squared_error: 12.6707 - val_loss: 15.0649 - val_mean_squared_error: 15.0649\n",
            "Epoch 5/10\n",
            "128/128 - 0s - loss: 12.4110 - mean_squared_error: 12.4110 - val_loss: 14.8601 - val_mean_squared_error: 14.8601\n",
            "Epoch 6/10\n",
            "128/128 - 0s - loss: 12.1454 - mean_squared_error: 12.1454 - val_loss: 14.6478 - val_mean_squared_error: 14.6478\n",
            "Epoch 7/10\n",
            "128/128 - 0s - loss: 11.8734 - mean_squared_error: 11.8734 - val_loss: 14.4277 - val_mean_squared_error: 14.4277\n",
            "Epoch 8/10\n",
            "128/128 - 0s - loss: 11.5946 - mean_squared_error: 11.5946 - val_loss: 14.1991 - val_mean_squared_error: 14.1990\n",
            "Epoch 9/10\n",
            "128/128 - 0s - loss: 11.3084 - mean_squared_error: 11.3084 - val_loss: 13.9613 - val_mean_squared_error: 13.9613\n",
            "Epoch 10/10\n",
            "128/128 - 0s - loss: 11.0142 - mean_squared_error: 11.0142 - val_loss: 13.7135 - val_mean_squared_error: 13.7135\n",
            "test RMSE 3.6166835637086083\n"
          ],
          "name": "stdout"
        }
      ]
    }
  ]
}