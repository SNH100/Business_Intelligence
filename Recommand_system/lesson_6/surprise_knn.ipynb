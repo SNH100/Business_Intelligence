{
  "nbformat": 4,
  "nbformat_minor": 0,
  "metadata": {
    "accelerator": "TPU",
    "colab": {
      "name": "surprise_knn.ipynb",
      "provenance": []
    },
    "kernelspec": {
      "display_name": "Python 3",
      "name": "python3"
    }
  },
  "cells": [
    {
      "cell_type": "code",
      "metadata": {
        "colab": {
          "base_uri": "https://localhost:8080/"
        },
        "id": "nzufZJt-0gKv",
        "outputId": "ecb737f9-adf7-42e2-e5f1-ca0d9231ac39"
      },
      "source": [
        "!pip install surprise"
      ],
      "execution_count": 1,
      "outputs": [
        {
          "output_type": "stream",
          "text": [
            "Collecting surprise\n",
            "  Downloading https://files.pythonhosted.org/packages/61/de/e5cba8682201fcf9c3719a6fdda95693468ed061945493dea2dd37c5618b/surprise-0.1-py2.py3-none-any.whl\n",
            "Collecting scikit-surprise\n",
            "\u001b[?25l  Downloading https://files.pythonhosted.org/packages/97/37/5d334adaf5ddd65da99fc65f6507e0e4599d092ba048f4302fe8775619e8/scikit-surprise-1.1.1.tar.gz (11.8MB)\n",
            "\u001b[K     |████████████████████████████████| 11.8MB 6.2MB/s \n",
            "\u001b[?25hRequirement already satisfied: joblib>=0.11 in /usr/local/lib/python3.6/dist-packages (from scikit-surprise->surprise) (0.17.0)\n",
            "Requirement already satisfied: numpy>=1.11.2 in /usr/local/lib/python3.6/dist-packages (from scikit-surprise->surprise) (1.18.5)\n",
            "Requirement already satisfied: scipy>=1.0.0 in /usr/local/lib/python3.6/dist-packages (from scikit-surprise->surprise) (1.4.1)\n",
            "Requirement already satisfied: six>=1.10.0 in /usr/local/lib/python3.6/dist-packages (from scikit-surprise->surprise) (1.15.0)\n",
            "Building wheels for collected packages: scikit-surprise\n",
            "  Building wheel for scikit-surprise (setup.py) ... \u001b[?25l\u001b[?25hdone\n",
            "  Created wheel for scikit-surprise: filename=scikit_surprise-1.1.1-cp36-cp36m-linux_x86_64.whl size=1670933 sha256=0e1cb6824b7c1f4cdb53a37e155b581fa4426cfe1129f62642b0bf42715ad1e5\n",
            "  Stored in directory: /root/.cache/pip/wheels/78/9c/3d/41b419c9d2aff5b6e2b4c0fc8d25c538202834058f9ed110d0\n",
            "Successfully built scikit-surprise\n",
            "Installing collected packages: scikit-surprise, surprise\n",
            "Successfully installed scikit-surprise-1.1.1 surprise-0.1\n"
          ],
          "name": "stdout"
        }
      ]
    },
    {
      "cell_type": "code",
      "metadata": {
        "colab": {
          "base_uri": "https://localhost:8080/"
        },
        "id": "0ZbVXngm0oPp",
        "outputId": "d244581f-9539-4e92-df4b-ecd47c3abf40"
      },
      "source": [
        "from google.colab import drive\r\n",
        "drive.mount('/content/drive')\r\n",
        "import os\r\n",
        "os.chdir(\"/content/drive/My Drive/Colab Notebooks/\")"
      ],
      "execution_count": 2,
      "outputs": [
        {
          "output_type": "stream",
          "text": [
            "Mounted at /content/drive\n"
          ],
          "name": "stdout"
        }
      ]
    },
    {
      "cell_type": "code",
      "metadata": {
        "id": "QXjbtiIK0yNK"
      },
      "source": [
        "from surprise import KNNBasic,KNNWithMeans,KNNWithZScore\r\n",
        "from surprise import Dataset\r\n",
        "from surprise.model_selection import cross_validate\r\n",
        "from surprise import Reader\r\n",
        "from surprise import accuracy\r\n",
        "from surprise.model_selection import KFold\r\n",
        "import pandas as pd\r\n",
        "import time"
      ],
      "execution_count": 3,
      "outputs": []
    },
    {
      "cell_type": "code",
      "metadata": {
        "id": "whCye3jp2qa-"
      },
      "source": [
        "# 数据读取\r\n",
        "reader = Reader(line_format='user item rating timestamp', sep=',', skip_lines=1)\r\n",
        "data = Dataset.load_from_file('ratings.csv', reader=reader)\r\n",
        "train_set = data.build_full_trainset()"
      ],
      "execution_count": 4,
      "outputs": []
    },
    {
      "cell_type": "code",
      "metadata": {
        "colab": {
          "base_uri": "https://localhost:8080/"
        },
        "id": "NcbUUmBT1cl9",
        "outputId": "6659847b-04f1-442f-b767-49060f664be7"
      },
      "source": [
        "# KNNbasic\r\n",
        "time1=time.time()\r\n",
        "algo = KNNBasic(k=40, sim_options={'user_based': False, 'verbose': 'True'})\r\n",
        "# 定义K折交叉验证迭代器，K=3\r\n",
        "kf = KFold(n_splits=3)\r\n",
        "for trainset, testset in kf.split(data):\r\n",
        "    algo.fit(train_set)\r\n",
        "    predictions = algo.test(testset)\r\n",
        "    # 计算RMSE,MAE\r\n",
        "    accuracy.rmse(predictions, verbose=True)\r\n",
        "    accuracy.mae(predictions, verbose=True)\r\n",
        "# 对指定用户和商品进行评分预测\r\n",
        "uid = str(100) \r\n",
        "iid = str(250) \r\n",
        "pred_knn = algo.predict(uid, iid, r_ui=4, verbose=True)\r\n",
        "time2=time.time()\r\n",
        "print(time2-time1)"
      ],
      "execution_count": 8,
      "outputs": [
        {
          "output_type": "stream",
          "text": [
            "Computing the msd similarity matrix...\n",
            "Done computing similarity matrix.\n",
            "RMSE: 0.6478\n",
            "MAE:  0.4666\n",
            "Computing the msd similarity matrix...\n",
            "Done computing similarity matrix.\n",
            "RMSE: 0.6475\n",
            "MAE:  0.4655\n",
            "Computing the msd similarity matrix...\n",
            "Done computing similarity matrix.\n",
            "RMSE: 0.6479\n",
            "MAE:  0.4664\n",
            "user: 100        item: 250        r_ui = 4.00   est = 3.41   {'actual_k': 40, 'was_impossible': False}\n",
            "524.9979622364044\n"
          ],
          "name": "stdout"
        }
      ]
    },
    {
      "cell_type": "code",
      "metadata": {
        "colab": {
          "base_uri": "https://localhost:8080/"
        },
        "id": "F5sDt6MK6o2x",
        "outputId": "71bcfe73-8a87-4bf3-9e91-acaf8b4fc346"
      },
      "source": [
        "# KNNwithMeans\r\n",
        "time3=time.time()\r\n",
        "algo = KNNWithMeans(k=50, sim_options={'user_based': False, 'verbose': 'True'})\r\n",
        "# 定义K折交叉验证迭代器，K=3\r\n",
        "kf = KFold(n_splits=3)\r\n",
        "for trainset, testset in kf.split(data):\r\n",
        "    algo.fit(train_set)\r\n",
        "    predictions = algo.test(testset)\r\n",
        "    # 计算RMSE,MAE\r\n",
        "    accuracy.rmse(predictions, verbose=True)\r\n",
        "    accuracy.mae(predictions,verbose=True)\r\n",
        "# 对指定用户和商品进行评分预测\r\n",
        "uid = str(100) \r\n",
        "iid = str(250) \r\n",
        "pred = algo.predict(uid, iid, r_ui=4, verbose=True)\r\n",
        "time4=time.time()\r\n",
        "print(time4-time3)"
      ],
      "execution_count": 6,
      "outputs": [
        {
          "output_type": "stream",
          "text": [
            "Computing the msd similarity matrix...\n",
            "Done computing similarity matrix.\n",
            "RMSE: 0.6774\n",
            "MAE:  0.5118\n",
            "Computing the msd similarity matrix...\n",
            "Done computing similarity matrix.\n",
            "RMSE: 0.6770\n",
            "MAE:  0.5123\n",
            "Computing the msd similarity matrix...\n",
            "Done computing similarity matrix.\n",
            "RMSE: 0.6772\n",
            "MAE:  0.5122\n",
            "user: 100        item: 250        r_ui = 4.00   est = 2.92   {'actual_k': 50, 'was_impossible': False}\n",
            "565.0355045795441\n"
          ],
          "name": "stdout"
        }
      ]
    },
    {
      "cell_type": "code",
      "metadata": {
        "colab": {
          "base_uri": "https://localhost:8080/"
        },
        "id": "7F3wM7v67EID",
        "outputId": "1b3b9352-3be7-42dd-dd98-762d5a17af8a"
      },
      "source": [
        "# KNNwithZScore\r\n",
        "time5=time.time()\r\n",
        "algo = KNNWithZScore(k=40, sim_options={'user_based': False, 'verbose': 'True'})\r\n",
        "# 定义K折交叉验证迭代器，K=3\r\n",
        "kf = KFold(n_splits=3)\r\n",
        "for trainset, testset in kf.split(data):\r\n",
        "    algo.fit(train_set)\r\n",
        "    predictions = algo.test(testset)\r\n",
        "    # 计算MAE,MAE\r\n",
        "    accuracy.rmse(predictions,verbose=True)\r\n",
        "    accuracy.mae(predictions, verbose=True)\r\n",
        "# 对指定用户和商品进行评分预测\r\n",
        "uid = str(100) \r\n",
        "iid = str(250) \r\n",
        "pred = algo.predict(uid, iid, r_ui=4, verbose=True)\r\n",
        "time6=time.time()\r\n",
        "print(time6-time5)"
      ],
      "execution_count": 7,
      "outputs": [
        {
          "output_type": "stream",
          "text": [
            "Computing the msd similarity matrix...\n",
            "Done computing similarity matrix.\n",
            "RMSE: 0.6608\n",
            "MAE:  0.4979\n",
            "Computing the msd similarity matrix...\n",
            "Done computing similarity matrix.\n",
            "RMSE: 0.6590\n",
            "MAE:  0.4963\n",
            "Computing the msd similarity matrix...\n",
            "Done computing similarity matrix.\n",
            "RMSE: 0.6583\n",
            "MAE:  0.4960\n",
            "user: 100        item: 250        r_ui = 4.00   est = 2.88   {'actual_k': 40, 'was_impossible': False}\n",
            "564.2954270839691\n"
          ],
          "name": "stdout"
        }
      ]
    }
  ]
}